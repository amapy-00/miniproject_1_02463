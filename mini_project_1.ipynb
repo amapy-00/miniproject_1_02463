{
 "cells": [
  {
   "cell_type": "markdown",
   "metadata": {},
   "source": [
    "# ImageNet - Bayesian Optimization \n",
    "## 02463 Active ML and Agency - Group BO 2"
   ]
  },
  {
   "cell_type": "code",
   "execution_count": 9,
   "metadata": {},
   "outputs": [],
   "source": [
    "import numpy as np\n",
    "import matplotlib.pyplot as plt\n",
    "import torch\n",
    "import torchvision\n",
    "import torchvision.transforms as transforms\n",
    "\n",
    "import skopt\n",
    "from skopt import gp_minimize\n",
    "import json"
   ]
  },
  {
   "cell_type": "code",
   "execution_count": 10,
   "metadata": {},
   "outputs": [],
   "source": [
    "transform = transforms.Compose(\n",
    "    [transforms.ToTensor(),\n",
    "     transforms.Normalize((0.5, 0.5, 0.5), (0.5, 0.5, 0.5))]\n",
    ")\n",
    "\n",
    "# Download the CIFAR-100 dataset (train and test)\n",
    "trainset = torchvision.datasets.CIFAR100(root='./data', train=True, download=True, transform=transform)\n",
    "testset = torchvision.datasets.CIFAR100(root='./data', train=False, download=True, transform=transform)\n",
    "\n",
    "# Create data loaders - BATCH SIZE IS SUBJECTIVE TO CHANGE \n",
    "trainloader = torch.utils.data.DataLoader(trainset, batch_size=4, shuffle=True, num_workers=2)\n",
    "testloader = torch.utils.data.DataLoader(testset, batch_size=4, shuffle=False, num_workers=2)\n",
    "\n",
    "# Check the data\n",
    "images, labels = next(iter(trainloader))"
   ]
  },
  {
   "cell_type": "code",
   "execution_count": 11,
   "metadata": {},
   "outputs": [
    {
     "name": "stderr",
     "output_type": "stream",
     "text": [
      "GPU available: True (cuda), used: True\n",
      "TPU available: False, using: 0 TPU cores\n",
      "HPU available: False, using: 0 HPUs\n",
      "LOCAL_RANK: 0 - CUDA_VISIBLE_DEVICES: [0]\n",
      "\n",
      "  | Name       | Type              | Params | Mode \n",
      "---------------------------------------------------------\n",
      "0 | features   | Sequential        | 5.1 K  | train\n",
      "1 | avgpool    | AdaptiveAvgPool2d | 0      | train\n",
      "2 | classifier | Sequential        | 5.5 K  | train\n",
      "---------------------------------------------------------\n",
      "10.6 K    Trainable params\n",
      "0         Non-trainable params\n",
      "10.6 K    Total params\n",
      "0.042     Total estimated model params size (MB)\n",
      "13        Modules in train mode\n",
      "0         Modules in eval mode\n"
     ]
    },
    {
     "name": "stdout",
     "output_type": "stream",
     "text": [
      "Epoch 9: 100%|██████████| 32/32 [00:00<00:00, 250.91it/s]"
     ]
    },
    {
     "name": "stderr",
     "output_type": "stream",
     "text": [
      "`Trainer.fit` stopped: `max_epochs=10` reached.\n"
     ]
    },
    {
     "name": "stdout",
     "output_type": "stream",
     "text": [
      "Epoch 9: 100%|██████████| 32/32 [00:00<00:00, 249.01it/s]\n",
      "Test Accuracy: 24.52%\n"
     ]
    }
   ],
   "source": [
    "from train_model import train_model\n",
    "\n",
    "params = {\n",
    "    'module__base_channels': 16,                    # or try: 32\n",
    "    'module__dropout': 0.5,                        # or try: 0.3\n",
    "}\n",
    "# Train for 10 epochs using 1000 training samples (adjust as needed)\n",
    "accuracy = train_model(params, num_epochs=10, n_training_samples=1000)\n",
    "print(f'Test Accuracy: {accuracy * 100:.2f}%')"
   ]
  },
  {
   "cell_type": "code",
   "execution_count": 17,
   "metadata": {},
   "outputs": [
    {
     "name": "stdout",
     "output_type": "stream",
     "text": [
      "Iteration No: 1 started. Evaluating function at random point.\n"
     ]
    },
    {
     "name": "stderr",
     "output_type": "stream",
     "text": [
      "GPU available: True (cuda), used: True\n",
      "TPU available: False, using: 0 TPU cores\n",
      "HPU available: False, using: 0 HPUs\n",
      "/home/ubuntu/miniconda3/envs/02463/lib/python3.13/site-packages/pytorch_lightning/trainer/configuration_validator.py:70: You defined a `validation_step` but have no `val_dataloader`. Skipping val loop.\n",
      "LOCAL_RANK: 0 - CUDA_VISIBLE_DEVICES: [0]\n",
      "\n",
      "  | Name       | Type              | Params | Mode \n",
      "---------------------------------------------------------\n",
      "0 | features   | Sequential        | 18.2 K | train\n",
      "1 | avgpool    | AdaptiveAvgPool2d | 0      | train\n",
      "2 | classifier | Sequential        | 18.1 K | train\n",
      "---------------------------------------------------------\n",
      "36.3 K    Trainable params\n",
      "0         Non-trainable params\n",
      "36.3 K    Total params\n",
      "0.145     Total estimated model params size (MB)\n",
      "13        Modules in train mode\n",
      "0         Modules in eval mode\n"
     ]
    },
    {
     "name": "stdout",
     "output_type": "stream",
     "text": [
      "Epoch 9: 100%|██████████| 157/157 [00:00<00:00, 305.25it/s]"
     ]
    },
    {
     "name": "stderr",
     "output_type": "stream",
     "text": [
      "`Trainer.fit` stopped: `max_epochs=10` reached.\n"
     ]
    },
    {
     "name": "stdout",
     "output_type": "stream",
     "text": [
      "Epoch 9: 100%|██████████| 157/157 [00:00<00:00, 304.72it/s]\n",
      "Iteration No: 1 ended. Evaluation done at random point.\n",
      "Time taken: 6.7950\n",
      "Function value obtained: -0.4197\n",
      "Current minimum: -0.4197\n",
      "Iteration No: 2 started. Evaluating function at random point.\n"
     ]
    },
    {
     "name": "stderr",
     "output_type": "stream",
     "text": [
      "GPU available: True (cuda), used: True\n",
      "TPU available: False, using: 0 TPU cores\n",
      "HPU available: False, using: 0 HPUs\n",
      "LOCAL_RANK: 0 - CUDA_VISIBLE_DEVICES: [0]\n",
      "\n",
      "  | Name       | Type              | Params | Mode \n",
      "---------------------------------------------------------\n",
      "0 | features   | Sequential        | 377 K  | train\n",
      "1 | avgpool    | AdaptiveAvgPool2d | 0      | train\n",
      "2 | classifier | Sequential        | 344 K  | train\n",
      "---------------------------------------------------------\n",
      "722 K     Trainable params\n",
      "0         Non-trainable params\n",
      "722 K     Total params\n",
      "2.888     Total estimated model params size (MB)\n",
      "13        Modules in train mode\n",
      "0         Modules in eval mode\n"
     ]
    },
    {
     "name": "stdout",
     "output_type": "stream",
     "text": [
      "Epoch 9: 100%|██████████| 157/157 [00:00<00:00, 196.10it/s]"
     ]
    },
    {
     "name": "stderr",
     "output_type": "stream",
     "text": [
      "`Trainer.fit` stopped: `max_epochs=10` reached.\n"
     ]
    },
    {
     "name": "stdout",
     "output_type": "stream",
     "text": [
      "Epoch 9: 100%|██████████| 157/157 [00:00<00:00, 195.89it/s]\n",
      "Iteration No: 2 ended. Evaluation done at random point.\n",
      "Time taken: 9.8371\n",
      "Function value obtained: -0.4729\n",
      "Current minimum: -0.4729\n",
      "Iteration No: 3 started. Evaluating function at random point.\n"
     ]
    },
    {
     "name": "stderr",
     "output_type": "stream",
     "text": [
      "GPU available: True (cuda), used: True\n",
      "TPU available: False, using: 0 TPU cores\n",
      "HPU available: False, using: 0 HPUs\n",
      "LOCAL_RANK: 0 - CUDA_VISIBLE_DEVICES: [0]\n",
      "\n",
      "  | Name       | Type              | Params | Mode \n",
      "---------------------------------------------------------\n",
      "0 | features   | Sequential        | 393 K  | train\n",
      "1 | avgpool    | AdaptiveAvgPool2d | 0      | train\n",
      "2 | classifier | Sequential        | 358 K  | train\n",
      "---------------------------------------------------------\n",
      "752 K     Trainable params\n",
      "0         Non-trainable params\n",
      "752 K     Total params\n",
      "3.008     Total estimated model params size (MB)\n",
      "13        Modules in train mode\n",
      "0         Modules in eval mode\n"
     ]
    },
    {
     "name": "stdout",
     "output_type": "stream",
     "text": [
      "Epoch 9: 100%|██████████| 157/157 [00:00<00:00, 176.90it/s]"
     ]
    },
    {
     "name": "stderr",
     "output_type": "stream",
     "text": [
      "`Trainer.fit` stopped: `max_epochs=10` reached.\n"
     ]
    },
    {
     "name": "stdout",
     "output_type": "stream",
     "text": [
      "Epoch 9: 100%|██████████| 157/157 [00:00<00:00, 176.71it/s]\n",
      "Iteration No: 3 ended. Evaluation done at random point.\n",
      "Time taken: 10.6191\n",
      "Function value obtained: -0.4883\n",
      "Current minimum: -0.4883\n",
      "Iteration No: 4 started. Evaluating function at random point.\n"
     ]
    },
    {
     "name": "stderr",
     "output_type": "stream",
     "text": [
      "GPU available: True (cuda), used: True\n",
      "TPU available: False, using: 0 TPU cores\n",
      "HPU available: False, using: 0 HPUs\n",
      "LOCAL_RANK: 0 - CUDA_VISIBLE_DEVICES: [0]\n",
      "\n",
      "  | Name       | Type              | Params | Mode \n",
      "---------------------------------------------------------\n",
      "0 | features   | Sequential        | 525 K  | train\n",
      "1 | avgpool    | AdaptiveAvgPool2d | 0      | train\n",
      "2 | classifier | Sequential        | 477 K  | train\n",
      "---------------------------------------------------------\n",
      "1.0 M     Trainable params\n",
      "0         Non-trainable params\n",
      "1.0 M     Total params\n",
      "4.011     Total estimated model params size (MB)\n",
      "13        Modules in train mode\n",
      "0         Modules in eval mode\n"
     ]
    },
    {
     "name": "stdout",
     "output_type": "stream",
     "text": [
      "Epoch 9: 100%|██████████| 157/157 [00:00<00:00, 160.47it/s]"
     ]
    },
    {
     "name": "stderr",
     "output_type": "stream",
     "text": [
      "`Trainer.fit` stopped: `max_epochs=10` reached.\n"
     ]
    },
    {
     "name": "stdout",
     "output_type": "stream",
     "text": [
      "Epoch 9: 100%|██████████| 157/157 [00:00<00:00, 160.33it/s]\n",
      "Iteration No: 4 ended. Evaluation done at random point.\n",
      "Time taken: 11.4580\n",
      "Function value obtained: -0.4907\n",
      "Current minimum: -0.4907\n",
      "Iteration No: 5 started. Evaluating function at random point.\n"
     ]
    },
    {
     "name": "stderr",
     "output_type": "stream",
     "text": [
      "GPU available: True (cuda), used: True\n",
      "TPU available: False, using: 0 TPU cores\n",
      "HPU available: False, using: 0 HPUs\n",
      "LOCAL_RANK: 0 - CUDA_VISIBLE_DEVICES: [0]\n",
      "\n",
      "  | Name       | Type              | Params | Mode \n",
      "---------------------------------------------------------\n",
      "0 | features   | Sequential        | 120 K  | train\n",
      "1 | avgpool    | AdaptiveAvgPool2d | 0      | train\n",
      "2 | classifier | Sequential        | 112 K  | train\n",
      "---------------------------------------------------------\n",
      "232 K     Trainable params\n",
      "0         Non-trainable params\n",
      "232 K     Total params\n",
      "0.931     Total estimated model params size (MB)\n",
      "13        Modules in train mode\n",
      "0         Modules in eval mode\n"
     ]
    },
    {
     "name": "stdout",
     "output_type": "stream",
     "text": [
      "Epoch 9: 100%|██████████| 157/157 [00:00<00:00, 294.54it/s]"
     ]
    },
    {
     "name": "stderr",
     "output_type": "stream",
     "text": [
      "`Trainer.fit` stopped: `max_epochs=10` reached.\n"
     ]
    },
    {
     "name": "stdout",
     "output_type": "stream",
     "text": [
      "Epoch 9: 100%|██████████| 157/157 [00:00<00:00, 294.05it/s]\n",
      "Iteration No: 5 ended. Evaluation done at random point.\n",
      "Time taken: 6.9233\n",
      "Function value obtained: -0.4740\n",
      "Current minimum: -0.4907\n",
      "Iteration No: 6 started. Searching for the next optimal point.\n"
     ]
    },
    {
     "name": "stderr",
     "output_type": "stream",
     "text": [
      "GPU available: True (cuda), used: True\n",
      "TPU available: False, using: 0 TPU cores\n",
      "HPU available: False, using: 0 HPUs\n",
      "/home/ubuntu/miniconda3/envs/02463/lib/python3.13/site-packages/pytorch_lightning/trainer/configuration_validator.py:70: You defined a `validation_step` but have no `val_dataloader`. Skipping val loop.\n",
      "LOCAL_RANK: 0 - CUDA_VISIBLE_DEVICES: [0]\n",
      "\n",
      "  | Name       | Type              | Params | Mode \n",
      "---------------------------------------------------------\n",
      "0 | features   | Sequential        | 454 K  | train\n",
      "1 | avgpool    | AdaptiveAvgPool2d | 0      | train\n",
      "2 | classifier | Sequential        | 413 K  | train\n",
      "---------------------------------------------------------\n",
      "867 K     Trainable params\n",
      "0         Non-trainable params\n",
      "867 K     Total params\n",
      "3.470     Total estimated model params size (MB)\n",
      "13        Modules in train mode\n",
      "0         Modules in eval mode\n"
     ]
    },
    {
     "name": "stdout",
     "output_type": "stream",
     "text": [
      "Epoch 9: 100%|██████████| 157/157 [00:00<00:00, 172.58it/s]"
     ]
    },
    {
     "name": "stderr",
     "output_type": "stream",
     "text": [
      "`Trainer.fit` stopped: `max_epochs=10` reached.\n"
     ]
    },
    {
     "name": "stdout",
     "output_type": "stream",
     "text": [
      "Epoch 9: 100%|██████████| 157/157 [00:00<00:00, 172.39it/s]\n",
      "Iteration No: 6 ended. Search finished for the next optimal point.\n",
      "Time taken: 10.8788\n",
      "Function value obtained: -0.4998\n",
      "Current minimum: -0.4998\n",
      "Iteration No: 7 started. Searching for the next optimal point.\n"
     ]
    },
    {
     "name": "stderr",
     "output_type": "stream",
     "text": [
      "GPU available: True (cuda), used: True\n",
      "TPU available: False, using: 0 TPU cores\n",
      "HPU available: False, using: 0 HPUs\n",
      "/home/ubuntu/miniconda3/envs/02463/lib/python3.13/site-packages/pytorch_lightning/trainer/configuration_validator.py:70: You defined a `validation_step` but have no `val_dataloader`. Skipping val loop.\n",
      "LOCAL_RANK: 0 - CUDA_VISIBLE_DEVICES: [0]\n",
      "\n",
      "  | Name       | Type              | Params | Mode \n",
      "---------------------------------------------------------\n",
      "0 | features   | Sequential        | 697 K  | train\n",
      "1 | avgpool    | AdaptiveAvgPool2d | 0      | train\n",
      "2 | classifier | Sequential        | 631 K  | train\n",
      "---------------------------------------------------------\n",
      "1.3 M     Trainable params\n",
      "0         Non-trainable params\n",
      "1.3 M     Total params\n",
      "5.317     Total estimated model params size (MB)\n",
      "13        Modules in train mode\n",
      "0         Modules in eval mode\n"
     ]
    },
    {
     "name": "stdout",
     "output_type": "stream",
     "text": [
      "Epoch 9: 100%|██████████| 157/157 [00:01<00:00, 132.27it/s]"
     ]
    },
    {
     "name": "stderr",
     "output_type": "stream",
     "text": [
      "`Trainer.fit` stopped: `max_epochs=10` reached.\n"
     ]
    },
    {
     "name": "stdout",
     "output_type": "stream",
     "text": [
      "Epoch 9: 100%|██████████| 157/157 [00:01<00:00, 132.16it/s]\n",
      "Iteration No: 7 ended. Search finished for the next optimal point.\n",
      "Time taken: 13.9756\n",
      "Function value obtained: -0.4846\n",
      "Current minimum: -0.4998\n",
      "Iteration No: 8 started. Searching for the next optimal point.\n"
     ]
    },
    {
     "name": "stderr",
     "output_type": "stream",
     "text": [
      "GPU available: True (cuda), used: True\n",
      "TPU available: False, using: 0 TPU cores\n",
      "HPU available: False, using: 0 HPUs\n",
      "/home/ubuntu/miniconda3/envs/02463/lib/python3.13/site-packages/pytorch_lightning/trainer/configuration_validator.py:70: You defined a `validation_step` but have no `val_dataloader`. Skipping val loop.\n",
      "LOCAL_RANK: 0 - CUDA_VISIBLE_DEVICES: [0]\n",
      "\n",
      "  | Name       | Type              | Params | Mode \n",
      "---------------------------------------------------------\n",
      "0 | features   | Sequential        | 893 K  | train\n",
      "1 | avgpool    | AdaptiveAvgPool2d | 0      | train\n",
      "2 | classifier | Sequential        | 808 K  | train\n",
      "---------------------------------------------------------\n",
      "1.7 M     Trainable params\n",
      "0         Non-trainable params\n",
      "1.7 M     Total params\n",
      "6.807     Total estimated model params size (MB)\n",
      "13        Modules in train mode\n",
      "0         Modules in eval mode\n"
     ]
    },
    {
     "name": "stdout",
     "output_type": "stream",
     "text": [
      "Epoch 9: 100%|██████████| 157/157 [00:01<00:00, 116.54it/s]"
     ]
    },
    {
     "name": "stderr",
     "output_type": "stream",
     "text": [
      "`Trainer.fit` stopped: `max_epochs=10` reached.\n"
     ]
    },
    {
     "name": "stdout",
     "output_type": "stream",
     "text": [
      "Epoch 9: 100%|██████████| 157/157 [00:01<00:00, 116.44it/s]\n",
      "Iteration No: 8 ended. Search finished for the next optimal point.\n",
      "Time taken: 15.5769\n",
      "Function value obtained: -0.5146\n",
      "Current minimum: -0.5146\n",
      "Iteration No: 9 started. Searching for the next optimal point.\n"
     ]
    },
    {
     "name": "stderr",
     "output_type": "stream",
     "text": [
      "GPU available: True (cuda), used: True\n",
      "TPU available: False, using: 0 TPU cores\n",
      "HPU available: False, using: 0 HPUs\n",
      "/home/ubuntu/miniconda3/envs/02463/lib/python3.13/site-packages/pytorch_lightning/trainer/configuration_validator.py:70: You defined a `validation_step` but have no `val_dataloader`. Skipping val loop.\n",
      "LOCAL_RANK: 0 - CUDA_VISIBLE_DEVICES: [0]\n",
      "\n",
      "  | Name       | Type              | Params | Mode \n",
      "---------------------------------------------------------\n",
      "0 | features   | Sequential        | 1.0 M  | train\n",
      "1 | avgpool    | AdaptiveAvgPool2d | 0      | train\n",
      "2 | classifier | Sequential        | 934 K  | train\n",
      "---------------------------------------------------------\n",
      "2.0 M     Trainable params\n",
      "0         Non-trainable params\n",
      "2.0 M     Total params\n",
      "7.881     Total estimated model params size (MB)\n",
      "13        Modules in train mode\n",
      "0         Modules in eval mode\n"
     ]
    },
    {
     "name": "stdout",
     "output_type": "stream",
     "text": [
      "Epoch 9: 100%|██████████| 157/157 [00:01<00:00, 103.56it/s]"
     ]
    },
    {
     "name": "stderr",
     "output_type": "stream",
     "text": [
      "`Trainer.fit` stopped: `max_epochs=10` reached.\n"
     ]
    },
    {
     "name": "stdout",
     "output_type": "stream",
     "text": [
      "Epoch 9: 100%|██████████| 157/157 [00:01<00:00, 103.50it/s]\n",
      "Iteration No: 9 ended. Search finished for the next optimal point.\n",
      "Time taken: 17.5756\n",
      "Function value obtained: -0.5183\n",
      "Current minimum: -0.5183\n",
      "Iteration No: 10 started. Searching for the next optimal point.\n"
     ]
    },
    {
     "name": "stderr",
     "output_type": "stream",
     "text": [
      "GPU available: True (cuda), used: True\n",
      "TPU available: False, using: 0 TPU cores\n",
      "HPU available: False, using: 0 HPUs\n",
      "/home/ubuntu/miniconda3/envs/02463/lib/python3.13/site-packages/pytorch_lightning/trainer/configuration_validator.py:70: You defined a `validation_step` but have no `val_dataloader`. Skipping val loop.\n",
      "LOCAL_RANK: 0 - CUDA_VISIBLE_DEVICES: [0]\n",
      "\n",
      "  | Name       | Type              | Params | Mode \n",
      "---------------------------------------------------------\n",
      "0 | features   | Sequential        | 1.2 M  | train\n",
      "1 | avgpool    | AdaptiveAvgPool2d | 0      | train\n",
      "2 | classifier | Sequential        | 1.1 M  | train\n",
      "---------------------------------------------------------\n",
      "2.3 M     Trainable params\n",
      "0         Non-trainable params\n",
      "2.3 M     Total params\n",
      "9.034     Total estimated model params size (MB)\n",
      "13        Modules in train mode\n",
      "0         Modules in eval mode\n"
     ]
    },
    {
     "name": "stdout",
     "output_type": "stream",
     "text": [
      "Epoch 9: 100%|██████████| 157/157 [00:01<00:00, 108.28it/s]"
     ]
    },
    {
     "name": "stderr",
     "output_type": "stream",
     "text": [
      "`Trainer.fit` stopped: `max_epochs=10` reached.\n"
     ]
    },
    {
     "name": "stdout",
     "output_type": "stream",
     "text": [
      "Epoch 9: 100%|██████████| 157/157 [00:01<00:00, 108.21it/s]\n",
      "Iteration No: 10 ended. Search finished for the next optimal point.\n",
      "Time taken: 16.7130\n",
      "Function value obtained: -0.4907\n",
      "Current minimum: -0.5183\n",
      "Iteration No: 11 started. Searching for the next optimal point.\n"
     ]
    },
    {
     "name": "stderr",
     "output_type": "stream",
     "text": [
      "GPU available: True (cuda), used: True\n",
      "TPU available: False, using: 0 TPU cores\n",
      "HPU available: False, using: 0 HPUs\n",
      "/home/ubuntu/miniconda3/envs/02463/lib/python3.13/site-packages/pytorch_lightning/trainer/configuration_validator.py:70: You defined a `validation_step` but have no `val_dataloader`. Skipping val loop.\n",
      "LOCAL_RANK: 0 - CUDA_VISIBLE_DEVICES: [0]\n",
      "\n",
      "  | Name       | Type              | Params | Mode \n",
      "---------------------------------------------------------\n",
      "0 | features   | Sequential        | 217 K  | train\n",
      "1 | avgpool    | AdaptiveAvgPool2d | 0      | train\n",
      "2 | classifier | Sequential        | 199 K  | train\n",
      "---------------------------------------------------------\n",
      "416 K     Trainable params\n",
      "0         Non-trainable params\n",
      "416 K     Total params\n",
      "1.667     Total estimated model params size (MB)\n",
      "13        Modules in train mode\n",
      "0         Modules in eval mode\n"
     ]
    },
    {
     "name": "stdout",
     "output_type": "stream",
     "text": [
      "Epoch 9: 100%|██████████| 157/157 [00:00<00:00, 283.81it/s]"
     ]
    },
    {
     "name": "stderr",
     "output_type": "stream",
     "text": [
      "`Trainer.fit` stopped: `max_epochs=10` reached.\n"
     ]
    },
    {
     "name": "stdout",
     "output_type": "stream",
     "text": [
      "Epoch 9: 100%|██████████| 157/157 [00:00<00:00, 283.28it/s]\n",
      "Iteration No: 11 ended. Search finished for the next optimal point.\n",
      "Time taken: 7.1102\n",
      "Function value obtained: -0.4660\n",
      "Current minimum: -0.5183\n",
      "Iteration No: 12 started. Searching for the next optimal point.\n"
     ]
    },
    {
     "name": "stderr",
     "output_type": "stream",
     "text": [
      "GPU available: True (cuda), used: True\n",
      "TPU available: False, using: 0 TPU cores\n",
      "HPU available: False, using: 0 HPUs\n",
      "/home/ubuntu/miniconda3/envs/02463/lib/python3.13/site-packages/pytorch_lightning/trainer/configuration_validator.py:70: You defined a `validation_step` but have no `val_dataloader`. Skipping val loop.\n",
      "LOCAL_RANK: 0 - CUDA_VISIBLE_DEVICES: [0]\n",
      "\n",
      "  | Name       | Type              | Params | Mode \n",
      "---------------------------------------------------------\n",
      "0 | features   | Sequential        | 48     | train\n",
      "1 | avgpool    | AdaptiveAvgPool2d | 0      | train\n",
      "2 | classifier | Sequential        | 114    | train\n",
      "---------------------------------------------------------\n",
      "162       Trainable params\n",
      "0         Non-trainable params\n",
      "162       Total params\n",
      "0.001     Total estimated model params size (MB)\n",
      "13        Modules in train mode\n",
      "0         Modules in eval mode\n"
     ]
    },
    {
     "name": "stdout",
     "output_type": "stream",
     "text": [
      "Epoch 9: 100%|██████████| 157/157 [00:00<00:00, 315.71it/s]"
     ]
    },
    {
     "name": "stderr",
     "output_type": "stream",
     "text": [
      "`Trainer.fit` stopped: `max_epochs=10` reached.\n"
     ]
    },
    {
     "name": "stdout",
     "output_type": "stream",
     "text": [
      "Epoch 9: 100%|██████████| 157/157 [00:00<00:00, 315.09it/s]\n",
      "Iteration No: 12 ended. Search finished for the next optimal point.\n",
      "Time taken: 6.4415\n",
      "Function value obtained: -0.1000\n",
      "Current minimum: -0.5183\n",
      "Iteration No: 13 started. Searching for the next optimal point.\n"
     ]
    },
    {
     "name": "stderr",
     "output_type": "stream",
     "text": [
      "GPU available: True (cuda), used: True\n",
      "TPU available: False, using: 0 TPU cores\n",
      "HPU available: False, using: 0 HPUs\n",
      "/home/ubuntu/miniconda3/envs/02463/lib/python3.13/site-packages/pytorch_lightning/trainer/configuration_validator.py:70: You defined a `validation_step` but have no `val_dataloader`. Skipping val loop.\n",
      "LOCAL_RANK: 0 - CUDA_VISIBLE_DEVICES: [0]\n",
      "\n",
      "  | Name       | Type              | Params | Mode \n",
      "---------------------------------------------------------\n",
      "0 | features   | Sequential        | 56.1 K | train\n",
      "1 | avgpool    | AdaptiveAvgPool2d | 0      | train\n",
      "2 | classifier | Sequential        | 53.2 K | train\n",
      "---------------------------------------------------------\n",
      "109 K     Trainable params\n",
      "0         Non-trainable params\n",
      "109 K     Total params\n",
      "0.437     Total estimated model params size (MB)\n",
      "13        Modules in train mode\n",
      "0         Modules in eval mode\n"
     ]
    },
    {
     "name": "stdout",
     "output_type": "stream",
     "text": [
      "Epoch 9: 100%|██████████| 157/157 [00:00<00:00, 303.87it/s]"
     ]
    },
    {
     "name": "stderr",
     "output_type": "stream",
     "text": [
      "`Trainer.fit` stopped: `max_epochs=10` reached.\n"
     ]
    },
    {
     "name": "stdout",
     "output_type": "stream",
     "text": [
      "Epoch 9: 100%|██████████| 157/157 [00:00<00:00, 303.36it/s]\n",
      "Iteration No: 13 ended. Search finished for the next optimal point.\n",
      "Time taken: 6.9204\n",
      "Function value obtained: -0.4473\n",
      "Current minimum: -0.5183\n",
      "Iteration No: 14 started. Searching for the next optimal point.\n"
     ]
    },
    {
     "name": "stderr",
     "output_type": "stream",
     "text": [
      "GPU available: True (cuda), used: True\n",
      "TPU available: False, using: 0 TPU cores\n",
      "HPU available: False, using: 0 HPUs\n",
      "/home/ubuntu/miniconda3/envs/02463/lib/python3.13/site-packages/pytorch_lightning/trainer/configuration_validator.py:70: You defined a `validation_step` but have no `val_dataloader`. Skipping val loop.\n",
      "LOCAL_RANK: 0 - CUDA_VISIBLE_DEVICES: [0]\n",
      "\n",
      "  | Name       | Type              | Params | Mode \n",
      "---------------------------------------------------------\n",
      "0 | features   | Sequential        | 165 K  | train\n",
      "1 | avgpool    | AdaptiveAvgPool2d | 0      | train\n",
      "2 | classifier | Sequential        | 152 K  | train\n",
      "---------------------------------------------------------\n",
      "318 K     Trainable params\n",
      "0         Non-trainable params\n",
      "318 K     Total params\n",
      "1.272     Total estimated model params size (MB)\n",
      "13        Modules in train mode\n",
      "0         Modules in eval mode\n"
     ]
    },
    {
     "name": "stdout",
     "output_type": "stream",
     "text": [
      "Epoch 9: 100%|██████████| 157/157 [00:00<00:00, 299.31it/s]"
     ]
    },
    {
     "name": "stderr",
     "output_type": "stream",
     "text": [
      "`Trainer.fit` stopped: `max_epochs=10` reached.\n"
     ]
    },
    {
     "name": "stdout",
     "output_type": "stream",
     "text": [
      "Epoch 9: 100%|██████████| 157/157 [00:00<00:00, 298.72it/s]\n",
      "Iteration No: 14 ended. Search finished for the next optimal point.\n",
      "Time taken: 6.7592\n",
      "Function value obtained: -0.4713\n",
      "Current minimum: -0.5183\n",
      "Iteration No: 15 started. Searching for the next optimal point.\n"
     ]
    },
    {
     "name": "stderr",
     "output_type": "stream",
     "text": [
      "GPU available: True (cuda), used: True\n",
      "TPU available: False, using: 0 TPU cores\n",
      "HPU available: False, using: 0 HPUs\n",
      "/home/ubuntu/miniconda3/envs/02463/lib/python3.13/site-packages/pytorch_lightning/trainer/configuration_validator.py:70: You defined a `validation_step` but have no `val_dataloader`. Skipping val loop.\n",
      "LOCAL_RANK: 0 - CUDA_VISIBLE_DEVICES: [0]\n",
      "\n",
      "  | Name       | Type              | Params | Mode \n",
      "---------------------------------------------------------\n",
      "0 | features   | Sequential        | 792 K  | train\n",
      "1 | avgpool    | AdaptiveAvgPool2d | 0      | train\n",
      "2 | classifier | Sequential        | 717 K  | train\n",
      "---------------------------------------------------------\n",
      "1.5 M     Trainable params\n",
      "0         Non-trainable params\n",
      "1.5 M     Total params\n",
      "6.039     Total estimated model params size (MB)\n",
      "13        Modules in train mode\n",
      "0         Modules in eval mode\n"
     ]
    },
    {
     "name": "stdout",
     "output_type": "stream",
     "text": [
      "Epoch 9: 100%|██████████| 157/157 [00:01<00:00, 122.27it/s]"
     ]
    },
    {
     "name": "stderr",
     "output_type": "stream",
     "text": [
      "`Trainer.fit` stopped: `max_epochs=10` reached.\n"
     ]
    },
    {
     "name": "stdout",
     "output_type": "stream",
     "text": [
      "Epoch 9: 100%|██████████| 157/157 [00:01<00:00, 122.18it/s]\n",
      "Iteration No: 15 ended. Search finished for the next optimal point.\n",
      "Time taken: 14.9619\n",
      "Function value obtained: -0.5162\n",
      "Current minimum: -0.5183\n",
      "Iteration No: 16 started. Searching for the next optimal point.\n"
     ]
    },
    {
     "name": "stderr",
     "output_type": "stream",
     "text": [
      "GPU available: True (cuda), used: True\n",
      "TPU available: False, using: 0 TPU cores\n",
      "HPU available: False, using: 0 HPUs\n",
      "/home/ubuntu/miniconda3/envs/02463/lib/python3.13/site-packages/pytorch_lightning/trainer/configuration_validator.py:70: You defined a `validation_step` but have no `val_dataloader`. Skipping val loop.\n",
      "LOCAL_RANK: 0 - CUDA_VISIBLE_DEVICES: [0]\n",
      "\n",
      "  | Name       | Type              | Params | Mode \n",
      "---------------------------------------------------------\n",
      "0 | features   | Sequential        | 280 K  | train\n",
      "1 | avgpool    | AdaptiveAvgPool2d | 0      | train\n",
      "2 | classifier | Sequential        | 256 K  | train\n",
      "---------------------------------------------------------\n",
      "537 K     Trainable params\n",
      "0         Non-trainable params\n",
      "537 K     Total params\n",
      "2.150     Total estimated model params size (MB)\n",
      "13        Modules in train mode\n",
      "0         Modules in eval mode\n"
     ]
    },
    {
     "name": "stdout",
     "output_type": "stream",
     "text": [
      "Epoch 9: 100%|██████████| 157/157 [00:00<00:00, 269.42it/s]"
     ]
    },
    {
     "name": "stderr",
     "output_type": "stream",
     "text": [
      "`Trainer.fit` stopped: `max_epochs=10` reached.\n"
     ]
    },
    {
     "name": "stdout",
     "output_type": "stream",
     "text": [
      "Epoch 9: 100%|██████████| 157/157 [00:00<00:00, 268.98it/s]\n",
      "Iteration No: 16 ended. Search finished for the next optimal point.\n",
      "Time taken: 7.4255\n",
      "Function value obtained: -0.4809\n",
      "Current minimum: -0.5183\n",
      "Iteration No: 17 started. Searching for the next optimal point.\n"
     ]
    },
    {
     "name": "stderr",
     "output_type": "stream",
     "text": [
      "GPU available: True (cuda), used: True\n",
      "TPU available: False, using: 0 TPU cores\n",
      "HPU available: False, using: 0 HPUs\n",
      "/home/ubuntu/miniconda3/envs/02463/lib/python3.13/site-packages/pytorch_lightning/trainer/configuration_validator.py:70: You defined a `validation_step` but have no `val_dataloader`. Skipping val loop.\n",
      "LOCAL_RANK: 0 - CUDA_VISIBLE_DEVICES: [0]\n",
      "\n",
      "  | Name       | Type              | Params | Mode \n",
      "---------------------------------------------------------\n",
      "0 | features   | Sequential        | 34.6 K | train\n",
      "1 | avgpool    | AdaptiveAvgPool2d | 0      | train\n",
      "2 | classifier | Sequential        | 33.4 K | train\n",
      "---------------------------------------------------------\n",
      "68.0 K    Trainable params\n",
      "0         Non-trainable params\n",
      "68.0 K    Total params\n",
      "0.272     Total estimated model params size (MB)\n",
      "13        Modules in train mode\n",
      "0         Modules in eval mode\n"
     ]
    },
    {
     "name": "stdout",
     "output_type": "stream",
     "text": [
      "Epoch 9: 100%|██████████| 157/157 [00:00<00:00, 299.74it/s]"
     ]
    },
    {
     "name": "stderr",
     "output_type": "stream",
     "text": [
      "`Trainer.fit` stopped: `max_epochs=10` reached.\n"
     ]
    },
    {
     "name": "stdout",
     "output_type": "stream",
     "text": [
      "Epoch 9: 100%|██████████| 157/157 [00:00<00:00, 299.19it/s]\n",
      "Iteration No: 17 ended. Search finished for the next optimal point.\n",
      "Time taken: 6.6806\n",
      "Function value obtained: -0.4221\n",
      "Current minimum: -0.5183\n",
      "Iteration No: 18 started. Searching for the next optimal point.\n"
     ]
    },
    {
     "name": "stderr",
     "output_type": "stream",
     "text": [
      "GPU available: True (cuda), used: True\n",
      "TPU available: False, using: 0 TPU cores\n",
      "HPU available: False, using: 0 HPUs\n",
      "/home/ubuntu/miniconda3/envs/02463/lib/python3.13/site-packages/pytorch_lightning/trainer/configuration_validator.py:70: You defined a `validation_step` but have no `val_dataloader`. Skipping val loop.\n",
      "LOCAL_RANK: 0 - CUDA_VISIBLE_DEVICES: [0]\n",
      "\n",
      "  | Name       | Type              | Params | Mode \n",
      "---------------------------------------------------------\n",
      "0 | features   | Sequential        | 608 K  | train\n",
      "1 | avgpool    | AdaptiveAvgPool2d | 0      | train\n",
      "2 | classifier | Sequential        | 551 K  | train\n",
      "---------------------------------------------------------\n",
      "1.2 M     Trainable params\n",
      "0         Non-trainable params\n",
      "1.2 M     Total params\n",
      "4.641     Total estimated model params size (MB)\n",
      "13        Modules in train mode\n",
      "0         Modules in eval mode\n"
     ]
    },
    {
     "name": "stdout",
     "output_type": "stream",
     "text": [
      "Epoch 9: 100%|██████████| 157/157 [00:01<00:00, 140.97it/s]"
     ]
    },
    {
     "name": "stderr",
     "output_type": "stream",
     "text": [
      "`Trainer.fit` stopped: `max_epochs=10` reached.\n"
     ]
    },
    {
     "name": "stdout",
     "output_type": "stream",
     "text": [
      "Epoch 9: 100%|██████████| 157/157 [00:01<00:00, 140.84it/s]\n",
      "Iteration No: 18 ended. Search finished for the next optimal point.\n",
      "Time taken: 12.9719\n",
      "Function value obtained: -0.5053\n",
      "Current minimum: -0.5183\n",
      "Iteration No: 19 started. Searching for the next optimal point.\n"
     ]
    },
    {
     "name": "stderr",
     "output_type": "stream",
     "text": [
      "GPU available: True (cuda), used: True\n",
      "TPU available: False, using: 0 TPU cores\n",
      "HPU available: False, using: 0 HPUs\n",
      "/home/ubuntu/miniconda3/envs/02463/lib/python3.13/site-packages/pytorch_lightning/trainer/configuration_validator.py:70: You defined a `validation_step` but have no `val_dataloader`. Skipping val loop.\n",
      "LOCAL_RANK: 0 - CUDA_VISIBLE_DEVICES: [0]\n",
      "\n",
      "  | Name       | Type              | Params | Mode \n",
      "---------------------------------------------------------\n",
      "0 | features   | Sequential        | 85.3 K | train\n",
      "1 | avgpool    | AdaptiveAvgPool2d | 0      | train\n",
      "2 | classifier | Sequential        | 80.0 K | train\n",
      "---------------------------------------------------------\n",
      "165 K     Trainable params\n",
      "0         Non-trainable params\n",
      "165 K     Total params\n",
      "0.661     Total estimated model params size (MB)\n",
      "13        Modules in train mode\n",
      "0         Modules in eval mode\n"
     ]
    },
    {
     "name": "stdout",
     "output_type": "stream",
     "text": [
      "Epoch 1:  56%|█████▌    | 174/313 [12:38<10:06,  0.23it/s] \n",
      "Epoch 1:  56%|█████▌    | 174/313 [12:38<10:06,  0.23it/s] \n",
      "Epoch 1:  56%|█████▌    | 174/313 [12:39<10:06,  0.23it/s] \n",
      "Epoch 1:  56%|█████▌    | 174/313 [12:39<10:06,  0.23it/s] \n",
      "Epoch 1:  56%|█████▌    | 174/313 [12:40<10:07,  0.23it/s] \n",
      "Epoch 1:  56%|█████▌    | 174/313 [12:40<10:07,  0.23it/s] \n",
      "Epoch 1:  56%|█████▌    | 174/313 [12:41<10:07,  0.23it/s] \n",
      "Epoch 1:  56%|█████▌    | 174/313 [12:41<10:07,  0.23it/s] \n",
      "Epoch 1:  56%|█████▌    | 174/313 [12:41<10:08,  0.23it/s] \n",
      "Epoch 1:  56%|█████▌    | 174/313 [12:41<10:08,  0.23it/s] \n",
      "Epoch 1:  56%|█████▌    | 174/313 [12:42<10:09,  0.23it/s] \n",
      "Epoch 1:  56%|█████▌    | 174/313 [12:42<10:09,  0.23it/s] \n",
      "Epoch 1:  56%|█████▌    | 174/313 [12:43<10:09,  0.23it/s] \n",
      "Epoch 1:  56%|█████▌    | 174/313 [12:43<10:09,  0.23it/s] \n",
      "Epoch 1:  56%|█████▌    | 174/313 [12:43<10:10,  0.23it/s] \n",
      "Epoch 1:  56%|█████▌    | 174/313 [12:43<10:10,  0.23it/s] \n",
      "Epoch 1:  56%|█████▌    | 174/313 [12:44<10:10,  0.23it/s] \n",
      "Epoch 1:  56%|█████▌    | 174/313 [12:44<10:11,  0.23it/s] \n",
      "Epoch 9: 100%|██████████| 157/157 [00:00<00:00, 167.19it/s]"
     ]
    },
    {
     "name": "stderr",
     "output_type": "stream",
     "text": [
      "`Trainer.fit` stopped: `max_epochs=10` reached.\n"
     ]
    },
    {
     "name": "stdout",
     "output_type": "stream",
     "text": [
      "Epoch 9: 100%|██████████| 157/157 [00:00<00:00, 167.02it/s]\n",
      "Epoch 1:  56%|█████▌    | 174/313 [12:46<10:12,  0.23it/s] \n",
      "Iteration No: 19 ended. Search finished for the next optimal point.\n",
      "Time taken: 9.2333\n",
      "Function value obtained: -0.4505\n",
      "Current minimum: -0.5183\n",
      "Iteration No: 20 started. Searching for the next optimal point.\n"
     ]
    },
    {
     "name": "stderr",
     "output_type": "stream",
     "text": [
      "GPU available: True (cuda), used: True\n",
      "TPU available: False, using: 0 TPU cores\n",
      "HPU available: False, using: 0 HPUs\n",
      "/home/ubuntu/miniconda3/envs/02463/lib/python3.13/site-packages/pytorch_lightning/trainer/configuration_validator.py:70: You defined a `validation_step` but have no `val_dataloader`. Skipping val loop.\n",
      "LOCAL_RANK: 0 - CUDA_VISIBLE_DEVICES: [0]\n",
      "\n",
      "  | Name       | Type              | Params | Mode \n",
      "---------------------------------------------------------\n",
      "0 | features   | Sequential        | 1.1 M  | train\n",
      "1 | avgpool    | AdaptiveAvgPool2d | 0      | train\n",
      "2 | classifier | Sequential        | 1.0 M  | train\n",
      "---------------------------------------------------------\n",
      "2.1 M     Trainable params\n",
      "0         Non-trainable params\n",
      "2.1 M     Total params\n",
      "8.482     Total estimated model params size (MB)\n",
      "13        Modules in train mode\n",
      "0         Modules in eval mode\n"
     ]
    },
    {
     "name": "stdout",
     "output_type": "stream",
     "text": [
      "Epoch 9: 100%|██████████| 157/157 [00:01<00:00, 103.66it/s]"
     ]
    },
    {
     "name": "stderr",
     "output_type": "stream",
     "text": [
      "`Trainer.fit` stopped: `max_epochs=10` reached.\n"
     ]
    },
    {
     "name": "stdout",
     "output_type": "stream",
     "text": [
      "Epoch 9: 100%|██████████| 157/157 [00:01<00:00, 103.60it/s]\n",
      "Iteration No: 20 ended. Search finished for the next optimal point.\n",
      "Time taken: 17.3228\n",
      "Function value obtained: -0.4949\n",
      "Current minimum: -0.5183\n"
     ]
    }
   ],
   "source": [
    "\n",
    "\n",
    "# Define the search space as follows\n",
    "# params = {\n",
    "#     'module__base_channels': (1,128)\n",
    "#     'module__dropout': (0.0, 0.9)\n",
    "# }\n",
    "\n",
    "space = [\n",
    "    skopt.space.Integer(1, 256, name='module__base_channels'),\n",
    "    # skopt.space.Real(0.0, 0.9, name='module__dropout')\n",
    "]\n",
    "\n",
    "def objective(x):\n",
    "    # Decode the JSON encoded categorical values.\n",
    "    params = {\n",
    "        'module__base_channels': x[0],\n",
    "        # 'module__dropout': x[1] ,\n",
    "    }\n",
    "    \n",
    "    accuracy = train_model(params, num_epochs=10, n_training_samples=5000)\n",
    "    # Return negative accuracy for minimization.\n",
    "    return -accuracy\n",
    "\n",
    "opt_bo = gp_minimize(\n",
    "    objective,\n",
    "    space,\n",
    "    acq_func='EI',\n",
    "    n_calls=20,\n",
    "    n_random_starts=5,\n",
    "    verbose=True,\n",
    "    xi=0.1,\n",
    "    noise=0.01**2\n",
    ")\n"
   ]
  },
  {
   "cell_type": "code",
   "execution_count": 18,
   "metadata": {},
   "outputs": [
    {
     "name": "stdout",
     "output_type": "stream",
     "text": [
      "Iteration No: 1 started. Evaluating function at random point.\n"
     ]
    },
    {
     "name": "stderr",
     "output_type": "stream",
     "text": [
      "GPU available: True (cuda), used: True\n",
      "TPU available: False, using: 0 TPU cores\n",
      "HPU available: False, using: 0 HPUs\n",
      "/home/ubuntu/miniconda3/envs/02463/lib/python3.13/site-packages/pytorch_lightning/trainer/configuration_validator.py:70: You defined a `validation_step` but have no `val_dataloader`. Skipping val loop.\n",
      "LOCAL_RANK: 0 - CUDA_VISIBLE_DEVICES: [0]\n",
      "\n",
      "  | Name       | Type              | Params | Mode \n",
      "---------------------------------------------------------\n",
      "0 | features   | Sequential        | 755 K  | train\n",
      "1 | avgpool    | AdaptiveAvgPool2d | 0      | train\n",
      "2 | classifier | Sequential        | 683 K  | train\n",
      "---------------------------------------------------------\n",
      "1.4 M     Trainable params\n",
      "0         Non-trainable params\n",
      "1.4 M     Total params\n",
      "5.756     Total estimated model params size (MB)\n",
      "13        Modules in train mode\n",
      "0         Modules in eval mode\n"
     ]
    },
    {
     "name": "stdout",
     "output_type": "stream",
     "text": [
      "Epoch 9: 100%|██████████| 157/157 [00:01<00:00, 132.62it/s]"
     ]
    },
    {
     "name": "stderr",
     "output_type": "stream",
     "text": [
      "`Trainer.fit` stopped: `max_epochs=10` reached.\n"
     ]
    },
    {
     "name": "stdout",
     "output_type": "stream",
     "text": [
      "Epoch 9: 100%|██████████| 157/157 [00:01<00:00, 132.53it/s]\n",
      "Iteration No: 1 ended. Evaluation done at random point.\n",
      "Time taken: 13.8748\n",
      "Function value obtained: -0.4951\n",
      "Current minimum: -0.4951\n",
      "Iteration No: 2 started. Evaluating function at random point.\n"
     ]
    },
    {
     "name": "stderr",
     "output_type": "stream",
     "text": [
      "GPU available: True (cuda), used: True\n",
      "TPU available: False, using: 0 TPU cores\n",
      "HPU available: False, using: 0 HPUs\n",
      "LOCAL_RANK: 0 - CUDA_VISIBLE_DEVICES: [0]\n",
      "\n",
      "  | Name       | Type              | Params | Mode \n",
      "---------------------------------------------------------\n",
      "0 | features   | Sequential        | 42.9 K | train\n",
      "1 | avgpool    | AdaptiveAvgPool2d | 0      | train\n",
      "2 | classifier | Sequential        | 41.1 K | train\n",
      "---------------------------------------------------------\n",
      "84.0 K    Trainable params\n",
      "0         Non-trainable params\n",
      "84.0 K    Total params\n",
      "0.336     Total estimated model params size (MB)\n",
      "13        Modules in train mode\n",
      "0         Modules in eval mode\n"
     ]
    },
    {
     "name": "stdout",
     "output_type": "stream",
     "text": [
      "Epoch 9: 100%|██████████| 157/157 [00:00<00:00, 303.94it/s]"
     ]
    },
    {
     "name": "stderr",
     "output_type": "stream",
     "text": [
      "`Trainer.fit` stopped: `max_epochs=10` reached.\n"
     ]
    },
    {
     "name": "stdout",
     "output_type": "stream",
     "text": [
      "Epoch 9: 100%|██████████| 157/157 [00:00<00:00, 303.47it/s]\n",
      "Iteration No: 2 ended. Evaluation done at random point.\n",
      "Time taken: 6.6190\n",
      "Function value obtained: -0.4464\n",
      "Current minimum: -0.4951\n",
      "Iteration No: 3 started. Evaluating function at random point.\n"
     ]
    },
    {
     "name": "stderr",
     "output_type": "stream",
     "text": [
      "GPU available: True (cuda), used: True\n",
      "TPU available: False, using: 0 TPU cores\n",
      "HPU available: False, using: 0 HPUs\n",
      "LOCAL_RANK: 0 - CUDA_VISIBLE_DEVICES: [0]\n",
      "\n",
      "  | Name       | Type              | Params | Mode \n",
      "---------------------------------------------------------\n",
      "0 | features   | Sequential        | 726 K  | train\n",
      "1 | avgpool    | AdaptiveAvgPool2d | 0      | train\n",
      "2 | classifier | Sequential        | 657 K  | train\n",
      "---------------------------------------------------------\n",
      "1.4 M     Trainable params\n",
      "0         Non-trainable params\n",
      "1.4 M     Total params\n",
      "5.534     Total estimated model params size (MB)\n",
      "13        Modules in train mode\n",
      "0         Modules in eval mode\n"
     ]
    },
    {
     "name": "stdout",
     "output_type": "stream",
     "text": [
      "Epoch 9: 100%|██████████| 157/157 [00:01<00:00, 134.12it/s]"
     ]
    },
    {
     "name": "stderr",
     "output_type": "stream",
     "text": [
      "`Trainer.fit` stopped: `max_epochs=10` reached.\n"
     ]
    },
    {
     "name": "stdout",
     "output_type": "stream",
     "text": [
      "Epoch 9: 100%|██████████| 157/157 [00:01<00:00, 134.02it/s]\n",
      "Iteration No: 3 ended. Evaluation done at random point.\n",
      "Time taken: 13.6986\n",
      "Function value obtained: -0.4900\n",
      "Current minimum: -0.4951\n",
      "Iteration No: 4 started. Evaluating function at random point.\n"
     ]
    },
    {
     "name": "stderr",
     "output_type": "stream",
     "text": [
      "GPU available: True (cuda), used: True\n",
      "TPU available: False, using: 0 TPU cores\n",
      "HPU available: False, using: 0 HPUs\n",
      "LOCAL_RANK: 0 - CUDA_VISIBLE_DEVICES: [0]\n",
      "\n",
      "  | Name       | Type              | Params | Mode \n",
      "---------------------------------------------------------\n",
      "0 | features   | Sequential        | 425 K  | train\n",
      "1 | avgpool    | AdaptiveAvgPool2d | 0      | train\n",
      "2 | classifier | Sequential        | 388 K  | train\n",
      "---------------------------------------------------------\n",
      "813 K     Trainable params\n",
      "0         Non-trainable params\n",
      "813 K     Total params\n",
      "3.256     Total estimated model params size (MB)\n",
      "13        Modules in train mode\n",
      "0         Modules in eval mode\n"
     ]
    },
    {
     "name": "stdout",
     "output_type": "stream",
     "text": [
      "Epoch 9: 100%|██████████| 157/157 [00:00<00:00, 171.31it/s]"
     ]
    },
    {
     "name": "stderr",
     "output_type": "stream",
     "text": [
      "`Trainer.fit` stopped: `max_epochs=10` reached.\n"
     ]
    },
    {
     "name": "stdout",
     "output_type": "stream",
     "text": [
      "Epoch 9: 100%|██████████| 157/157 [00:00<00:00, 171.13it/s]\n",
      "Iteration No: 4 ended. Evaluation done at random point.\n",
      "Time taken: 10.9043\n",
      "Function value obtained: -0.5009\n",
      "Current minimum: -0.5009\n",
      "Iteration No: 5 started. Evaluating function at random point.\n"
     ]
    },
    {
     "name": "stderr",
     "output_type": "stream",
     "text": [
      "GPU available: True (cuda), used: True\n",
      "TPU available: False, using: 0 TPU cores\n",
      "HPU available: False, using: 0 HPUs\n",
      "LOCAL_RANK: 0 - CUDA_VISIBLE_DEVICES: [0]\n",
      "\n",
      "  | Name       | Type              | Params | Mode \n",
      "---------------------------------------------------------\n",
      "0 | features   | Sequential        | 241 K  | train\n",
      "1 | avgpool    | AdaptiveAvgPool2d | 0      | train\n",
      "2 | classifier | Sequential        | 221 K  | train\n",
      "---------------------------------------------------------\n",
      "463 K     Trainable params\n",
      "0         Non-trainable params\n",
      "463 K     Total params\n",
      "1.853     Total estimated model params size (MB)\n",
      "13        Modules in train mode\n",
      "0         Modules in eval mode\n"
     ]
    },
    {
     "name": "stdout",
     "output_type": "stream",
     "text": [
      "Epoch 9: 100%|██████████| 157/157 [00:00<00:00, 270.48it/s]"
     ]
    },
    {
     "name": "stderr",
     "output_type": "stream",
     "text": [
      "`Trainer.fit` stopped: `max_epochs=10` reached.\n"
     ]
    },
    {
     "name": "stdout",
     "output_type": "stream",
     "text": [
      "Epoch 9: 100%|██████████| 157/157 [00:00<00:00, 269.95it/s]\n",
      "Iteration No: 5 ended. Evaluation done at random point.\n",
      "Time taken: 7.4003\n",
      "Function value obtained: -0.4689\n",
      "Current minimum: -0.5009\n",
      "Iteration No: 6 started. Evaluating function at random point.\n"
     ]
    },
    {
     "name": "stderr",
     "output_type": "stream",
     "text": [
      "GPU available: True (cuda), used: True\n",
      "TPU available: False, using: 0 TPU cores\n",
      "HPU available: False, using: 0 HPUs\n",
      "LOCAL_RANK: 0 - CUDA_VISIBLE_DEVICES: [0]\n",
      "\n",
      "  | Name       | Type              | Params | Mode \n",
      "---------------------------------------------------------\n",
      "0 | features   | Sequential        | 12.9 K | train\n",
      "1 | avgpool    | AdaptiveAvgPool2d | 0      | train\n",
      "2 | classifier | Sequential        | 13.1 K | train\n",
      "---------------------------------------------------------\n",
      "26.1 K    Trainable params\n",
      "0         Non-trainable params\n",
      "26.1 K    Total params\n",
      "0.104     Total estimated model params size (MB)\n",
      "13        Modules in train mode\n",
      "0         Modules in eval mode\n"
     ]
    },
    {
     "name": "stdout",
     "output_type": "stream",
     "text": [
      "Epoch 9: 100%|██████████| 157/157 [00:00<00:00, 301.47it/s]"
     ]
    },
    {
     "name": "stderr",
     "output_type": "stream",
     "text": [
      "`Trainer.fit` stopped: `max_epochs=10` reached.\n"
     ]
    },
    {
     "name": "stdout",
     "output_type": "stream",
     "text": [
      "Epoch 9: 100%|██████████| 157/157 [00:00<00:00, 300.93it/s]\n",
      "Iteration No: 6 ended. Evaluation done at random point.\n",
      "Time taken: 6.6892\n",
      "Function value obtained: -0.3776\n",
      "Current minimum: -0.5009\n",
      "Iteration No: 7 started. Evaluating function at random point.\n"
     ]
    },
    {
     "name": "stderr",
     "output_type": "stream",
     "text": [
      "GPU available: True (cuda), used: True\n",
      "TPU available: False, using: 0 TPU cores\n",
      "HPU available: False, using: 0 HPUs\n",
      "LOCAL_RANK: 0 - CUDA_VISIBLE_DEVICES: [0]\n",
      "\n",
      "  | Name       | Type              | Params | Mode \n",
      "---------------------------------------------------------\n",
      "0 | features   | Sequential        | 254 K  | train\n",
      "1 | avgpool    | AdaptiveAvgPool2d | 0      | train\n",
      "2 | classifier | Sequential        | 233 K  | train\n",
      "---------------------------------------------------------\n",
      "487 K     Trainable params\n",
      "0         Non-trainable params\n",
      "487 K     Total params\n",
      "1.949     Total estimated model params size (MB)\n",
      "13        Modules in train mode\n",
      "0         Modules in eval mode\n"
     ]
    },
    {
     "name": "stdout",
     "output_type": "stream",
     "text": [
      "Epoch 9: 100%|██████████| 157/157 [00:00<00:00, 266.48it/s]"
     ]
    },
    {
     "name": "stderr",
     "output_type": "stream",
     "text": [
      "`Trainer.fit` stopped: `max_epochs=10` reached.\n"
     ]
    },
    {
     "name": "stdout",
     "output_type": "stream",
     "text": [
      "Epoch 9: 100%|██████████| 157/157 [00:00<00:00, 266.08it/s]\n",
      "Iteration No: 7 ended. Evaluation done at random point.\n",
      "Time taken: 7.3987\n",
      "Function value obtained: -0.4690\n",
      "Current minimum: -0.5009\n",
      "Iteration No: 8 started. Evaluating function at random point.\n"
     ]
    },
    {
     "name": "stderr",
     "output_type": "stream",
     "text": [
      "GPU available: True (cuda), used: True\n",
      "TPU available: False, using: 0 TPU cores\n",
      "HPU available: False, using: 0 HPUs\n",
      "LOCAL_RANK: 0 - CUDA_VISIBLE_DEVICES: [0]\n",
      "\n",
      "  | Name       | Type              | Params | Mode \n",
      "---------------------------------------------------------\n",
      "0 | features   | Sequential        | 135 K  | train\n",
      "1 | avgpool    | AdaptiveAvgPool2d | 0      | train\n",
      "2 | classifier | Sequential        | 125 K  | train\n",
      "---------------------------------------------------------\n",
      "261 K     Trainable params\n",
      "0         Non-trainable params\n",
      "261 K     Total params\n",
      "1.046     Total estimated model params size (MB)\n",
      "13        Modules in train mode\n",
      "0         Modules in eval mode\n"
     ]
    },
    {
     "name": "stdout",
     "output_type": "stream",
     "text": [
      "Epoch 9: 100%|██████████| 157/157 [00:00<00:00, 299.97it/s]"
     ]
    },
    {
     "name": "stderr",
     "output_type": "stream",
     "text": [
      "`Trainer.fit` stopped: `max_epochs=10` reached.\n"
     ]
    },
    {
     "name": "stdout",
     "output_type": "stream",
     "text": [
      "Epoch 9: 100%|██████████| 157/157 [00:00<00:00, 299.43it/s]\n",
      "Iteration No: 8 ended. Evaluation done at random point.\n",
      "Time taken: 6.6685\n",
      "Function value obtained: -0.4743\n",
      "Current minimum: -0.5009\n",
      "Iteration No: 9 started. Evaluating function at random point.\n"
     ]
    },
    {
     "name": "stderr",
     "output_type": "stream",
     "text": [
      "GPU available: True (cuda), used: True\n",
      "TPU available: False, using: 0 TPU cores\n",
      "HPU available: False, using: 0 HPUs\n",
      "LOCAL_RANK: 0 - CUDA_VISIBLE_DEVICES: [0]\n",
      "\n",
      "  | Name       | Type              | Params | Mode \n",
      "---------------------------------------------------------\n",
      "0 | features   | Sequential        | 25.8 K | train\n",
      "1 | avgpool    | AdaptiveAvgPool2d | 0      | train\n",
      "2 | classifier | Sequential        | 25.2 K | train\n",
      "---------------------------------------------------------\n",
      "50.9 K    Trainable params\n",
      "0         Non-trainable params\n",
      "50.9 K    Total params\n",
      "0.204     Total estimated model params size (MB)\n",
      "13        Modules in train mode\n",
      "0         Modules in eval mode\n"
     ]
    },
    {
     "name": "stdout",
     "output_type": "stream",
     "text": [
      "Epoch 9: 100%|██████████| 157/157 [00:00<00:00, 300.01it/s]"
     ]
    },
    {
     "name": "stderr",
     "output_type": "stream",
     "text": [
      "`Trainer.fit` stopped: `max_epochs=10` reached.\n"
     ]
    },
    {
     "name": "stdout",
     "output_type": "stream",
     "text": [
      "Epoch 9: 100%|██████████| 157/157 [00:00<00:00, 299.42it/s]\n",
      "Iteration No: 9 ended. Evaluation done at random point.\n",
      "Time taken: 6.6592\n",
      "Function value obtained: -0.4023\n",
      "Current minimum: -0.5009\n",
      "Iteration No: 10 started. Evaluating function at random point.\n"
     ]
    },
    {
     "name": "stderr",
     "output_type": "stream",
     "text": [
      "GPU available: True (cuda), used: True\n",
      "TPU available: False, using: 0 TPU cores\n",
      "HPU available: False, using: 0 HPUs\n",
      "LOCAL_RANK: 0 - CUDA_VISIBLE_DEVICES: [0]\n",
      "\n",
      "  | Name       | Type              | Params | Mode \n",
      "---------------------------------------------------------\n",
      "0 | features   | Sequential        | 507 K  | train\n",
      "1 | avgpool    | AdaptiveAvgPool2d | 0      | train\n",
      "2 | classifier | Sequential        | 460 K  | train\n",
      "---------------------------------------------------------\n",
      "967 K     Trainable params\n",
      "0         Non-trainable params\n",
      "967 K     Total params\n",
      "3.872     Total estimated model params size (MB)\n",
      "13        Modules in train mode\n",
      "0         Modules in eval mode\n"
     ]
    },
    {
     "name": "stdout",
     "output_type": "stream",
     "text": [
      "Epoch 9: 100%|██████████| 157/157 [00:00<00:00, 159.06it/s]"
     ]
    },
    {
     "name": "stderr",
     "output_type": "stream",
     "text": [
      "`Trainer.fit` stopped: `max_epochs=10` reached.\n"
     ]
    },
    {
     "name": "stdout",
     "output_type": "stream",
     "text": [
      "Epoch 9: 100%|██████████| 157/157 [00:00<00:00, 158.88it/s]\n",
      "Iteration No: 10 ended. Evaluation done at random point.\n",
      "Time taken: 11.7964\n",
      "Function value obtained: -0.4534\n",
      "Current minimum: -0.5009\n",
      "Iteration No: 11 started. Evaluating function at random point.\n"
     ]
    },
    {
     "name": "stderr",
     "output_type": "stream",
     "text": [
      "GPU available: True (cuda), used: True\n",
      "TPU available: False, using: 0 TPU cores\n",
      "HPU available: False, using: 0 HPUs\n",
      "LOCAL_RANK: 0 - CUDA_VISIBLE_DEVICES: [0]\n",
      "\n",
      "  | Name       | Type              | Params | Mode \n",
      "---------------------------------------------------------\n",
      "0 | features   | Sequential        | 4.5 K  | train\n",
      "1 | avgpool    | AdaptiveAvgPool2d | 0      | train\n",
      "2 | classifier | Sequential        | 4.9 K  | train\n",
      "---------------------------------------------------------\n",
      "9.4 K     Trainable params\n",
      "0         Non-trainable params\n",
      "9.4 K     Total params\n",
      "0.038     Total estimated model params size (MB)\n",
      "13        Modules in train mode\n",
      "0         Modules in eval mode\n"
     ]
    },
    {
     "name": "stdout",
     "output_type": "stream",
     "text": [
      "Epoch 9: 100%|██████████| 157/157 [00:00<00:00, 308.50it/s]"
     ]
    },
    {
     "name": "stderr",
     "output_type": "stream",
     "text": [
      "`Trainer.fit` stopped: `max_epochs=10` reached.\n"
     ]
    },
    {
     "name": "stdout",
     "output_type": "stream",
     "text": [
      "Epoch 9: 100%|██████████| 157/157 [00:00<00:00, 307.89it/s]\n",
      "Iteration No: 11 ended. Evaluation done at random point.\n",
      "Time taken: 6.5481\n",
      "Function value obtained: -0.3697\n",
      "Current minimum: -0.5009\n",
      "Iteration No: 12 started. Evaluating function at random point.\n"
     ]
    },
    {
     "name": "stderr",
     "output_type": "stream",
     "text": [
      "GPU available: True (cuda), used: True\n",
      "TPU available: False, using: 0 TPU cores\n",
      "HPU available: False, using: 0 HPUs\n",
      "LOCAL_RANK: 0 - CUDA_VISIBLE_DEVICES: [0]\n",
      "\n",
      "  | Name       | Type              | Params | Mode \n",
      "---------------------------------------------------------\n",
      "0 | features   | Sequential        | 621 K  | train\n",
      "1 | avgpool    | AdaptiveAvgPool2d | 0      | train\n",
      "2 | classifier | Sequential        | 563 K  | train\n",
      "---------------------------------------------------------\n",
      "1.2 M     Trainable params\n",
      "0         Non-trainable params\n",
      "1.2 M     Total params\n",
      "4.742     Total estimated model params size (MB)\n",
      "13        Modules in train mode\n",
      "0         Modules in eval mode\n"
     ]
    },
    {
     "name": "stdout",
     "output_type": "stream",
     "text": [
      "Epoch 9: 100%|██████████| 157/157 [00:01<00:00, 136.78it/s]"
     ]
    },
    {
     "name": "stderr",
     "output_type": "stream",
     "text": [
      "`Trainer.fit` stopped: `max_epochs=10` reached.\n"
     ]
    },
    {
     "name": "stdout",
     "output_type": "stream",
     "text": [
      "Epoch 9: 100%|██████████| 157/157 [00:01<00:00, 136.67it/s]\n",
      "Iteration No: 12 ended. Evaluation done at random point.\n",
      "Time taken: 13.6373\n",
      "Function value obtained: -0.5103\n",
      "Current minimum: -0.5103\n",
      "Iteration No: 13 started. Evaluating function at random point.\n"
     ]
    },
    {
     "name": "stderr",
     "output_type": "stream",
     "text": [
      "GPU available: True (cuda), used: True\n",
      "TPU available: False, using: 0 TPU cores\n",
      "HPU available: False, using: 0 HPUs\n",
      "LOCAL_RANK: 0 - CUDA_VISIBLE_DEVICES: [0]\n",
      "\n",
      "  | Name       | Type              | Params | Mode \n",
      "---------------------------------------------------------\n",
      "0 | features   | Sequential        | 1.0 M  | train\n",
      "1 | avgpool    | AdaptiveAvgPool2d | 0      | train\n",
      "2 | classifier | Sequential        | 942 K  | train\n",
      "---------------------------------------------------------\n",
      "2.0 M     Trainable params\n",
      "0         Non-trainable params\n",
      "2.0 M     Total params\n",
      "7.947     Total estimated model params size (MB)\n",
      "13        Modules in train mode\n",
      "0         Modules in eval mode\n"
     ]
    },
    {
     "name": "stdout",
     "output_type": "stream",
     "text": [
      "Epoch 9: 100%|██████████| 157/157 [00:01<00:00, 105.94it/s]"
     ]
    },
    {
     "name": "stderr",
     "output_type": "stream",
     "text": [
      "`Trainer.fit` stopped: `max_epochs=10` reached.\n"
     ]
    },
    {
     "name": "stdout",
     "output_type": "stream",
     "text": [
      "Epoch 9: 100%|██████████| 157/157 [00:01<00:00, 105.87it/s]\n",
      "Iteration No: 13 ended. Evaluation done at random point.\n",
      "Time taken: 17.0021\n",
      "Function value obtained: -0.5147\n",
      "Current minimum: -0.5147\n",
      "Iteration No: 14 started. Evaluating function at random point.\n"
     ]
    },
    {
     "name": "stderr",
     "output_type": "stream",
     "text": [
      "GPU available: True (cuda), used: True\n",
      "TPU available: False, using: 0 TPU cores\n",
      "HPU available: False, using: 0 HPUs\n",
      "LOCAL_RANK: 0 - CUDA_VISIBLE_DEVICES: [0]\n",
      "\n",
      "  | Name       | Type              | Params | Mode \n",
      "---------------------------------------------------------\n",
      "0 | features   | Sequential        | 48     | train\n",
      "1 | avgpool    | AdaptiveAvgPool2d | 0      | train\n",
      "2 | classifier | Sequential        | 114    | train\n",
      "---------------------------------------------------------\n",
      "162       Trainable params\n",
      "0         Non-trainable params\n",
      "162       Total params\n",
      "0.001     Total estimated model params size (MB)\n",
      "13        Modules in train mode\n",
      "0         Modules in eval mode\n"
     ]
    },
    {
     "name": "stdout",
     "output_type": "stream",
     "text": [
      "Epoch 9: 100%|██████████| 157/157 [00:00<00:00, 313.32it/s]"
     ]
    },
    {
     "name": "stderr",
     "output_type": "stream",
     "text": [
      "`Trainer.fit` stopped: `max_epochs=10` reached.\n"
     ]
    },
    {
     "name": "stdout",
     "output_type": "stream",
     "text": [
      "Epoch 9: 100%|██████████| 157/157 [00:00<00:00, 312.75it/s]\n",
      "Iteration No: 14 ended. Evaluation done at random point.\n",
      "Time taken: 6.4508\n",
      "Function value obtained: -0.1911\n",
      "Current minimum: -0.5147\n",
      "Iteration No: 15 started. Evaluating function at random point.\n"
     ]
    },
    {
     "name": "stderr",
     "output_type": "stream",
     "text": [
      "GPU available: True (cuda), used: True\n",
      "TPU available: False, using: 0 TPU cores\n",
      "HPU available: False, using: 0 HPUs\n",
      "LOCAL_RANK: 0 - CUDA_VISIBLE_DEVICES: [0]\n",
      "\n",
      "  | Name       | Type              | Params | Mode \n",
      "---------------------------------------------------------\n",
      "0 | features   | Sequential        | 1.2 M  | train\n",
      "1 | avgpool    | AdaptiveAvgPool2d | 0      | train\n",
      "2 | classifier | Sequential        | 1.1 M  | train\n",
      "---------------------------------------------------------\n",
      "2.2 M     Trainable params\n",
      "0         Non-trainable params\n",
      "2.2 M     Total params\n",
      "8.894     Total estimated model params size (MB)\n",
      "13        Modules in train mode\n",
      "0         Modules in eval mode\n"
     ]
    },
    {
     "name": "stdout",
     "output_type": "stream",
     "text": [
      "Epoch 9: 100%|██████████| 157/157 [00:01<00:00, 107.07it/s]"
     ]
    },
    {
     "name": "stderr",
     "output_type": "stream",
     "text": [
      "`Trainer.fit` stopped: `max_epochs=10` reached.\n"
     ]
    },
    {
     "name": "stdout",
     "output_type": "stream",
     "text": [
      "Epoch 9: 100%|██████████| 157/157 [00:01<00:00, 106.99it/s]\n",
      "Iteration No: 15 ended. Evaluation done at random point.\n",
      "Time taken: 16.9138\n",
      "Function value obtained: -0.4795\n",
      "Current minimum: -0.5147\n",
      "Iteration No: 16 started. Evaluating function at random point.\n"
     ]
    },
    {
     "name": "stderr",
     "output_type": "stream",
     "text": [
      "GPU available: True (cuda), used: True\n",
      "TPU available: False, using: 0 TPU cores\n",
      "HPU available: False, using: 0 HPUs\n",
      "LOCAL_RANK: 0 - CUDA_VISIBLE_DEVICES: [0]\n",
      "\n",
      "  | Name       | Type              | Params | Mode \n",
      "---------------------------------------------------------\n",
      "0 | features   | Sequential        | 454 K  | train\n",
      "1 | avgpool    | AdaptiveAvgPool2d | 0      | train\n",
      "2 | classifier | Sequential        | 413 K  | train\n",
      "---------------------------------------------------------\n",
      "867 K     Trainable params\n",
      "0         Non-trainable params\n",
      "867 K     Total params\n",
      "3.470     Total estimated model params size (MB)\n",
      "13        Modules in train mode\n",
      "0         Modules in eval mode\n"
     ]
    },
    {
     "name": "stdout",
     "output_type": "stream",
     "text": [
      "Epoch 9: 100%|██████████| 157/157 [00:00<00:00, 170.71it/s]"
     ]
    },
    {
     "name": "stderr",
     "output_type": "stream",
     "text": [
      "`Trainer.fit` stopped: `max_epochs=10` reached.\n"
     ]
    },
    {
     "name": "stdout",
     "output_type": "stream",
     "text": [
      "Epoch 9: 100%|██████████| 157/157 [00:00<00:00, 170.52it/s]\n",
      "Iteration No: 16 ended. Evaluation done at random point.\n",
      "Time taken: 10.9239\n",
      "Function value obtained: -0.5000\n",
      "Current minimum: -0.5147\n",
      "Iteration No: 17 started. Evaluating function at random point.\n"
     ]
    },
    {
     "name": "stderr",
     "output_type": "stream",
     "text": [
      "GPU available: True (cuda), used: True\n",
      "TPU available: False, using: 0 TPU cores\n",
      "HPU available: False, using: 0 HPUs\n",
      "LOCAL_RANK: 0 - CUDA_VISIBLE_DEVICES: [0]\n",
      "\n",
      "  | Name       | Type              | Params | Mode \n",
      "---------------------------------------------------------\n",
      "0 | features   | Sequential        | 448 K  | train\n",
      "1 | avgpool    | AdaptiveAvgPool2d | 0      | train\n",
      "2 | classifier | Sequential        | 408 K  | train\n",
      "---------------------------------------------------------\n",
      "856 K     Trainable params\n",
      "0         Non-trainable params\n",
      "856 K     Total params\n",
      "3.426     Total estimated model params size (MB)\n",
      "13        Modules in train mode\n",
      "0         Modules in eval mode\n"
     ]
    },
    {
     "name": "stdout",
     "output_type": "stream",
     "text": [
      "Epoch 9: 100%|██████████| 157/157 [00:00<00:00, 165.71it/s]"
     ]
    },
    {
     "name": "stderr",
     "output_type": "stream",
     "text": [
      "`Trainer.fit` stopped: `max_epochs=10` reached.\n"
     ]
    },
    {
     "name": "stdout",
     "output_type": "stream",
     "text": [
      "Epoch 9: 100%|██████████| 157/157 [00:00<00:00, 165.56it/s]\n",
      "Iteration No: 17 ended. Evaluation done at random point.\n",
      "Time taken: 11.2863\n",
      "Function value obtained: -0.4767\n",
      "Current minimum: -0.5147\n",
      "Iteration No: 18 started. Evaluating function at random point.\n"
     ]
    },
    {
     "name": "stderr",
     "output_type": "stream",
     "text": [
      "GPU available: True (cuda), used: True\n",
      "TPU available: False, using: 0 TPU cores\n",
      "HPU available: False, using: 0 HPUs\n",
      "LOCAL_RANK: 0 - CUDA_VISIBLE_DEVICES: [0]\n",
      "\n",
      "  | Name       | Type              | Params | Mode \n",
      "---------------------------------------------------------\n",
      "0 | features   | Sequential        | 252    | train\n",
      "1 | avgpool    | AdaptiveAvgPool2d | 0      | train\n",
      "2 | classifier | Sequential        | 418    | train\n",
      "---------------------------------------------------------\n",
      "670       Trainable params\n",
      "0         Non-trainable params\n",
      "670       Total params\n",
      "0.003     Total estimated model params size (MB)\n",
      "13        Modules in train mode\n",
      "0         Modules in eval mode\n"
     ]
    },
    {
     "name": "stdout",
     "output_type": "stream",
     "text": [
      "Epoch 9: 100%|██████████| 157/157 [00:00<00:00, 311.73it/s]"
     ]
    },
    {
     "name": "stderr",
     "output_type": "stream",
     "text": [
      "`Trainer.fit` stopped: `max_epochs=10` reached.\n"
     ]
    },
    {
     "name": "stdout",
     "output_type": "stream",
     "text": [
      "Epoch 9: 100%|██████████| 157/157 [00:00<00:00, 311.14it/s]\n",
      "Iteration No: 18 ended. Evaluation done at random point.\n",
      "Time taken: 6.5122\n",
      "Function value obtained: -0.2373\n",
      "Current minimum: -0.5147\n",
      "Iteration No: 19 started. Evaluating function at random point.\n"
     ]
    },
    {
     "name": "stderr",
     "output_type": "stream",
     "text": [
      "GPU available: True (cuda), used: True\n",
      "TPU available: False, using: 0 TPU cores\n",
      "HPU available: False, using: 0 HPUs\n",
      "LOCAL_RANK: 0 - CUDA_VISIBLE_DEVICES: [0]\n",
      "\n",
      "  | Name       | Type              | Params | Mode \n",
      "---------------------------------------------------------\n",
      "0 | features   | Sequential        | 1.1 K  | train\n",
      "1 | avgpool    | AdaptiveAvgPool2d | 0      | train\n",
      "2 | classifier | Sequential        | 1.4 K  | train\n",
      "---------------------------------------------------------\n",
      "2.5 K     Trainable params\n",
      "0         Non-trainable params\n",
      "2.5 K     Total params\n",
      "0.010     Total estimated model params size (MB)\n",
      "13        Modules in train mode\n",
      "0         Modules in eval mode\n"
     ]
    },
    {
     "name": "stdout",
     "output_type": "stream",
     "text": [
      "Epoch 9: 100%|██████████| 157/157 [00:00<00:00, 302.79it/s]"
     ]
    },
    {
     "name": "stderr",
     "output_type": "stream",
     "text": [
      "`Trainer.fit` stopped: `max_epochs=10` reached.\n"
     ]
    },
    {
     "name": "stdout",
     "output_type": "stream",
     "text": [
      "Epoch 9: 100%|██████████| 157/157 [00:00<00:00, 302.23it/s]\n",
      "Iteration No: 19 ended. Evaluation done at random point.\n",
      "Time taken: 6.7465\n",
      "Function value obtained: -0.3117\n",
      "Current minimum: -0.5147\n",
      "Iteration No: 20 started. Evaluating function at random point.\n"
     ]
    },
    {
     "name": "stderr",
     "output_type": "stream",
     "text": [
      "GPU available: True (cuda), used: True\n",
      "TPU available: False, using: 0 TPU cores\n",
      "HPU available: False, using: 0 HPUs\n",
      "LOCAL_RANK: 0 - CUDA_VISIBLE_DEVICES: [0]\n",
      "\n",
      "  | Name       | Type              | Params | Mode \n",
      "---------------------------------------------------------\n",
      "0 | features   | Sequential        | 332 K  | train\n",
      "1 | avgpool    | AdaptiveAvgPool2d | 0      | train\n",
      "2 | classifier | Sequential        | 303 K  | train\n",
      "---------------------------------------------------------\n",
      "635 K     Trainable params\n",
      "0         Non-trainable params\n",
      "635 K     Total params\n",
      "2.542     Total estimated model params size (MB)\n",
      "13        Modules in train mode\n",
      "0         Modules in eval mode\n"
     ]
    },
    {
     "name": "stdout",
     "output_type": "stream",
     "text": [
      "Epoch 9: 100%|██████████| 157/157 [00:00<00:00, 194.11it/s]"
     ]
    },
    {
     "name": "stderr",
     "output_type": "stream",
     "text": [
      "`Trainer.fit` stopped: `max_epochs=10` reached.\n"
     ]
    },
    {
     "name": "stdout",
     "output_type": "stream",
     "text": [
      "Epoch 9: 100%|██████████| 157/157 [00:00<00:00, 193.91it/s]\n",
      "Iteration No: 20 ended. Evaluation done at random point.\n",
      "Time taken: 9.9130\n",
      "Function value obtained: -0.4778\n",
      "Current minimum: -0.5147\n"
     ]
    }
   ],
   "source": [
    "# do random search\n",
    "from skopt import dummy_minimize\n",
    "opt_random = dummy_minimize(\n",
    "    objective,\n",
    "    space,\n",
    "    n_calls=20,\n",
    "    verbose=True,\n",
    "    random_state=42\n",
    ")\n"
   ]
  },
  {
   "cell_type": "code",
   "execution_count": 19,
   "metadata": {},
   "outputs": [
    {
     "data": {
      "image/png": "[encoded data removed]",
      "text/plain": [
       "<Figure size 640x480 with 1 Axes>"
      ]
     },
     "metadata": {},
     "output_type": "display_data"
    }
   ],
   "source": [
    "## comparison between random search and bayesian optimization\n",
    "## we can plot the maximum oob per iteration of the sequence\n",
    "\n",
    "# collect the maximum each iteration of BO\n",
    "y_bo = np.maximum.accumulate(-opt_bo.func_vals).ravel()\n",
    "y_random = np.maximum.accumulate(-opt_random.func_vals).ravel()\n",
    "# define iteration number\n",
    "xs = range(1, len(y_bo) + 1)\n",
    "\n",
    "plt.plot(xs, y_random, 'o-', color = 'red', label='Random Search')\n",
    "plt.plot(xs, y_bo, 'o-', color = 'blue', label='Bayesian Optimization')\n",
    "plt.legend()\n",
    "plt.xlabel('Iterations')\n",
    "plt.ylabel('accuracy')\n",
    "plt.title('Comparison between Random Search and Bayesian Optimization')\n",
    "plt.show()"
   ]
  },
  {
   "cell_type": "code",
   "execution_count": 20,
   "metadata": {},
   "outputs": [
    {
     "name": "stdout",
     "output_type": "stream",
     "text": [
      "          fun: -0.5147\n",
      "            x: [np.int64(240)]\n",
      "    func_vals: [-4.951e-01 -4.464e-01 ... -3.117e-01 -4.778e-01]\n",
      "      x_iters: [[np.int64(204)], [np.int64(48)], [np.int64(200)], [np.int64(153)], [np.int64(115)], [np.int64(26)], [np.int64(118)], [np.int64(86)], [np.int64(37)], [np.int64(167)], [np.int64(15)], [np.int64(185)], [np.int64(240)], [np.int64(1)], [np.int64(254)], [np.int64(158)], [np.int64(157)], [np.int64(3)], [np.int64(7)], [np.int64(135)]]\n",
      "       models: []\n",
      "        space: Space([Integer(low=1, high=256, prior='uniform', transform='normalize')])\n",
      " random_state: RandomState(MT19937)\n",
      "        specs:     args:                    func: <function objective at 0x7f274562b6a0>\n",
      "                                      dimensions: [Integer(low=1, high=256, prior='uniform', transform='normalize')]\n",
      "                                  base_estimator: dummy\n",
      "                                         n_calls: 20\n",
      "                                 n_random_starts: None\n",
      "                                n_initial_points: 20\n",
      "                         initial_point_generator: random\n",
      "                                        acq_func: EI\n",
      "                                   acq_optimizer: sampling\n",
      "                                              x0: None\n",
      "                                              y0: None\n",
      "                                    random_state: 42\n",
      "                                         verbose: True\n",
      "                                        callback: None\n",
      "                                        n_points: 10000\n",
      "                            n_restarts_optimizer: 5\n",
      "                                              xi: 0.01\n",
      "                                           kappa: 1.96\n",
      "                                          n_jobs: 1\n",
      "                                model_queue_size: None\n",
      "                                space_constraint: None\n",
      "               function: base_minimize\n",
      "          fun: -0.5183\n",
      "            x: [np.int64(239)]\n",
      "    func_vals: [-4.197e-01 -4.729e-01 ... -4.505e-01 -4.949e-01]\n",
      "      x_iters: [[np.int64(31)], [np.int64(144)], [np.int64(147)], [np.int64(170)], [np.int64(81)], [np.int64(158)], [np.int64(196)], [np.int64(222)], [np.int64(239)], [np.int64(256)], [np.int64(109)], [np.int64(1)], [np.int64(55)], [np.int64(95)], [np.int64(209)], [np.int64(124)], [np.int64(43)], [np.int64(183)], [np.int64(68)], [np.int64(248)]]\n",
      "       models: [GaussianProcessRegressor(kernel=1**2 * Matern(length_scale=1, nu=2.5) + WhiteKernel(noise_level=0.0001),\n",
      "                                        n_restarts_optimizer=2, noise=0.0001, normalize_y=True,\n",
      "                                        random_state=1704191580), GaussianProcessRegressor(kernel=1**2 * Matern(length_scale=1, nu=2.5) + WhiteKernel(noise_level=0.0001),\n",
      "                                        n_restarts_optimizer=2, noise=0.0001, normalize_y=True,\n",
      "                                        random_state=1704191580), GaussianProcessRegressor(kernel=1**2 * Matern(length_scale=1, nu=2.5) + WhiteKernel(noise_level=0.0001),\n",
      "                                        n_restarts_optimizer=2, noise=0.0001, normalize_y=True,\n",
      "                                        random_state=1704191580), GaussianProcessRegressor(kernel=1**2 * Matern(length_scale=1, nu=2.5) + WhiteKernel(noise_level=0.0001),\n",
      "                                        n_restarts_optimizer=2, noise=0.0001, normalize_y=True,\n",
      "                                        random_state=1704191580), GaussianProcessRegressor(kernel=1**2 * Matern(length_scale=1, nu=2.5) + WhiteKernel(noise_level=0.0001),\n",
      "                                        n_restarts_optimizer=2, noise=0.0001, normalize_y=True,\n",
      "                                        random_state=1704191580), GaussianProcessRegressor(kernel=1**2 * Matern(length_scale=1, nu=2.5) + WhiteKernel(noise_level=0.0001),\n",
      "                                        n_restarts_optimizer=2, noise=0.0001, normalize_y=True,\n",
      "                                        random_state=1704191580), GaussianProcessRegressor(kernel=1**2 * Matern(length_scale=1, nu=2.5) + WhiteKernel(noise_level=0.0001),\n",
      "                                        n_restarts_optimizer=2, noise=0.0001, normalize_y=True,\n",
      "                                        random_state=1704191580), GaussianProcessRegressor(kernel=1**2 * Matern(length_scale=1, nu=2.5) + WhiteKernel(noise_level=0.0001),\n",
      "                                        n_restarts_optimizer=2, noise=0.0001, normalize_y=True,\n",
      "                                        random_state=1704191580), GaussianProcessRegressor(kernel=1**2 * Matern(length_scale=1, nu=2.5) + WhiteKernel(noise_level=0.0001),\n",
      "                                        n_restarts_optimizer=2, noise=0.0001, normalize_y=True,\n",
      "                                        random_state=1704191580), GaussianProcessRegressor(kernel=1**2 * Matern(length_scale=1, nu=2.5) + WhiteKernel(noise_level=0.0001),\n",
      "                                        n_restarts_optimizer=2, noise=0.0001, normalize_y=True,\n",
      "                                        random_state=1704191580), GaussianProcessRegressor(kernel=1**2 * Matern(length_scale=1, nu=2.5) + WhiteKernel(noise_level=0.0001),\n",
      "                                        n_restarts_optimizer=2, noise=0.0001, normalize_y=True,\n",
      "                                        random_state=1704191580), GaussianProcessRegressor(kernel=1**2 * Matern(length_scale=1, nu=2.5) + WhiteKernel(noise_level=0.0001),\n",
      "                                        n_restarts_optimizer=2, noise=0.0001, normalize_y=True,\n",
      "                                        random_state=1704191580), GaussianProcessRegressor(kernel=1**2 * Matern(length_scale=1, nu=2.5) + WhiteKernel(noise_level=0.0001),\n",
      "                                        n_restarts_optimizer=2, noise=0.0001, normalize_y=True,\n",
      "                                        random_state=1704191580), GaussianProcessRegressor(kernel=1**2 * Matern(length_scale=1, nu=2.5) + WhiteKernel(noise_level=0.0001),\n",
      "                                        n_restarts_optimizer=2, noise=0.0001, normalize_y=True,\n",
      "                                        random_state=1704191580), GaussianProcessRegressor(kernel=1**2 * Matern(length_scale=1, nu=2.5) + WhiteKernel(noise_level=0.0001),\n",
      "                                        n_restarts_optimizer=2, noise=0.0001, normalize_y=True,\n",
      "                                        random_state=1704191580), GaussianProcessRegressor(kernel=1**2 * Matern(length_scale=1, nu=2.5) + WhiteKernel(noise_level=0.0001),\n",
      "                                        n_restarts_optimizer=2, noise=0.0001, normalize_y=True,\n",
      "                                        random_state=1704191580)]\n",
      "        space: Space([Integer(low=1, high=256, prior='uniform', transform='normalize')])\n",
      " random_state: RandomState(MT19937)\n",
      "        specs:     args:                    func: <function objective at 0x7f274562b6a0>\n",
      "                                      dimensions: Space([Integer(low=1, high=256, prior='uniform', transform='normalize')])\n",
      "                                  base_estimator: GaussianProcessRegressor(kernel=1**2 * Matern(length_scale=1, nu=2.5),\n",
      "                                                                           n_restarts_optimizer=2, noise=0.0001, normalize_y=True,\n",
      "                                                                           random_state=1704191580)\n",
      "                                         n_calls: 20\n",
      "                                 n_random_starts: 5\n",
      "                                n_initial_points: 10\n",
      "                         initial_point_generator: random\n",
      "                                        acq_func: EI\n",
      "                                   acq_optimizer: auto\n",
      "                                              x0: None\n",
      "                                              y0: None\n",
      "                                    random_state: RandomState(MT19937)\n",
      "                                         verbose: True\n",
      "                                        callback: None\n",
      "                                        n_points: 10000\n",
      "                            n_restarts_optimizer: 5\n",
      "                                              xi: 0.1\n",
      "                                           kappa: 1.96\n",
      "                                          n_jobs: 1\n",
      "                                model_queue_size: None\n",
      "                                space_constraint: None\n",
      "               function: base_minimize\n"
     ]
    }
   ],
   "source": [
    "# get the max pariter\n",
    "\n",
    "opt_bo.x_iters[np.argmax(-opt_bo.func_vals)]\n",
    "\n",
    "print(opt_random)\n",
    "print(opt_bo)"
   ]
  }
 ],
 "metadata": {
  "kernelspec": {
   "display_name": "02463",
   "language": "python",
   "name": "python3"
  },
  "language_info": {
   "codemirror_mode": {
    "name": "ipython",
    "version": 3
   },
   "file_extension": ".py",
   "mimetype": "text/x-python",
   "name": "python",
   "nbconvert_exporter": "python",
   "pygments_lexer": "ipython3",
   "version": "3.13.2"
  }
 },
 "nbformat": 4,
 "nbformat_minor": 2
}
