{
 "cells": [
  {
   "cell_type": "markdown",
   "metadata": {},
   "source": [
    "# ImageNet - Bayesian Optimization \n",
    "## 02463 Active ML and Agency - Group BO 2"
   ]
  },
  {
   "cell_type": "code",
   "execution_count": 26,
   "metadata": {},
   "outputs": [],
   "source": [
    "import numpy as np\n",
    "import matplotlib.pyplot as plt\n",
    "import torch\n",
    "import torchvision\n",
    "import torchvision.transforms as transforms\n",
    "\n",
    "import skopt\n",
    "from skopt import gp_minimize\n",
    "from skopt import dummy_minimize\n",
    "from train_model import train_model\n",
    "\n",
    "import json"
   ]
  },
  {
   "cell_type": "code",
   "execution_count": 27,
   "metadata": {},
   "outputs": [],
   "source": [
    "transform = transforms.Compose(\n",
    "    [transforms.ToTensor(),\n",
    "     transforms.Normalize((0.5, 0.5, 0.5), (0.5, 0.5, 0.5))]\n",
    ")\n",
    "\n",
    "# Download the CIFAR-100 dataset (train and test)\n",
    "trainset = torchvision.datasets.CIFAR100(root='./data', train=True, download=True, transform=transform)\n",
    "testset = torchvision.datasets.CIFAR100(root='./data', train=False, download=True, transform=transform)\n",
    "\n",
    "# Create data loaders - BATCH SIZE IS SUBJECTIVE TO CHANGE \n",
    "trainloader = torch.utils.data.DataLoader(trainset, batch_size=4, shuffle=True, num_workers=2)\n",
    "testloader = torch.utils.data.DataLoader(testset, batch_size=4, shuffle=False, num_workers=2)\n",
    "\n",
    "# Check the data\n",
    "images, labels = next(iter(trainloader))"
   ]
  },
  {
   "cell_type": "code",
   "execution_count": null,
   "metadata": {},
   "outputs": [],
   "source": [
    "\n",
    "params = {\n",
    "    'module__base_channels': 16,                    # or try: 32\n",
    "    'module__dropout': 0.5,                        # or try: 0.3\n",
    "}\n",
    "# Train for 10 epochs using 1000 training samples (adjust as needed)\n",
    "accuracy = train_model(params, num_epochs=10, n_training_samples=1000)\n",
    "print(f'Test Accuracy: {accuracy * 100:.2f}%')"
   ]
  },
  {
   "cell_type": "code",
   "execution_count": null,
   "metadata": {},
   "outputs": [],
   "source": [
    "\n",
    "\n",
    "# Define the search space as follows\n",
    "# params = {\n",
    "#     'module__base_channels': (1,128)\n",
    "#     'module__dropout': (0.0, 0.9)\n",
    "# }\n",
    "\n",
    "space = [\n",
    "    skopt.space.Integer(1, 256, name='module__base_channels'),\n",
    "    skopt.space.Real(0.0, 0.9, name='module__dropout')\n",
    "]\n",
    "\n",
    "def objective(x):\n",
    "    # Decode the JSON encoded categorical values.\n",
    "    params = {\n",
    "        'module__base_channels': x[0],\n",
    "        'module__dropout': x[1] ,\n",
    "    }\n",
    "    \n",
    "    print(\"Param values: \", params)\n",
    "    accuracy = train_model(params, num_epochs=10, n_training_samples=50000)\n",
    "    # Return negative accuracy for minimization.\n",
    "    return -accuracy\n",
    "\n",
    "opt_bo = gp_minimize(\n",
    "    objective,\n",
    "    space,\n",
    "    acq_func='EI',\n",
    "    n_calls=20,\n",
    "    n_random_starts=5,\n",
    "    verbose=True,\n",
    "    xi=0.1,\n",
    "    noise=0.01**2\n",
    ")"
   ]
  },
  {
   "cell_type": "code",
   "execution_count": null,
   "metadata": {},
   "outputs": [],
   "source": [
    "# do random search\n",
    "opt_random = dummy_minimize(\n",
    "    objective,\n",
    "    space,\n",
    "    n_calls=20,\n",
    "    verbose=True,\n",
    "    random_state=42\n",
    ")"
   ]
  },
  {
   "cell_type": "code",
   "execution_count": null,
   "metadata": {},
   "outputs": [],
   "source": [
    "## comparison between random search and bayesian optimization\n",
    "## we can plot the maximum oob per iteration of the sequence\n",
    "\n",
    "# collect the maximum each iteration of BO\n",
    "y_bo = np.maximum.accumulate(-opt_bo.func_vals).ravel()\n",
    "y_random = np.maximum.accumulate(-opt_random.func_vals).ravel()\n",
    "# define iteration number\n",
    "xs = range(1, len(y_bo) + 1)\n",
    "\n",
    "plt.plot(xs, y_random, 'o-', color = 'red', label='Random Search')\n",
    "plt.plot(xs, y_bo, 'o-', color = 'blue', label='Bayesian Optimization')\n",
    "plt.legend()\n",
    "plt.xlabel('Iterations')\n",
    "plt.ylabel('accuracy')\n",
    "plt.title('Bayesian Optimization')\n",
    "plt.show()"
   ]
  },
  {
   "cell_type": "code",
   "execution_count": null,
   "metadata": {},
   "outputs": [],
   "source": [
    "#print(opt_bo.func_vals.min(), opt_bo.func_vals.max())\n",
    "#print(min(opt_bo.x_iters), max(opt_bo.x_iters))\n",
    "plt.scatter(np.abs(opt_bo.func_vals), opt_bo.x_iters, color='blue')\n",
    "plt.xlabel(\"Accuracy\")\n",
    "plt.xlim(0.55, 0.7)\n",
    "plt.ylabel(\"Dropout value\")\n",
    "plt.grid()\n",
    "plt.show()"
   ]
  },
  {
   "cell_type": "code",
   "execution_count": null,
   "metadata": {},
   "outputs": [],
   "source": [
    "plt.scatter(np.abs(opt_random.func_vals), opt_random.x_iters, color='blue')\n",
    "plt.xlabel(\"Accuracy\")\n",
    "plt.xlim(0.55, 0.7)\n",
    "plt.ylabel(\"Dropout value\")\n",
    "plt.grid()\n",
    "plt.show()"
   ]
  },
  {
   "cell_type": "code",
   "execution_count": null,
   "metadata": {},
   "outputs": [],
   "source": [
    "# Create a dense grid in the normalized space and predict with GP\n",
    "x_norm = np.linspace(0, 1, 10000)[:, np.newaxis]  \n",
    "f_pred, f_std = opt_bo.models[-1].predict(x_norm, return_std=True)  \n",
    "# Convert predictions from negative accuracy to accuracy\n",
    "acc_pred = -f_pred  \n",
    "ci_lower = acc_pred - 1.96 * f_std  \n",
    "ci_upper = acc_pred + 1.96 * f_std  \n",
    "\n",
    "# Convert x from normalized to original scale\n",
    "x_orig = 1 + x_norm * (256 - 1)  # because lower=1, upper=256\n",
    "\n",
    "# Get the evaluated (checked) points and their observed values (convert to accuracy)\n",
    "x_points = np.array([pt[0] for pt in opt_bo.x_iters])\n",
    "y_points = -np.array(opt_bo.func_vals)\n",
    "\n",
    "plt.plot(x_orig, acc_pred, \"r--\", label=\"Surrogate model\")\n",
    "plt.fill_between(x_orig.flatten(), ci_lower, ci_upper, color=\"r\", alpha=0.2, label=\"95% CI\")\n",
    "plt.scatter(x_points, y_points, c=\"black\", zorder=5, label=\"Checked points\")\n",
    "plt.xlabel(\"module__base_channels\")\n",
    "plt.ylabel(\"Accuracy\")\n",
    "plt.legend()\n",
    "plt.show()"
   ]
  }
 ],
 "metadata": {
  "kernelspec": {
   "display_name": "02463",
   "language": "python",
   "name": "python3"
  },
  "language_info": {
   "codemirror_mode": {
    "name": "ipython",
    "version": 3
   },
   "file_extension": ".py",
   "mimetype": "text/x-python",
   "name": "python",
   "nbconvert_exporter": "python",
   "pygments_lexer": "ipython3",
   "version": "3.13.2"
  }
 },
 "nbformat": 4,
 "nbformat_minor": 2
}
