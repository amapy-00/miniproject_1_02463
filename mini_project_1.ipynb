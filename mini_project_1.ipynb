{
 "cells": [
  {
   "cell_type": "markdown",
   "metadata": {},
   "source": [
    "# ImageNet - Bayesian Optimization \n",
    "## 02463 Active ML and Agency - Group BO 2"
   ]
  },
  {
   "cell_type": "code",
   "execution_count": 1,
   "metadata": {},
   "outputs": [],
   "source": [
    "import numpy as np\n",
    "import matplotlib.pyplot as plt\n",
    "import torch\n",
    "import torchvision\n",
    "import torchvision.transforms as transforms\n",
    "from train_model import train_model"
   ]
  },
  {
   "cell_type": "code",
   "execution_count": 2,
   "metadata": {
    "notebookRunGroups": {
     "groupValue": "2"
    }
   },
   "outputs": [
    {
     "name": "stdout",
     "output_type": "stream",
     "text": [
      "Iteration No: 1 started. Evaluating function at random point.\n",
      "Param values:  {'module__dropout': 0.20895231831282773}\n",
      "Files already downloaded and verified\n",
      "Files already downloaded and verified\n"
     ]
    },
    {
     "name": "stderr",
     "output_type": "stream",
     "text": [
      "GPU available: True (cuda), used: True\n",
      "TPU available: False, using: 0 TPU cores\n",
      "HPU available: False, using: 0 HPUs\n",
      "You are using a CUDA device ('NVIDIA GeForce RTX 4050 Laptop GPU') that has Tensor Cores. To properly utilize them, you should set `torch.set_float32_matmul_precision('medium' | 'high')` which will trade-off precision for performance. For more details, read https://pytorch.org/docs/stable/generated/torch.set_float32_matmul_precision.html#torch.set_float32_matmul_precision\n",
      "LOCAL_RANK: 0 - CUDA_VISIBLE_DEVICES: [0]\n",
      "\n",
      "  | Name       | Type              | Params | Mode \n",
      "---------------------------------------------------------\n",
      "0 | features   | Sequential        | 38.7 K | train\n",
      "1 | avgpool    | AdaptiveAvgPool2d | 0      | train\n",
      "2 | classifier | Sequential        | 38.4 K | train\n",
      "---------------------------------------------------------\n",
      "77.1 K    Trainable params\n",
      "0         Non-trainable params\n",
      "77.1 K    Total params\n",
      "0.309     Total estimated model params size (MB)\n",
      "13        Modules in train mode\n",
      "0         Modules in eval mode\n"
     ]
    },
    {
     "data": {
      "application/vnd.jupyter.widget-view+json": {
       "model_id": "5e5910f22b17433295208adba1567ada",
       "version_major": 2,
       "version_minor": 0
      },
      "text/plain": [
       "Training: |          | 0/? [00:00<?, ?it/s]"
      ]
     },
     "metadata": {},
     "output_type": "display_data"
    },
    {
     "name": "stderr",
     "output_type": "stream",
     "text": [
      "`Trainer.fit` stopped: `max_epochs=10` reached.\n"
     ]
    },
    {
     "name": "stdout",
     "output_type": "stream",
     "text": [
      "Iteration No: 1 ended. Evaluation done at random point.\n",
      "Time taken: 79.7336\n",
      "Function value obtained: -0.6513\n",
      "Current minimum: -0.6513\n",
      "Iteration No: 2 started. Evaluating function at random point.\n",
      "Param values:  {'module__dropout': 0.22340533392211243}\n",
      "Files already downloaded and verified\n",
      "Files already downloaded and verified\n"
     ]
    },
    {
     "name": "stderr",
     "output_type": "stream",
     "text": [
      "GPU available: True (cuda), used: True\n",
      "TPU available: False, using: 0 TPU cores\n",
      "HPU available: False, using: 0 HPUs\n",
      "LOCAL_RANK: 0 - CUDA_VISIBLE_DEVICES: [0]\n",
      "\n",
      "  | Name       | Type              | Params | Mode \n",
      "---------------------------------------------------------\n",
      "0 | features   | Sequential        | 38.7 K | train\n",
      "1 | avgpool    | AdaptiveAvgPool2d | 0      | train\n",
      "2 | classifier | Sequential        | 38.4 K | train\n",
      "---------------------------------------------------------\n",
      "77.1 K    Trainable params\n",
      "0         Non-trainable params\n",
      "77.1 K    Total params\n",
      "0.309     Total estimated model params size (MB)\n",
      "13        Modules in train mode\n",
      "0         Modules in eval mode\n"
     ]
    },
    {
     "data": {
      "application/vnd.jupyter.widget-view+json": {
       "model_id": "b7d5ec426d3d4d71af5d7bf94d5ca4f6",
       "version_major": 2,
       "version_minor": 0
      },
      "text/plain": [
       "Training: |          | 0/? [00:00<?, ?it/s]"
      ]
     },
     "metadata": {},
     "output_type": "display_data"
    },
    {
     "name": "stderr",
     "output_type": "stream",
     "text": [
      "`Trainer.fit` stopped: `max_epochs=10` reached.\n"
     ]
    },
    {
     "name": "stdout",
     "output_type": "stream",
     "text": [
      "Iteration No: 2 ended. Evaluation done at random point.\n",
      "Time taken: 74.2381\n",
      "Function value obtained: -0.6508\n",
      "Current minimum: -0.6513\n",
      "Iteration No: 3 started. Evaluating function at random point.\n",
      "Param values:  {'module__dropout': 0.37024132766216195}\n",
      "Files already downloaded and verified\n",
      "Files already downloaded and verified\n"
     ]
    },
    {
     "name": "stderr",
     "output_type": "stream",
     "text": [
      "GPU available: True (cuda), used: True\n",
      "TPU available: False, using: 0 TPU cores\n",
      "HPU available: False, using: 0 HPUs\n",
      "LOCAL_RANK: 0 - CUDA_VISIBLE_DEVICES: [0]\n",
      "\n",
      "  | Name       | Type              | Params | Mode \n",
      "---------------------------------------------------------\n",
      "0 | features   | Sequential        | 38.7 K | train\n",
      "1 | avgpool    | AdaptiveAvgPool2d | 0      | train\n",
      "2 | classifier | Sequential        | 38.4 K | train\n",
      "---------------------------------------------------------\n",
      "77.1 K    Trainable params\n",
      "0         Non-trainable params\n",
      "77.1 K    Total params\n",
      "0.309     Total estimated model params size (MB)\n",
      "13        Modules in train mode\n",
      "0         Modules in eval mode\n"
     ]
    },
    {
     "data": {
      "application/vnd.jupyter.widget-view+json": {
       "model_id": "e97029de6fc84e779d74b15c0b364da2",
       "version_major": 2,
       "version_minor": 0
      },
      "text/plain": [
       "Training: |          | 0/? [00:00<?, ?it/s]"
      ]
     },
     "metadata": {},
     "output_type": "display_data"
    },
    {
     "name": "stderr",
     "output_type": "stream",
     "text": [
      "`Trainer.fit` stopped: `max_epochs=10` reached.\n"
     ]
    },
    {
     "name": "stdout",
     "output_type": "stream",
     "text": [
      "Iteration No: 3 ended. Evaluation done at random point.\n",
      "Time taken: 73.6936\n",
      "Function value obtained: -0.6259\n",
      "Current minimum: -0.6513\n",
      "Iteration No: 4 started. Evaluating function at random point.\n",
      "Param values:  {'module__dropout': 0.5160541601266986}\n",
      "Files already downloaded and verified\n",
      "Files already downloaded and verified\n"
     ]
    },
    {
     "name": "stderr",
     "output_type": "stream",
     "text": [
      "GPU available: True (cuda), used: True\n",
      "TPU available: False, using: 0 TPU cores\n",
      "HPU available: False, using: 0 HPUs\n",
      "LOCAL_RANK: 0 - CUDA_VISIBLE_DEVICES: [0]\n",
      "\n",
      "  | Name       | Type              | Params | Mode \n",
      "---------------------------------------------------------\n",
      "0 | features   | Sequential        | 38.7 K | train\n",
      "1 | avgpool    | AdaptiveAvgPool2d | 0      | train\n",
      "2 | classifier | Sequential        | 38.4 K | train\n",
      "---------------------------------------------------------\n",
      "77.1 K    Trainable params\n",
      "0         Non-trainable params\n",
      "77.1 K    Total params\n",
      "0.309     Total estimated model params size (MB)\n",
      "13        Modules in train mode\n",
      "0         Modules in eval mode\n"
     ]
    },
    {
     "data": {
      "application/vnd.jupyter.widget-view+json": {
       "model_id": "29e86b6a5ae545c9a6f0ad31a933468f",
       "version_major": 2,
       "version_minor": 0
      },
      "text/plain": [
       "Training: |          | 0/? [00:00<?, ?it/s]"
      ]
     },
     "metadata": {},
     "output_type": "display_data"
    },
    {
     "name": "stderr",
     "output_type": "stream",
     "text": [
      "`Trainer.fit` stopped: `max_epochs=10` reached.\n"
     ]
    },
    {
     "name": "stdout",
     "output_type": "stream",
     "text": [
      "Iteration No: 4 ended. Evaluation done at random point.\n",
      "Time taken: 72.1958\n",
      "Function value obtained: -0.6439\n",
      "Current minimum: -0.6513\n",
      "Iteration No: 5 started. Evaluating function at random point.\n",
      "Param values:  {'module__dropout': 0.07177152126579824}\n",
      "Files already downloaded and verified\n",
      "Files already downloaded and verified\n"
     ]
    },
    {
     "name": "stderr",
     "output_type": "stream",
     "text": [
      "GPU available: True (cuda), used: True\n",
      "TPU available: False, using: 0 TPU cores\n",
      "HPU available: False, using: 0 HPUs\n",
      "LOCAL_RANK: 0 - CUDA_VISIBLE_DEVICES: [0]\n",
      "\n",
      "  | Name       | Type              | Params | Mode \n",
      "---------------------------------------------------------\n",
      "0 | features   | Sequential        | 38.7 K | train\n",
      "1 | avgpool    | AdaptiveAvgPool2d | 0      | train\n",
      "2 | classifier | Sequential        | 38.4 K | train\n",
      "---------------------------------------------------------\n",
      "77.1 K    Trainable params\n",
      "0         Non-trainable params\n",
      "77.1 K    Total params\n",
      "0.309     Total estimated model params size (MB)\n",
      "13        Modules in train mode\n",
      "0         Modules in eval mode\n"
     ]
    },
    {
     "data": {
      "application/vnd.jupyter.widget-view+json": {
       "model_id": "ab96e004dfa248949338d0f732f705a4",
       "version_major": 2,
       "version_minor": 0
      },
      "text/plain": [
       "Training: |          | 0/? [00:00<?, ?it/s]"
      ]
     },
     "metadata": {},
     "output_type": "display_data"
    },
    {
     "name": "stderr",
     "output_type": "stream",
     "text": [
      "`Trainer.fit` stopped: `max_epochs=10` reached.\n"
     ]
    },
    {
     "name": "stdout",
     "output_type": "stream",
     "text": [
      "Iteration No: 5 ended. Evaluation done at random point.\n",
      "Time taken: 79.6559\n",
      "Function value obtained: -0.6545\n",
      "Current minimum: -0.6545\n",
      "Iteration No: 6 started. Searching for the next optimal point.\n",
      "Param values:  {'module__dropout': 0.7936998509725991}\n",
      "Files already downloaded and verified\n",
      "Files already downloaded and verified\n"
     ]
    },
    {
     "name": "stderr",
     "output_type": "stream",
     "text": [
      "GPU available: True (cuda), used: True\n",
      "TPU available: False, using: 0 TPU cores\n",
      "HPU available: False, using: 0 HPUs\n",
      "LOCAL_RANK: 0 - CUDA_VISIBLE_DEVICES: [0]\n",
      "\n",
      "  | Name       | Type              | Params | Mode \n",
      "---------------------------------------------------------\n",
      "0 | features   | Sequential        | 38.7 K | train\n",
      "1 | avgpool    | AdaptiveAvgPool2d | 0      | train\n",
      "2 | classifier | Sequential        | 38.4 K | train\n",
      "---------------------------------------------------------\n",
      "77.1 K    Trainable params\n",
      "0         Non-trainable params\n",
      "77.1 K    Total params\n",
      "0.309     Total estimated model params size (MB)\n",
      "13        Modules in train mode\n",
      "0         Modules in eval mode\n"
     ]
    },
    {
     "data": {
      "application/vnd.jupyter.widget-view+json": {
       "model_id": "7313b42e807547e39f3158e54571bbe1",
       "version_major": 2,
       "version_minor": 0
      },
      "text/plain": [
       "Training: |          | 0/? [00:00<?, ?it/s]"
      ]
     },
     "metadata": {},
     "output_type": "display_data"
    },
    {
     "name": "stderr",
     "output_type": "stream",
     "text": [
      "`Trainer.fit` stopped: `max_epochs=10` reached.\n"
     ]
    },
    {
     "name": "stdout",
     "output_type": "stream",
     "text": [
      "Iteration No: 6 ended. Search finished for the next optimal point.\n",
      "Time taken: 80.2320\n",
      "Function value obtained: -0.6190\n",
      "Current minimum: -0.6545\n",
      "Iteration No: 7 started. Searching for the next optimal point.\n",
      "Param values:  {'module__dropout': 0.999938976530784}\n",
      "Files already downloaded and verified\n",
      "Files already downloaded and verified\n"
     ]
    },
    {
     "name": "stderr",
     "output_type": "stream",
     "text": [
      "GPU available: True (cuda), used: True\n",
      "TPU available: False, using: 0 TPU cores\n",
      "HPU available: False, using: 0 HPUs\n",
      "LOCAL_RANK: 0 - CUDA_VISIBLE_DEVICES: [0]\n",
      "\n",
      "  | Name       | Type              | Params | Mode \n",
      "---------------------------------------------------------\n",
      "0 | features   | Sequential        | 38.7 K | train\n",
      "1 | avgpool    | AdaptiveAvgPool2d | 0      | train\n",
      "2 | classifier | Sequential        | 38.4 K | train\n",
      "---------------------------------------------------------\n",
      "77.1 K    Trainable params\n",
      "0         Non-trainable params\n",
      "77.1 K    Total params\n",
      "0.309     Total estimated model params size (MB)\n",
      "13        Modules in train mode\n",
      "0         Modules in eval mode\n"
     ]
    },
    {
     "data": {
      "application/vnd.jupyter.widget-view+json": {
       "model_id": "271bd696df46442d97ea67fda0f57d41",
       "version_major": 2,
       "version_minor": 0
      },
      "text/plain": [
       "Training: |          | 0/? [00:00<?, ?it/s]"
      ]
     },
     "metadata": {},
     "output_type": "display_data"
    },
    {
     "name": "stderr",
     "output_type": "stream",
     "text": [
      "`Trainer.fit` stopped: `max_epochs=10` reached.\n"
     ]
    },
    {
     "name": "stdout",
     "output_type": "stream",
     "text": [
      "Iteration No: 7 ended. Search finished for the next optimal point.\n",
      "Time taken: 77.8488\n",
      "Function value obtained: -0.1000\n",
      "Current minimum: -0.6545\n",
      "Iteration No: 8 started. Searching for the next optimal point.\n",
      "Param values:  {'module__dropout': 0.6699136141748194}\n",
      "Files already downloaded and verified\n",
      "Files already downloaded and verified\n"
     ]
    },
    {
     "name": "stderr",
     "output_type": "stream",
     "text": [
      "GPU available: True (cuda), used: True\n",
      "TPU available: False, using: 0 TPU cores\n",
      "HPU available: False, using: 0 HPUs\n",
      "LOCAL_RANK: 0 - CUDA_VISIBLE_DEVICES: [0]\n",
      "\n",
      "  | Name       | Type              | Params | Mode \n",
      "---------------------------------------------------------\n",
      "0 | features   | Sequential        | 38.7 K | train\n",
      "1 | avgpool    | AdaptiveAvgPool2d | 0      | train\n",
      "2 | classifier | Sequential        | 38.4 K | train\n",
      "---------------------------------------------------------\n",
      "77.1 K    Trainable params\n",
      "0         Non-trainable params\n",
      "77.1 K    Total params\n",
      "0.309     Total estimated model params size (MB)\n",
      "13        Modules in train mode\n",
      "0         Modules in eval mode\n"
     ]
    },
    {
     "data": {
      "application/vnd.jupyter.widget-view+json": {
       "model_id": "765f7c69395b4c77bff8a49fc2b33f79",
       "version_major": 2,
       "version_minor": 0
      },
      "text/plain": [
       "Training: |          | 0/? [00:00<?, ?it/s]"
      ]
     },
     "metadata": {},
     "output_type": "display_data"
    },
    {
     "name": "stderr",
     "output_type": "stream",
     "text": [
      "`Trainer.fit` stopped: `max_epochs=10` reached.\n"
     ]
    },
    {
     "name": "stdout",
     "output_type": "stream",
     "text": [
      "Iteration No: 8 ended. Search finished for the next optimal point.\n",
      "Time taken: 77.7737\n",
      "Function value obtained: -0.6324\n",
      "Current minimum: -0.6545\n",
      "Iteration No: 9 started. Searching for the next optimal point.\n",
      "Param values:  {'module__dropout': 0.0}\n",
      "Files already downloaded and verified\n",
      "Files already downloaded and verified\n"
     ]
    },
    {
     "name": "stderr",
     "output_type": "stream",
     "text": [
      "GPU available: True (cuda), used: True\n",
      "TPU available: False, using: 0 TPU cores\n",
      "HPU available: False, using: 0 HPUs\n",
      "LOCAL_RANK: 0 - CUDA_VISIBLE_DEVICES: [0]\n",
      "\n",
      "  | Name       | Type              | Params | Mode \n",
      "---------------------------------------------------------\n",
      "0 | features   | Sequential        | 38.7 K | train\n",
      "1 | avgpool    | AdaptiveAvgPool2d | 0      | train\n",
      "2 | classifier | Sequential        | 38.4 K | train\n",
      "---------------------------------------------------------\n",
      "77.1 K    Trainable params\n",
      "0         Non-trainable params\n",
      "77.1 K    Total params\n",
      "0.309     Total estimated model params size (MB)\n",
      "13        Modules in train mode\n",
      "0         Modules in eval mode\n"
     ]
    },
    {
     "data": {
      "application/vnd.jupyter.widget-view+json": {
       "model_id": "dc0dcc4d3b7f4e39b26ca693e1ba131f",
       "version_major": 2,
       "version_minor": 0
      },
      "text/plain": [
       "Training: |          | 0/? [00:00<?, ?it/s]"
      ]
     },
     "metadata": {},
     "output_type": "display_data"
    },
    {
     "name": "stderr",
     "output_type": "stream",
     "text": [
      "`Trainer.fit` stopped: `max_epochs=10` reached.\n"
     ]
    },
    {
     "name": "stdout",
     "output_type": "stream",
     "text": [
      "Iteration No: 9 ended. Search finished for the next optimal point.\n",
      "Time taken: 77.4730\n",
      "Function value obtained: -0.6605\n",
      "Current minimum: -0.6605\n",
      "Iteration No: 10 started. Searching for the next optimal point.\n",
      "Param values:  {'module__dropout': 0.5893513167512727}\n",
      "Files already downloaded and verified\n",
      "Files already downloaded and verified\n"
     ]
    },
    {
     "name": "stderr",
     "output_type": "stream",
     "text": [
      "GPU available: True (cuda), used: True\n",
      "TPU available: False, using: 0 TPU cores\n",
      "HPU available: False, using: 0 HPUs\n",
      "LOCAL_RANK: 0 - CUDA_VISIBLE_DEVICES: [0]\n",
      "\n",
      "  | Name       | Type              | Params | Mode \n",
      "---------------------------------------------------------\n",
      "0 | features   | Sequential        | 38.7 K | train\n",
      "1 | avgpool    | AdaptiveAvgPool2d | 0      | train\n",
      "2 | classifier | Sequential        | 38.4 K | train\n",
      "---------------------------------------------------------\n",
      "77.1 K    Trainable params\n",
      "0         Non-trainable params\n",
      "77.1 K    Total params\n",
      "0.309     Total estimated model params size (MB)\n",
      "13        Modules in train mode\n",
      "0         Modules in eval mode\n"
     ]
    },
    {
     "data": {
      "application/vnd.jupyter.widget-view+json": {
       "model_id": "2d6328e3603949879ac00cfdac00b8ba",
       "version_major": 2,
       "version_minor": 0
      },
      "text/plain": [
       "Training: |          | 0/? [00:00<?, ?it/s]"
      ]
     },
     "metadata": {},
     "output_type": "display_data"
    },
    {
     "name": "stderr",
     "output_type": "stream",
     "text": [
      "`Trainer.fit` stopped: `max_epochs=10` reached.\n"
     ]
    },
    {
     "name": "stdout",
     "output_type": "stream",
     "text": [
      "Iteration No: 10 ended. Search finished for the next optimal point.\n",
      "Time taken: 77.4230\n",
      "Function value obtained: -0.6469\n",
      "Current minimum: -0.6605\n",
      "Iteration No: 11 started. Searching for the next optimal point.\n",
      "Param values:  {'module__dropout': 0.8717705152148947}\n",
      "Files already downloaded and verified\n",
      "Files already downloaded and verified\n"
     ]
    },
    {
     "name": "stderr",
     "output_type": "stream",
     "text": [
      "GPU available: True (cuda), used: True\n",
      "TPU available: False, using: 0 TPU cores\n",
      "HPU available: False, using: 0 HPUs\n",
      "LOCAL_RANK: 0 - CUDA_VISIBLE_DEVICES: [0]\n",
      "\n",
      "  | Name       | Type              | Params | Mode \n",
      "---------------------------------------------------------\n",
      "0 | features   | Sequential        | 38.7 K | train\n",
      "1 | avgpool    | AdaptiveAvgPool2d | 0      | train\n",
      "2 | classifier | Sequential        | 38.4 K | train\n",
      "---------------------------------------------------------\n",
      "77.1 K    Trainable params\n",
      "0         Non-trainable params\n",
      "77.1 K    Total params\n",
      "0.309     Total estimated model params size (MB)\n",
      "13        Modules in train mode\n",
      "0         Modules in eval mode\n"
     ]
    },
    {
     "data": {
      "application/vnd.jupyter.widget-view+json": {
       "model_id": "5b153e04ea374106ba38510631a12402",
       "version_major": 2,
       "version_minor": 0
      },
      "text/plain": [
       "Training: |          | 0/? [00:00<?, ?it/s]"
      ]
     },
     "metadata": {},
     "output_type": "display_data"
    },
    {
     "name": "stderr",
     "output_type": "stream",
     "text": [
      "`Trainer.fit` stopped: `max_epochs=10` reached.\n"
     ]
    },
    {
     "name": "stdout",
     "output_type": "stream",
     "text": [
      "Iteration No: 11 ended. Search finished for the next optimal point.\n",
      "Time taken: 77.9926\n",
      "Function value obtained: -0.6030\n",
      "Current minimum: -0.6605\n",
      "Iteration No: 12 started. Searching for the next optimal point.\n",
      "Param values:  {'module__dropout': 0.44243001484682143}\n",
      "Files already downloaded and verified\n",
      "Files already downloaded and verified\n"
     ]
    },
    {
     "name": "stderr",
     "output_type": "stream",
     "text": [
      "GPU available: True (cuda), used: True\n",
      "TPU available: False, using: 0 TPU cores\n",
      "HPU available: False, using: 0 HPUs\n",
      "LOCAL_RANK: 0 - CUDA_VISIBLE_DEVICES: [0]\n",
      "\n",
      "  | Name       | Type              | Params | Mode \n",
      "---------------------------------------------------------\n",
      "0 | features   | Sequential        | 38.7 K | train\n",
      "1 | avgpool    | AdaptiveAvgPool2d | 0      | train\n",
      "2 | classifier | Sequential        | 38.4 K | train\n",
      "---------------------------------------------------------\n",
      "77.1 K    Trainable params\n",
      "0         Non-trainable params\n",
      "77.1 K    Total params\n",
      "0.309     Total estimated model params size (MB)\n",
      "13        Modules in train mode\n",
      "0         Modules in eval mode\n"
     ]
    },
    {
     "data": {
      "application/vnd.jupyter.widget-view+json": {
       "model_id": "6130326245aa44e896ba53b347f67fa8",
       "version_major": 2,
       "version_minor": 0
      },
      "text/plain": [
       "Training: |          | 0/? [00:00<?, ?it/s]"
      ]
     },
     "metadata": {},
     "output_type": "display_data"
    },
    {
     "name": "stderr",
     "output_type": "stream",
     "text": [
      "`Trainer.fit` stopped: `max_epochs=10` reached.\n"
     ]
    },
    {
     "name": "stdout",
     "output_type": "stream",
     "text": [
      "Iteration No: 12 ended. Search finished for the next optimal point.\n",
      "Time taken: 79.6708\n",
      "Function value obtained: -0.6449\n",
      "Current minimum: -0.6605\n",
      "Iteration No: 13 started. Searching for the next optimal point.\n",
      "Param values:  {'module__dropout': 0.13354943922292686}\n",
      "Files already downloaded and verified\n",
      "Files already downloaded and verified\n"
     ]
    },
    {
     "name": "stderr",
     "output_type": "stream",
     "text": [
      "GPU available: True (cuda), used: True\n",
      "TPU available: False, using: 0 TPU cores\n",
      "HPU available: False, using: 0 HPUs\n",
      "LOCAL_RANK: 0 - CUDA_VISIBLE_DEVICES: [0]\n",
      "\n",
      "  | Name       | Type              | Params | Mode \n",
      "---------------------------------------------------------\n",
      "0 | features   | Sequential        | 38.7 K | train\n",
      "1 | avgpool    | AdaptiveAvgPool2d | 0      | train\n",
      "2 | classifier | Sequential        | 38.4 K | train\n",
      "---------------------------------------------------------\n",
      "77.1 K    Trainable params\n",
      "0         Non-trainable params\n",
      "77.1 K    Total params\n",
      "0.309     Total estimated model params size (MB)\n",
      "13        Modules in train mode\n",
      "0         Modules in eval mode\n"
     ]
    },
    {
     "data": {
      "application/vnd.jupyter.widget-view+json": {
       "model_id": "0f3e41754a82485389ef0e96a2a37ce2",
       "version_major": 2,
       "version_minor": 0
      },
      "text/plain": [
       "Training: |          | 0/? [00:00<?, ?it/s]"
      ]
     },
     "metadata": {},
     "output_type": "display_data"
    },
    {
     "name": "stderr",
     "output_type": "stream",
     "text": [
      "`Trainer.fit` stopped: `max_epochs=10` reached.\n"
     ]
    },
    {
     "name": "stdout",
     "output_type": "stream",
     "text": [
      "Iteration No: 13 ended. Search finished for the next optimal point.\n",
      "Time taken: 79.8845\n",
      "Function value obtained: -0.6487\n",
      "Current minimum: -0.6605\n",
      "Iteration No: 14 started. Searching for the next optimal point.\n",
      "Param values:  {'module__dropout': 0.29746296932080857}\n",
      "Files already downloaded and verified\n",
      "Files already downloaded and verified\n"
     ]
    },
    {
     "name": "stderr",
     "output_type": "stream",
     "text": [
      "GPU available: True (cuda), used: True\n",
      "TPU available: False, using: 0 TPU cores\n",
      "HPU available: False, using: 0 HPUs\n",
      "LOCAL_RANK: 0 - CUDA_VISIBLE_DEVICES: [0]\n",
      "\n",
      "  | Name       | Type              | Params | Mode \n",
      "---------------------------------------------------------\n",
      "0 | features   | Sequential        | 38.7 K | train\n",
      "1 | avgpool    | AdaptiveAvgPool2d | 0      | train\n",
      "2 | classifier | Sequential        | 38.4 K | train\n",
      "---------------------------------------------------------\n",
      "77.1 K    Trainable params\n",
      "0         Non-trainable params\n",
      "77.1 K    Total params\n",
      "0.309     Total estimated model params size (MB)\n",
      "13        Modules in train mode\n",
      "0         Modules in eval mode\n"
     ]
    },
    {
     "data": {
      "application/vnd.jupyter.widget-view+json": {
       "model_id": "15a87beeeb36478a96d6a84f11ff9ac0",
       "version_major": 2,
       "version_minor": 0
      },
      "text/plain": [
       "Training: |          | 0/? [00:00<?, ?it/s]"
      ]
     },
     "metadata": {},
     "output_type": "display_data"
    },
    {
     "name": "stderr",
     "output_type": "stream",
     "text": [
      "`Trainer.fit` stopped: `max_epochs=10` reached.\n"
     ]
    },
    {
     "name": "stdout",
     "output_type": "stream",
     "text": [
      "Iteration No: 14 ended. Search finished for the next optimal point.\n",
      "Time taken: 78.5277\n",
      "Function value obtained: -0.6382\n",
      "Current minimum: -0.6605\n",
      "Iteration No: 15 started. Searching for the next optimal point.\n",
      "Param values:  {'module__dropout': 0.7305159439845098}\n",
      "Files already downloaded and verified\n",
      "Files already downloaded and verified\n"
     ]
    },
    {
     "name": "stderr",
     "output_type": "stream",
     "text": [
      "GPU available: True (cuda), used: True\n",
      "TPU available: False, using: 0 TPU cores\n",
      "HPU available: False, using: 0 HPUs\n",
      "LOCAL_RANK: 0 - CUDA_VISIBLE_DEVICES: [0]\n",
      "\n",
      "  | Name       | Type              | Params | Mode \n",
      "---------------------------------------------------------\n",
      "0 | features   | Sequential        | 38.7 K | train\n",
      "1 | avgpool    | AdaptiveAvgPool2d | 0      | train\n",
      "2 | classifier | Sequential        | 38.4 K | train\n",
      "---------------------------------------------------------\n",
      "77.1 K    Trainable params\n",
      "0         Non-trainable params\n",
      "77.1 K    Total params\n",
      "0.309     Total estimated model params size (MB)\n",
      "13        Modules in train mode\n",
      "0         Modules in eval mode\n"
     ]
    },
    {
     "data": {
      "application/vnd.jupyter.widget-view+json": {
       "model_id": "51c933fb969c4197b3042ac8e618c74f",
       "version_major": 2,
       "version_minor": 0
      },
      "text/plain": [
       "Training: |          | 0/? [00:00<?, ?it/s]"
      ]
     },
     "metadata": {},
     "output_type": "display_data"
    },
    {
     "name": "stderr",
     "output_type": "stream",
     "text": [
      "`Trainer.fit` stopped: `max_epochs=10` reached.\n"
     ]
    },
    {
     "name": "stdout",
     "output_type": "stream",
     "text": [
      "Iteration No: 15 ended. Search finished for the next optimal point.\n",
      "Time taken: 81.0994\n",
      "Function value obtained: -0.6185\n",
      "Current minimum: -0.6605\n",
      "Iteration No: 16 started. Searching for the next optimal point.\n",
      "Param values:  {'module__dropout': 0.030530907914270718}\n",
      "Files already downloaded and verified\n",
      "Files already downloaded and verified\n"
     ]
    },
    {
     "name": "stderr",
     "output_type": "stream",
     "text": [
      "GPU available: True (cuda), used: True\n",
      "TPU available: False, using: 0 TPU cores\n",
      "HPU available: False, using: 0 HPUs\n",
      "LOCAL_RANK: 0 - CUDA_VISIBLE_DEVICES: [0]\n",
      "\n",
      "  | Name       | Type              | Params | Mode \n",
      "---------------------------------------------------------\n",
      "0 | features   | Sequential        | 38.7 K | train\n",
      "1 | avgpool    | AdaptiveAvgPool2d | 0      | train\n",
      "2 | classifier | Sequential        | 38.4 K | train\n",
      "---------------------------------------------------------\n",
      "77.1 K    Trainable params\n",
      "0         Non-trainable params\n",
      "77.1 K    Total params\n",
      "0.309     Total estimated model params size (MB)\n",
      "13        Modules in train mode\n",
      "0         Modules in eval mode\n"
     ]
    },
    {
     "data": {
      "application/vnd.jupyter.widget-view+json": {
       "model_id": "58c59221bb5b4df2b706a1615c98f1c7",
       "version_major": 2,
       "version_minor": 0
      },
      "text/plain": [
       "Training: |          | 0/? [00:00<?, ?it/s]"
      ]
     },
     "metadata": {},
     "output_type": "display_data"
    },
    {
     "name": "stderr",
     "output_type": "stream",
     "text": [
      "`Trainer.fit` stopped: `max_epochs=10` reached.\n"
     ]
    },
    {
     "name": "stdout",
     "output_type": "stream",
     "text": [
      "Iteration No: 16 ended. Search finished for the next optimal point.\n",
      "Time taken: 80.5857\n",
      "Function value obtained: -0.6509\n",
      "Current minimum: -0.6605\n",
      "Iteration No: 17 started. Searching for the next optimal point.\n",
      "Param values:  {'module__dropout': 0.923916051066612}\n",
      "Files already downloaded and verified\n",
      "Files already downloaded and verified\n"
     ]
    },
    {
     "name": "stderr",
     "output_type": "stream",
     "text": [
      "GPU available: True (cuda), used: True\n",
      "TPU available: False, using: 0 TPU cores\n",
      "HPU available: False, using: 0 HPUs\n",
      "LOCAL_RANK: 0 - CUDA_VISIBLE_DEVICES: [0]\n",
      "\n",
      "  | Name       | Type              | Params | Mode \n",
      "---------------------------------------------------------\n",
      "0 | features   | Sequential        | 38.7 K | train\n",
      "1 | avgpool    | AdaptiveAvgPool2d | 0      | train\n",
      "2 | classifier | Sequential        | 38.4 K | train\n",
      "---------------------------------------------------------\n",
      "77.1 K    Trainable params\n",
      "0         Non-trainable params\n",
      "77.1 K    Total params\n",
      "0.309     Total estimated model params size (MB)\n",
      "13        Modules in train mode\n",
      "0         Modules in eval mode\n"
     ]
    },
    {
     "data": {
      "application/vnd.jupyter.widget-view+json": {
       "model_id": "52fd1c76d3ef47c5a78eba2145dc5bf8",
       "version_major": 2,
       "version_minor": 0
      },
      "text/plain": [
       "Training: |          | 0/? [00:00<?, ?it/s]"
      ]
     },
     "metadata": {},
     "output_type": "display_data"
    },
    {
     "name": "stderr",
     "output_type": "stream",
     "text": [
      "`Trainer.fit` stopped: `max_epochs=10` reached.\n"
     ]
    },
    {
     "name": "stdout",
     "output_type": "stream",
     "text": [
      "Iteration No: 17 ended. Search finished for the next optimal point.\n",
      "Time taken: 73.7290\n",
      "Function value obtained: -0.5885\n",
      "Current minimum: -0.6605\n",
      "Iteration No: 18 started. Searching for the next optimal point.\n",
      "Param values:  {'module__dropout': 0.6280025228994423}\n",
      "Files already downloaded and verified\n",
      "Files already downloaded and verified\n"
     ]
    },
    {
     "name": "stderr",
     "output_type": "stream",
     "text": [
      "GPU available: True (cuda), used: True\n",
      "TPU available: False, using: 0 TPU cores\n",
      "HPU available: False, using: 0 HPUs\n",
      "LOCAL_RANK: 0 - CUDA_VISIBLE_DEVICES: [0]\n",
      "\n",
      "  | Name       | Type              | Params | Mode \n",
      "---------------------------------------------------------\n",
      "0 | features   | Sequential        | 38.7 K | train\n",
      "1 | avgpool    | AdaptiveAvgPool2d | 0      | train\n",
      "2 | classifier | Sequential        | 38.4 K | train\n",
      "---------------------------------------------------------\n",
      "77.1 K    Trainable params\n",
      "0         Non-trainable params\n",
      "77.1 K    Total params\n",
      "0.309     Total estimated model params size (MB)\n",
      "13        Modules in train mode\n",
      "0         Modules in eval mode\n"
     ]
    },
    {
     "data": {
      "application/vnd.jupyter.widget-view+json": {
       "model_id": "703c65b949af411691644d4ee6da5669",
       "version_major": 2,
       "version_minor": 0
      },
      "text/plain": [
       "Training: |          | 0/? [00:00<?, ?it/s]"
      ]
     },
     "metadata": {},
     "output_type": "display_data"
    },
    {
     "name": "stderr",
     "output_type": "stream",
     "text": [
      "`Trainer.fit` stopped: `max_epochs=10` reached.\n"
     ]
    },
    {
     "name": "stdout",
     "output_type": "stream",
     "text": [
      "Iteration No: 18 ended. Search finished for the next optimal point.\n",
      "Time taken: 73.4920\n",
      "Function value obtained: -0.6318\n",
      "Current minimum: -0.6605\n",
      "Iteration No: 19 started. Searching for the next optimal point.\n",
      "Param values:  {'module__dropout': 0.4785031993849941}\n",
      "Files already downloaded and verified\n",
      "Files already downloaded and verified\n"
     ]
    },
    {
     "name": "stderr",
     "output_type": "stream",
     "text": [
      "GPU available: True (cuda), used: True\n",
      "TPU available: False, using: 0 TPU cores\n",
      "HPU available: False, using: 0 HPUs\n",
      "LOCAL_RANK: 0 - CUDA_VISIBLE_DEVICES: [0]\n",
      "\n",
      "  | Name       | Type              | Params | Mode \n",
      "---------------------------------------------------------\n",
      "0 | features   | Sequential        | 38.7 K | train\n",
      "1 | avgpool    | AdaptiveAvgPool2d | 0      | train\n",
      "2 | classifier | Sequential        | 38.4 K | train\n",
      "---------------------------------------------------------\n",
      "77.1 K    Trainable params\n",
      "0         Non-trainable params\n",
      "77.1 K    Total params\n",
      "0.309     Total estimated model params size (MB)\n",
      "13        Modules in train mode\n",
      "0         Modules in eval mode\n"
     ]
    },
    {
     "data": {
      "application/vnd.jupyter.widget-view+json": {
       "model_id": "00faa47c5593480d813e999f329bb500",
       "version_major": 2,
       "version_minor": 0
      },
      "text/plain": [
       "Training: |          | 0/? [00:00<?, ?it/s]"
      ]
     },
     "metadata": {},
     "output_type": "display_data"
    },
    {
     "name": "stderr",
     "output_type": "stream",
     "text": [
      "`Trainer.fit` stopped: `max_epochs=10` reached.\n"
     ]
    },
    {
     "name": "stdout",
     "output_type": "stream",
     "text": [
      "Iteration No: 19 ended. Search finished for the next optimal point.\n",
      "Time taken: 73.0710\n",
      "Function value obtained: -0.6449\n",
      "Current minimum: -0.6605\n",
      "Iteration No: 20 started. Searching for the next optimal point.\n",
      "Param values:  {'module__dropout': 0.33306919635140103}\n",
      "Files already downloaded and verified\n",
      "Files already downloaded and verified\n"
     ]
    },
    {
     "name": "stderr",
     "output_type": "stream",
     "text": [
      "GPU available: True (cuda), used: True\n",
      "TPU available: False, using: 0 TPU cores\n",
      "HPU available: False, using: 0 HPUs\n",
      "LOCAL_RANK: 0 - CUDA_VISIBLE_DEVICES: [0]\n",
      "\n",
      "  | Name       | Type              | Params | Mode \n",
      "---------------------------------------------------------\n",
      "0 | features   | Sequential        | 38.7 K | train\n",
      "1 | avgpool    | AdaptiveAvgPool2d | 0      | train\n",
      "2 | classifier | Sequential        | 38.4 K | train\n",
      "---------------------------------------------------------\n",
      "77.1 K    Trainable params\n",
      "0         Non-trainable params\n",
      "77.1 K    Total params\n",
      "0.309     Total estimated model params size (MB)\n",
      "13        Modules in train mode\n",
      "0         Modules in eval mode\n"
     ]
    },
    {
     "data": {
      "application/vnd.jupyter.widget-view+json": {
       "model_id": "28fb89958dd2457c8daf6d9abd604005",
       "version_major": 2,
       "version_minor": 0
      },
      "text/plain": [
       "Training: |          | 0/? [00:00<?, ?it/s]"
      ]
     },
     "metadata": {},
     "output_type": "display_data"
    },
    {
     "name": "stderr",
     "output_type": "stream",
     "text": [
      "`Trainer.fit` stopped: `max_epochs=10` reached.\n"
     ]
    },
    {
     "name": "stdout",
     "output_type": "stream",
     "text": [
      "Iteration No: 20 ended. Search finished for the next optimal point.\n",
      "Time taken: 71.8621\n",
      "Function value obtained: -0.6613\n",
      "Current minimum: -0.6613\n"
     ]
    }
   ],
   "source": [
    "import skopt\n",
    "from skopt import gp_minimize\n",
    "\n",
    "space = [\n",
    "    skopt.space.Real(0, 1, name='module__dropout'),\n",
    "]\n",
    "\n",
    "def objective(x):\n",
    "    # Decode the JSON encoded categorical values.\n",
    "    params = {\n",
    "        'module__dropout': x[0],\n",
    "    }\n",
    "    print(\"Param values: \", params)\n",
    "    accuracy = train_model(params, num_epochs=10, n_training_samples=50000)\n",
    "    # Return negative accuracy for minimization.\n",
    "    return -accuracy\n",
    "\n",
    "opt_bo = gp_minimize(\n",
    "    objective,\n",
    "    space,\n",
    "    acq_func='EI',\n",
    "    n_calls=20,\n",
    "    n_random_starts=5,\n",
    "    verbose=True,\n",
    "    xi=0.1,\n",
    "    noise=0.01**2\n",
    ")"
   ]
  },
  {
   "cell_type": "code",
   "execution_count": 7,
   "metadata": {},
   "outputs": [
    {
     "name": "stdout",
     "output_type": "stream",
     "text": [
      "Iteration No: 1 started. Evaluating function at random point.\n",
      "Param values:  {'module__dropout': 0.7965429868602331}\n",
      "Files already downloaded and verified\n",
      "Files already downloaded and verified\n"
     ]
    },
    {
     "name": "stderr",
     "output_type": "stream",
     "text": [
      "GPU available: True (cuda), used: True\n",
      "TPU available: False, using: 0 TPU cores\n",
      "HPU available: False, using: 0 HPUs\n",
      "LOCAL_RANK: 0 - CUDA_VISIBLE_DEVICES: [0]\n",
      "\n",
      "  | Name       | Type              | Params | Mode \n",
      "---------------------------------------------------------\n",
      "0 | features   | Sequential        | 38.7 K | train\n",
      "1 | avgpool    | AdaptiveAvgPool2d | 0      | train\n",
      "2 | classifier | Sequential        | 38.4 K | train\n",
      "---------------------------------------------------------\n",
      "77.1 K    Trainable params\n",
      "0         Non-trainable params\n",
      "77.1 K    Total params\n",
      "0.309     Total estimated model params size (MB)\n",
      "13        Modules in train mode\n",
      "0         Modules in eval mode\n"
     ]
    },
    {
     "data": {
      "application/vnd.jupyter.widget-view+json": {
       "model_id": "da35b689d8584330b754ecc0bb272ea5",
       "version_major": 2,
       "version_minor": 0
      },
      "text/plain": [
       "Training: |          | 0/? [00:00<?, ?it/s]"
      ]
     },
     "metadata": {},
     "output_type": "display_data"
    },
    {
     "name": "stderr",
     "output_type": "stream",
     "text": [
      "`Trainer.fit` stopped: `max_epochs=10` reached.\n"
     ]
    },
    {
     "name": "stdout",
     "output_type": "stream",
     "text": [
      "Iteration No: 1 ended. Evaluation done at random point.\n",
      "Time taken: 76.7226\n",
      "Function value obtained: -0.6256\n",
      "Current minimum: -0.6256\n",
      "Iteration No: 2 started. Evaluating function at random point.\n",
      "Param values:  {'module__dropout': 0.18343478986616382}\n",
      "Files already downloaded and verified\n",
      "Files already downloaded and verified\n"
     ]
    },
    {
     "name": "stderr",
     "output_type": "stream",
     "text": [
      "GPU available: True (cuda), used: True\n",
      "TPU available: False, using: 0 TPU cores\n",
      "HPU available: False, using: 0 HPUs\n",
      "LOCAL_RANK: 0 - CUDA_VISIBLE_DEVICES: [0]\n",
      "\n",
      "  | Name       | Type              | Params | Mode \n",
      "---------------------------------------------------------\n",
      "0 | features   | Sequential        | 38.7 K | train\n",
      "1 | avgpool    | AdaptiveAvgPool2d | 0      | train\n",
      "2 | classifier | Sequential        | 38.4 K | train\n",
      "---------------------------------------------------------\n",
      "77.1 K    Trainable params\n",
      "0         Non-trainable params\n",
      "77.1 K    Total params\n",
      "0.309     Total estimated model params size (MB)\n",
      "13        Modules in train mode\n",
      "0         Modules in eval mode\n"
     ]
    },
    {
     "data": {
      "application/vnd.jupyter.widget-view+json": {
       "model_id": "c1dec095fa894f8babaab782c0bfd48c",
       "version_major": 2,
       "version_minor": 0
      },
      "text/plain": [
       "Training: |          | 0/? [00:00<?, ?it/s]"
      ]
     },
     "metadata": {},
     "output_type": "display_data"
    },
    {
     "name": "stderr",
     "output_type": "stream",
     "text": [
      "`Trainer.fit` stopped: `max_epochs=10` reached.\n"
     ]
    },
    {
     "name": "stdout",
     "output_type": "stream",
     "text": [
      "Iteration No: 2 ended. Evaluation done at random point.\n",
      "Time taken: 75.6595\n",
      "Function value obtained: -0.6489\n",
      "Current minimum: -0.6489\n",
      "Iteration No: 3 started. Evaluating function at random point.\n",
      "Param values:  {'module__dropout': 0.7796910002727695}\n",
      "Files already downloaded and verified\n",
      "Files already downloaded and verified\n"
     ]
    },
    {
     "name": "stderr",
     "output_type": "stream",
     "text": [
      "GPU available: True (cuda), used: True\n",
      "TPU available: False, using: 0 TPU cores\n",
      "HPU available: False, using: 0 HPUs\n",
      "LOCAL_RANK: 0 - CUDA_VISIBLE_DEVICES: [0]\n",
      "\n",
      "  | Name       | Type              | Params | Mode \n",
      "---------------------------------------------------------\n",
      "0 | features   | Sequential        | 38.7 K | train\n",
      "1 | avgpool    | AdaptiveAvgPool2d | 0      | train\n",
      "2 | classifier | Sequential        | 38.4 K | train\n",
      "---------------------------------------------------------\n",
      "77.1 K    Trainable params\n",
      "0         Non-trainable params\n",
      "77.1 K    Total params\n",
      "0.309     Total estimated model params size (MB)\n",
      "13        Modules in train mode\n",
      "0         Modules in eval mode\n"
     ]
    },
    {
     "data": {
      "application/vnd.jupyter.widget-view+json": {
       "model_id": "47bf782454b642598a99f5355044c396",
       "version_major": 2,
       "version_minor": 0
      },
      "text/plain": [
       "Training: |          | 0/? [00:00<?, ?it/s]"
      ]
     },
     "metadata": {},
     "output_type": "display_data"
    },
    {
     "name": "stderr",
     "output_type": "stream",
     "text": [
      "`Trainer.fit` stopped: `max_epochs=10` reached.\n"
     ]
    },
    {
     "name": "stdout",
     "output_type": "stream",
     "text": [
      "Iteration No: 3 ended. Evaluation done at random point.\n",
      "Time taken: 78.5656\n",
      "Function value obtained: -0.6289\n",
      "Current minimum: -0.6489\n",
      "Iteration No: 4 started. Evaluating function at random point.\n",
      "Param values:  {'module__dropout': 0.5968501579464871}\n",
      "Files already downloaded and verified\n",
      "Files already downloaded and verified\n"
     ]
    },
    {
     "name": "stderr",
     "output_type": "stream",
     "text": [
      "GPU available: True (cuda), used: True\n",
      "TPU available: False, using: 0 TPU cores\n",
      "HPU available: False, using: 0 HPUs\n",
      "LOCAL_RANK: 0 - CUDA_VISIBLE_DEVICES: [0]\n",
      "\n",
      "  | Name       | Type              | Params | Mode \n",
      "---------------------------------------------------------\n",
      "0 | features   | Sequential        | 38.7 K | train\n",
      "1 | avgpool    | AdaptiveAvgPool2d | 0      | train\n",
      "2 | classifier | Sequential        | 38.4 K | train\n",
      "---------------------------------------------------------\n",
      "77.1 K    Trainable params\n",
      "0         Non-trainable params\n",
      "77.1 K    Total params\n",
      "0.309     Total estimated model params size (MB)\n",
      "13        Modules in train mode\n",
      "0         Modules in eval mode\n"
     ]
    },
    {
     "data": {
      "application/vnd.jupyter.widget-view+json": {
       "model_id": "4ca28a9bf072456a864a498472044b79",
       "version_major": 2,
       "version_minor": 0
      },
      "text/plain": [
       "Training: |          | 0/? [00:00<?, ?it/s]"
      ]
     },
     "metadata": {},
     "output_type": "display_data"
    },
    {
     "name": "stderr",
     "output_type": "stream",
     "text": [
      "`Trainer.fit` stopped: `max_epochs=10` reached.\n"
     ]
    },
    {
     "name": "stdout",
     "output_type": "stream",
     "text": [
      "Iteration No: 4 ended. Evaluation done at random point.\n",
      "Time taken: 75.7710\n",
      "Function value obtained: -0.6410\n",
      "Current minimum: -0.6489\n",
      "Iteration No: 5 started. Evaluating function at random point.\n",
      "Param values:  {'module__dropout': 0.44583275285359125}\n",
      "Files already downloaded and verified\n",
      "Files already downloaded and verified\n"
     ]
    },
    {
     "name": "stderr",
     "output_type": "stream",
     "text": [
      "GPU available: True (cuda), used: True\n",
      "TPU available: False, using: 0 TPU cores\n",
      "HPU available: False, using: 0 HPUs\n",
      "LOCAL_RANK: 0 - CUDA_VISIBLE_DEVICES: [0]\n",
      "\n",
      "  | Name       | Type              | Params | Mode \n",
      "---------------------------------------------------------\n",
      "0 | features   | Sequential        | 38.7 K | train\n",
      "1 | avgpool    | AdaptiveAvgPool2d | 0      | train\n",
      "2 | classifier | Sequential        | 38.4 K | train\n",
      "---------------------------------------------------------\n",
      "77.1 K    Trainable params\n",
      "0         Non-trainable params\n",
      "77.1 K    Total params\n",
      "0.309     Total estimated model params size (MB)\n",
      "13        Modules in train mode\n",
      "0         Modules in eval mode\n"
     ]
    },
    {
     "data": {
      "application/vnd.jupyter.widget-view+json": {
       "model_id": "78cae5250f7042ae93a1d65eaa7aa352",
       "version_major": 2,
       "version_minor": 0
      },
      "text/plain": [
       "Training: |          | 0/? [00:00<?, ?it/s]"
      ]
     },
     "metadata": {},
     "output_type": "display_data"
    },
    {
     "name": "stderr",
     "output_type": "stream",
     "text": [
      "`Trainer.fit` stopped: `max_epochs=10` reached.\n"
     ]
    },
    {
     "name": "stdout",
     "output_type": "stream",
     "text": [
      "Iteration No: 5 ended. Evaluation done at random point.\n",
      "Time taken: 76.9028\n",
      "Function value obtained: -0.6393\n",
      "Current minimum: -0.6489\n",
      "Iteration No: 6 started. Evaluating function at random point.\n",
      "Param values:  {'module__dropout': 0.09997491581800291}\n",
      "Files already downloaded and verified\n",
      "Files already downloaded and verified\n"
     ]
    },
    {
     "name": "stderr",
     "output_type": "stream",
     "text": [
      "GPU available: True (cuda), used: True\n",
      "TPU available: False, using: 0 TPU cores\n",
      "HPU available: False, using: 0 HPUs\n",
      "LOCAL_RANK: 0 - CUDA_VISIBLE_DEVICES: [0]\n",
      "\n",
      "  | Name       | Type              | Params | Mode \n",
      "---------------------------------------------------------\n",
      "0 | features   | Sequential        | 38.7 K | train\n",
      "1 | avgpool    | AdaptiveAvgPool2d | 0      | train\n",
      "2 | classifier | Sequential        | 38.4 K | train\n",
      "---------------------------------------------------------\n",
      "77.1 K    Trainable params\n",
      "0         Non-trainable params\n",
      "77.1 K    Total params\n",
      "0.309     Total estimated model params size (MB)\n",
      "13        Modules in train mode\n",
      "0         Modules in eval mode\n"
     ]
    },
    {
     "data": {
      "application/vnd.jupyter.widget-view+json": {
       "model_id": "0a37ad55392b4cddb189da667c4b3a14",
       "version_major": 2,
       "version_minor": 0
      },
      "text/plain": [
       "Training: |          | 0/? [00:00<?, ?it/s]"
      ]
     },
     "metadata": {},
     "output_type": "display_data"
    },
    {
     "name": "stderr",
     "output_type": "stream",
     "text": [
      "`Trainer.fit` stopped: `max_epochs=10` reached.\n"
     ]
    },
    {
     "name": "stdout",
     "output_type": "stream",
     "text": [
      "Iteration No: 6 ended. Evaluation done at random point.\n",
      "Time taken: 80.2383\n",
      "Function value obtained: -0.6571\n",
      "Current minimum: -0.6571\n",
      "Iteration No: 7 started. Evaluating function at random point.\n",
      "Param values:  {'module__dropout': 0.45924889196586727}\n",
      "Files already downloaded and verified\n",
      "Files already downloaded and verified\n"
     ]
    },
    {
     "name": "stderr",
     "output_type": "stream",
     "text": [
      "GPU available: True (cuda), used: True\n",
      "TPU available: False, using: 0 TPU cores\n",
      "HPU available: False, using: 0 HPUs\n",
      "LOCAL_RANK: 0 - CUDA_VISIBLE_DEVICES: [0]\n",
      "\n",
      "  | Name       | Type              | Params | Mode \n",
      "---------------------------------------------------------\n",
      "0 | features   | Sequential        | 38.7 K | train\n",
      "1 | avgpool    | AdaptiveAvgPool2d | 0      | train\n",
      "2 | classifier | Sequential        | 38.4 K | train\n",
      "---------------------------------------------------------\n",
      "77.1 K    Trainable params\n",
      "0         Non-trainable params\n",
      "77.1 K    Total params\n",
      "0.309     Total estimated model params size (MB)\n",
      "13        Modules in train mode\n",
      "0         Modules in eval mode\n"
     ]
    },
    {
     "data": {
      "application/vnd.jupyter.widget-view+json": {
       "model_id": "9354c9355ca845209dbd789e0cc7fce4",
       "version_major": 2,
       "version_minor": 0
      },
      "text/plain": [
       "Training: |          | 0/? [00:00<?, ?it/s]"
      ]
     },
     "metadata": {},
     "output_type": "display_data"
    },
    {
     "name": "stderr",
     "output_type": "stream",
     "text": [
      "`Trainer.fit` stopped: `max_epochs=10` reached.\n"
     ]
    },
    {
     "name": "stdout",
     "output_type": "stream",
     "text": [
      "Iteration No: 7 ended. Evaluation done at random point.\n",
      "Time taken: 73.9548\n",
      "Function value obtained: -0.6563\n",
      "Current minimum: -0.6571\n",
      "Iteration No: 8 started. Evaluating function at random point.\n",
      "Param values:  {'module__dropout': 0.3337086111390219}\n",
      "Files already downloaded and verified\n",
      "Files already downloaded and verified\n"
     ]
    },
    {
     "name": "stderr",
     "output_type": "stream",
     "text": [
      "GPU available: True (cuda), used: True\n",
      "TPU available: False, using: 0 TPU cores\n",
      "HPU available: False, using: 0 HPUs\n",
      "LOCAL_RANK: 0 - CUDA_VISIBLE_DEVICES: [0]\n",
      "\n",
      "  | Name       | Type              | Params | Mode \n",
      "---------------------------------------------------------\n",
      "0 | features   | Sequential        | 38.7 K | train\n",
      "1 | avgpool    | AdaptiveAvgPool2d | 0      | train\n",
      "2 | classifier | Sequential        | 38.4 K | train\n",
      "---------------------------------------------------------\n",
      "77.1 K    Trainable params\n",
      "0         Non-trainable params\n",
      "77.1 K    Total params\n",
      "0.309     Total estimated model params size (MB)\n",
      "13        Modules in train mode\n",
      "0         Modules in eval mode\n"
     ]
    },
    {
     "data": {
      "application/vnd.jupyter.widget-view+json": {
       "model_id": "323ef4e06bda41038793e2eee637847d",
       "version_major": 2,
       "version_minor": 0
      },
      "text/plain": [
       "Training: |          | 0/? [00:00<?, ?it/s]"
      ]
     },
     "metadata": {},
     "output_type": "display_data"
    },
    {
     "name": "stderr",
     "output_type": "stream",
     "text": [
      "`Trainer.fit` stopped: `max_epochs=10` reached.\n"
     ]
    },
    {
     "name": "stdout",
     "output_type": "stream",
     "text": [
      "Iteration No: 8 ended. Evaluation done at random point.\n",
      "Time taken: 75.3122\n",
      "Function value obtained: -0.6367\n",
      "Current minimum: -0.6571\n",
      "Iteration No: 9 started. Evaluating function at random point.\n",
      "Param values:  {'module__dropout': 0.1428668179219408}\n",
      "Files already downloaded and verified\n",
      "Files already downloaded and verified\n"
     ]
    },
    {
     "name": "stderr",
     "output_type": "stream",
     "text": [
      "GPU available: True (cuda), used: True\n",
      "TPU available: False, using: 0 TPU cores\n",
      "HPU available: False, using: 0 HPUs\n",
      "LOCAL_RANK: 0 - CUDA_VISIBLE_DEVICES: [0]\n",
      "\n",
      "  | Name       | Type              | Params | Mode \n",
      "---------------------------------------------------------\n",
      "0 | features   | Sequential        | 38.7 K | train\n",
      "1 | avgpool    | AdaptiveAvgPool2d | 0      | train\n",
      "2 | classifier | Sequential        | 38.4 K | train\n",
      "---------------------------------------------------------\n",
      "77.1 K    Trainable params\n",
      "0         Non-trainable params\n",
      "77.1 K    Total params\n",
      "0.309     Total estimated model params size (MB)\n",
      "13        Modules in train mode\n",
      "0         Modules in eval mode\n"
     ]
    },
    {
     "data": {
      "application/vnd.jupyter.widget-view+json": {
       "model_id": "26798c9fee5a4a749afe2af882818ac7",
       "version_major": 2,
       "version_minor": 0
      },
      "text/plain": [
       "Training: |          | 0/? [00:00<?, ?it/s]"
      ]
     },
     "metadata": {},
     "output_type": "display_data"
    },
    {
     "name": "stderr",
     "output_type": "stream",
     "text": [
      "`Trainer.fit` stopped: `max_epochs=10` reached.\n"
     ]
    },
    {
     "name": "stdout",
     "output_type": "stream",
     "text": [
      "Iteration No: 9 ended. Evaluation done at random point.\n",
      "Time taken: 78.4086\n",
      "Function value obtained: -0.6517\n",
      "Current minimum: -0.6571\n",
      "Iteration No: 10 started. Evaluating function at random point.\n",
      "Param values:  {'module__dropout': 0.650888472948853}\n",
      "Files already downloaded and verified\n",
      "Files already downloaded and verified\n"
     ]
    },
    {
     "name": "stderr",
     "output_type": "stream",
     "text": [
      "GPU available: True (cuda), used: True\n",
      "TPU available: False, using: 0 TPU cores\n",
      "HPU available: False, using: 0 HPUs\n",
      "LOCAL_RANK: 0 - CUDA_VISIBLE_DEVICES: [0]\n",
      "\n",
      "  | Name       | Type              | Params | Mode \n",
      "---------------------------------------------------------\n",
      "0 | features   | Sequential        | 38.7 K | train\n",
      "1 | avgpool    | AdaptiveAvgPool2d | 0      | train\n",
      "2 | classifier | Sequential        | 38.4 K | train\n",
      "---------------------------------------------------------\n",
      "77.1 K    Trainable params\n",
      "0         Non-trainable params\n",
      "77.1 K    Total params\n",
      "0.309     Total estimated model params size (MB)\n",
      "13        Modules in train mode\n",
      "0         Modules in eval mode\n"
     ]
    },
    {
     "data": {
      "application/vnd.jupyter.widget-view+json": {
       "model_id": "0c28124a4d1a471ba0c0d7afad228cc2",
       "version_major": 2,
       "version_minor": 0
      },
      "text/plain": [
       "Training: |          | 0/? [00:00<?, ?it/s]"
      ]
     },
     "metadata": {},
     "output_type": "display_data"
    },
    {
     "name": "stderr",
     "output_type": "stream",
     "text": [
      "`Trainer.fit` stopped: `max_epochs=10` reached.\n"
     ]
    },
    {
     "name": "stdout",
     "output_type": "stream",
     "text": [
      "Iteration No: 10 ended. Evaluation done at random point.\n",
      "Time taken: 73.6618\n",
      "Function value obtained: -0.6450\n",
      "Current minimum: -0.6571\n",
      "Iteration No: 11 started. Evaluating function at random point.\n",
      "Param values:  {'module__dropout': 0.05641157902710027}\n",
      "Files already downloaded and verified\n",
      "Files already downloaded and verified\n"
     ]
    },
    {
     "name": "stderr",
     "output_type": "stream",
     "text": [
      "GPU available: True (cuda), used: True\n",
      "TPU available: False, using: 0 TPU cores\n",
      "HPU available: False, using: 0 HPUs\n",
      "LOCAL_RANK: 0 - CUDA_VISIBLE_DEVICES: [0]\n",
      "\n",
      "  | Name       | Type              | Params | Mode \n",
      "---------------------------------------------------------\n",
      "0 | features   | Sequential        | 38.7 K | train\n",
      "1 | avgpool    | AdaptiveAvgPool2d | 0      | train\n",
      "2 | classifier | Sequential        | 38.4 K | train\n",
      "---------------------------------------------------------\n",
      "77.1 K    Trainable params\n",
      "0         Non-trainable params\n",
      "77.1 K    Total params\n",
      "0.309     Total estimated model params size (MB)\n",
      "13        Modules in train mode\n",
      "0         Modules in eval mode\n"
     ]
    },
    {
     "data": {
      "application/vnd.jupyter.widget-view+json": {
       "model_id": "03e7589926f744e19d588379af79eab6",
       "version_major": 2,
       "version_minor": 0
      },
      "text/plain": [
       "Training: |          | 0/? [00:00<?, ?it/s]"
      ]
     },
     "metadata": {},
     "output_type": "display_data"
    },
    {
     "name": "stderr",
     "output_type": "stream",
     "text": [
      "`Trainer.fit` stopped: `max_epochs=10` reached.\n"
     ]
    },
    {
     "name": "stdout",
     "output_type": "stream",
     "text": [
      "Iteration No: 11 ended. Evaluation done at random point.\n",
      "Time taken: 76.4885\n",
      "Function value obtained: -0.6551\n",
      "Current minimum: -0.6571\n",
      "Iteration No: 12 started. Evaluating function at random point.\n",
      "Param values:  {'module__dropout': 0.7219987722668249}\n",
      "Files already downloaded and verified\n",
      "Files already downloaded and verified\n"
     ]
    },
    {
     "name": "stderr",
     "output_type": "stream",
     "text": [
      "GPU available: True (cuda), used: True\n",
      "TPU available: False, using: 0 TPU cores\n",
      "HPU available: False, using: 0 HPUs\n",
      "LOCAL_RANK: 0 - CUDA_VISIBLE_DEVICES: [0]\n",
      "\n",
      "  | Name       | Type              | Params | Mode \n",
      "---------------------------------------------------------\n",
      "0 | features   | Sequential        | 38.7 K | train\n",
      "1 | avgpool    | AdaptiveAvgPool2d | 0      | train\n",
      "2 | classifier | Sequential        | 38.4 K | train\n",
      "---------------------------------------------------------\n",
      "77.1 K    Trainable params\n",
      "0         Non-trainable params\n",
      "77.1 K    Total params\n",
      "0.309     Total estimated model params size (MB)\n",
      "13        Modules in train mode\n",
      "0         Modules in eval mode\n"
     ]
    },
    {
     "data": {
      "application/vnd.jupyter.widget-view+json": {
       "model_id": "381073333e51464db0015521fcf67e16",
       "version_major": 2,
       "version_minor": 0
      },
      "text/plain": [
       "Training: |          | 0/? [00:00<?, ?it/s]"
      ]
     },
     "metadata": {},
     "output_type": "display_data"
    },
    {
     "name": "stderr",
     "output_type": "stream",
     "text": [
      "`Trainer.fit` stopped: `max_epochs=10` reached.\n"
     ]
    },
    {
     "name": "stdout",
     "output_type": "stream",
     "text": [
      "Iteration No: 12 ended. Evaluation done at random point.\n",
      "Time taken: 75.9934\n",
      "Function value obtained: -0.6293\n",
      "Current minimum: -0.6571\n",
      "Iteration No: 13 started. Evaluating function at random point.\n",
      "Param values:  {'module__dropout': 0.9385527090157504}\n",
      "Files already downloaded and verified\n",
      "Files already downloaded and verified\n"
     ]
    },
    {
     "name": "stderr",
     "output_type": "stream",
     "text": [
      "GPU available: True (cuda), used: True\n",
      "TPU available: False, using: 0 TPU cores\n",
      "HPU available: False, using: 0 HPUs\n",
      "LOCAL_RANK: 0 - CUDA_VISIBLE_DEVICES: [0]\n",
      "\n",
      "  | Name       | Type              | Params | Mode \n",
      "---------------------------------------------------------\n",
      "0 | features   | Sequential        | 38.7 K | train\n",
      "1 | avgpool    | AdaptiveAvgPool2d | 0      | train\n",
      "2 | classifier | Sequential        | 38.4 K | train\n",
      "---------------------------------------------------------\n",
      "77.1 K    Trainable params\n",
      "0         Non-trainable params\n",
      "77.1 K    Total params\n",
      "0.309     Total estimated model params size (MB)\n",
      "13        Modules in train mode\n",
      "0         Modules in eval mode\n"
     ]
    },
    {
     "data": {
      "application/vnd.jupyter.widget-view+json": {
       "model_id": "77fa5f5e844b440b8fa565f9dc1ddd22",
       "version_major": 2,
       "version_minor": 0
      },
      "text/plain": [
       "Training: |          | 0/? [00:00<?, ?it/s]"
      ]
     },
     "metadata": {},
     "output_type": "display_data"
    },
    {
     "name": "stderr",
     "output_type": "stream",
     "text": [
      "`Trainer.fit` stopped: `max_epochs=10` reached.\n"
     ]
    },
    {
     "name": "stdout",
     "output_type": "stream",
     "text": [
      "Iteration No: 13 ended. Evaluation done at random point.\n",
      "Time taken: 80.6653\n",
      "Function value obtained: -0.5684\n",
      "Current minimum: -0.6571\n",
      "Iteration No: 14 started. Evaluating function at random point.\n",
      "Param values:  {'module__dropout': 0.0007787658410143285}\n",
      "Files already downloaded and verified\n",
      "Files already downloaded and verified\n"
     ]
    },
    {
     "name": "stderr",
     "output_type": "stream",
     "text": [
      "GPU available: True (cuda), used: True\n",
      "TPU available: False, using: 0 TPU cores\n",
      "HPU available: False, using: 0 HPUs\n",
      "LOCAL_RANK: 0 - CUDA_VISIBLE_DEVICES: [0]\n",
      "\n",
      "  | Name       | Type              | Params | Mode \n",
      "---------------------------------------------------------\n",
      "0 | features   | Sequential        | 38.7 K | train\n",
      "1 | avgpool    | AdaptiveAvgPool2d | 0      | train\n",
      "2 | classifier | Sequential        | 38.4 K | train\n",
      "---------------------------------------------------------\n",
      "77.1 K    Trainable params\n",
      "0         Non-trainable params\n",
      "77.1 K    Total params\n",
      "0.309     Total estimated model params size (MB)\n",
      "13        Modules in train mode\n",
      "0         Modules in eval mode\n"
     ]
    },
    {
     "data": {
      "application/vnd.jupyter.widget-view+json": {
       "model_id": "8dc72ee18fe544f0a936aac17faa2cd7",
       "version_major": 2,
       "version_minor": 0
      },
      "text/plain": [
       "Training: |          | 0/? [00:00<?, ?it/s]"
      ]
     },
     "metadata": {},
     "output_type": "display_data"
    },
    {
     "name": "stderr",
     "output_type": "stream",
     "text": [
      "`Trainer.fit` stopped: `max_epochs=10` reached.\n"
     ]
    },
    {
     "name": "stdout",
     "output_type": "stream",
     "text": [
      "Iteration No: 14 ended. Evaluation done at random point.\n",
      "Time taken: 78.9611\n",
      "Function value obtained: -0.6352\n",
      "Current minimum: -0.6571\n",
      "Iteration No: 15 started. Evaluating function at random point.\n",
      "Param values:  {'module__dropout': 0.9922115592912177}\n",
      "Files already downloaded and verified\n",
      "Files already downloaded and verified\n"
     ]
    },
    {
     "name": "stderr",
     "output_type": "stream",
     "text": [
      "GPU available: True (cuda), used: True\n",
      "TPU available: False, using: 0 TPU cores\n",
      "HPU available: False, using: 0 HPUs\n",
      "LOCAL_RANK: 0 - CUDA_VISIBLE_DEVICES: [0]\n",
      "\n",
      "  | Name       | Type              | Params | Mode \n",
      "---------------------------------------------------------\n",
      "0 | features   | Sequential        | 38.7 K | train\n",
      "1 | avgpool    | AdaptiveAvgPool2d | 0      | train\n",
      "2 | classifier | Sequential        | 38.4 K | train\n",
      "---------------------------------------------------------\n",
      "77.1 K    Trainable params\n",
      "0         Non-trainable params\n",
      "77.1 K    Total params\n",
      "0.309     Total estimated model params size (MB)\n",
      "13        Modules in train mode\n",
      "0         Modules in eval mode\n"
     ]
    },
    {
     "data": {
      "application/vnd.jupyter.widget-view+json": {
       "model_id": "bc954977a7fd4e90a3ba0849df315b75",
       "version_major": 2,
       "version_minor": 0
      },
      "text/plain": [
       "Training: |          | 0/? [00:00<?, ?it/s]"
      ]
     },
     "metadata": {},
     "output_type": "display_data"
    },
    {
     "name": "stderr",
     "output_type": "stream",
     "text": [
      "`Trainer.fit` stopped: `max_epochs=10` reached.\n"
     ]
    },
    {
     "name": "stdout",
     "output_type": "stream",
     "text": [
      "Iteration No: 15 ended. Evaluation done at random point.\n",
      "Time taken: 73.7561\n",
      "Function value obtained: -0.3041\n",
      "Current minimum: -0.6571\n",
      "Iteration No: 16 started. Evaluating function at random point.\n",
      "Param values:  {'module__dropout': 0.6174815096277166}\n",
      "Files already downloaded and verified\n",
      "Files already downloaded and verified\n"
     ]
    },
    {
     "name": "stderr",
     "output_type": "stream",
     "text": [
      "GPU available: True (cuda), used: True\n",
      "TPU available: False, using: 0 TPU cores\n",
      "HPU available: False, using: 0 HPUs\n",
      "LOCAL_RANK: 0 - CUDA_VISIBLE_DEVICES: [0]\n",
      "\n",
      "  | Name       | Type              | Params | Mode \n",
      "---------------------------------------------------------\n",
      "0 | features   | Sequential        | 38.7 K | train\n",
      "1 | avgpool    | AdaptiveAvgPool2d | 0      | train\n",
      "2 | classifier | Sequential        | 38.4 K | train\n",
      "---------------------------------------------------------\n",
      "77.1 K    Trainable params\n",
      "0         Non-trainable params\n",
      "77.1 K    Total params\n",
      "0.309     Total estimated model params size (MB)\n",
      "13        Modules in train mode\n",
      "0         Modules in eval mode\n"
     ]
    },
    {
     "data": {
      "application/vnd.jupyter.widget-view+json": {
       "model_id": "848229d98efd4e2c8910e9c8ea21a39e",
       "version_major": 2,
       "version_minor": 0
      },
      "text/plain": [
       "Training: |          | 0/? [00:00<?, ?it/s]"
      ]
     },
     "metadata": {},
     "output_type": "display_data"
    },
    {
     "name": "stderr",
     "output_type": "stream",
     "text": [
      "`Trainer.fit` stopped: `max_epochs=10` reached.\n"
     ]
    },
    {
     "name": "stdout",
     "output_type": "stream",
     "text": [
      "Iteration No: 16 ended. Evaluation done at random point.\n",
      "Time taken: 77.2550\n",
      "Function value obtained: -0.6423\n",
      "Current minimum: -0.6571\n",
      "Iteration No: 17 started. Evaluating function at random point.\n",
      "Param values:  {'module__dropout': 0.611653160488281}\n",
      "Files already downloaded and verified\n",
      "Files already downloaded and verified\n"
     ]
    },
    {
     "name": "stderr",
     "output_type": "stream",
     "text": [
      "GPU available: True (cuda), used: True\n",
      "TPU available: False, using: 0 TPU cores\n",
      "HPU available: False, using: 0 HPUs\n",
      "LOCAL_RANK: 0 - CUDA_VISIBLE_DEVICES: [0]\n",
      "\n",
      "  | Name       | Type              | Params | Mode \n",
      "---------------------------------------------------------\n",
      "0 | features   | Sequential        | 38.7 K | train\n",
      "1 | avgpool    | AdaptiveAvgPool2d | 0      | train\n",
      "2 | classifier | Sequential        | 38.4 K | train\n",
      "---------------------------------------------------------\n",
      "77.1 K    Trainable params\n",
      "0         Non-trainable params\n",
      "77.1 K    Total params\n",
      "0.309     Total estimated model params size (MB)\n",
      "13        Modules in train mode\n",
      "0         Modules in eval mode\n"
     ]
    },
    {
     "data": {
      "application/vnd.jupyter.widget-view+json": {
       "model_id": "7368a85e7def43a7bad858cd4f1dd275",
       "version_major": 2,
       "version_minor": 0
      },
      "text/plain": [
       "Training: |          | 0/? [00:00<?, ?it/s]"
      ]
     },
     "metadata": {},
     "output_type": "display_data"
    },
    {
     "name": "stderr",
     "output_type": "stream",
     "text": [
      "`Trainer.fit` stopped: `max_epochs=10` reached.\n"
     ]
    },
    {
     "name": "stdout",
     "output_type": "stream",
     "text": [
      "Iteration No: 17 ended. Evaluation done at random point.\n",
      "Time taken: 74.3193\n",
      "Function value obtained: -0.6440\n",
      "Current minimum: -0.6571\n",
      "Iteration No: 18 started. Evaluating function at random point.\n",
      "Param values:  {'module__dropout': 0.007066305219717408}\n",
      "Files already downloaded and verified\n",
      "Files already downloaded and verified\n"
     ]
    },
    {
     "name": "stderr",
     "output_type": "stream",
     "text": [
      "GPU available: True (cuda), used: True\n",
      "TPU available: False, using: 0 TPU cores\n",
      "HPU available: False, using: 0 HPUs\n",
      "LOCAL_RANK: 0 - CUDA_VISIBLE_DEVICES: [0]\n",
      "\n",
      "  | Name       | Type              | Params | Mode \n",
      "---------------------------------------------------------\n",
      "0 | features   | Sequential        | 38.7 K | train\n",
      "1 | avgpool    | AdaptiveAvgPool2d | 0      | train\n",
      "2 | classifier | Sequential        | 38.4 K | train\n",
      "---------------------------------------------------------\n",
      "77.1 K    Trainable params\n",
      "0         Non-trainable params\n",
      "77.1 K    Total params\n",
      "0.309     Total estimated model params size (MB)\n",
      "13        Modules in train mode\n",
      "0         Modules in eval mode\n"
     ]
    },
    {
     "data": {
      "application/vnd.jupyter.widget-view+json": {
       "model_id": "842a111d27c5467d8115be8c25581581",
       "version_major": 2,
       "version_minor": 0
      },
      "text/plain": [
       "Training: |          | 0/? [00:00<?, ?it/s]"
      ]
     },
     "metadata": {},
     "output_type": "display_data"
    },
    {
     "name": "stderr",
     "output_type": "stream",
     "text": [
      "`Trainer.fit` stopped: `max_epochs=10` reached.\n"
     ]
    },
    {
     "name": "stdout",
     "output_type": "stream",
     "text": [
      "Iteration No: 18 ended. Evaluation done at random point.\n",
      "Time taken: 78.5838\n",
      "Function value obtained: -0.6608\n",
      "Current minimum: -0.6608\n",
      "Iteration No: 19 started. Evaluating function at random point.\n",
      "Param values:  {'module__dropout': 0.02306242504141576}\n",
      "Files already downloaded and verified\n",
      "Files already downloaded and verified\n"
     ]
    },
    {
     "name": "stderr",
     "output_type": "stream",
     "text": [
      "GPU available: True (cuda), used: True\n",
      "TPU available: False, using: 0 TPU cores\n",
      "HPU available: False, using: 0 HPUs\n",
      "LOCAL_RANK: 0 - CUDA_VISIBLE_DEVICES: [0]\n",
      "\n",
      "  | Name       | Type              | Params | Mode \n",
      "---------------------------------------------------------\n",
      "0 | features   | Sequential        | 38.7 K | train\n",
      "1 | avgpool    | AdaptiveAvgPool2d | 0      | train\n",
      "2 | classifier | Sequential        | 38.4 K | train\n",
      "---------------------------------------------------------\n",
      "77.1 K    Trainable params\n",
      "0         Non-trainable params\n",
      "77.1 K    Total params\n",
      "0.309     Total estimated model params size (MB)\n",
      "13        Modules in train mode\n",
      "0         Modules in eval mode\n"
     ]
    },
    {
     "data": {
      "application/vnd.jupyter.widget-view+json": {
       "model_id": "64c00f92c131480a8095593a3b70cde7",
       "version_major": 2,
       "version_minor": 0
      },
      "text/plain": [
       "Training: |          | 0/? [00:00<?, ?it/s]"
      ]
     },
     "metadata": {},
     "output_type": "display_data"
    },
    {
     "name": "stderr",
     "output_type": "stream",
     "text": [
      "`Trainer.fit` stopped: `max_epochs=10` reached.\n"
     ]
    },
    {
     "name": "stdout",
     "output_type": "stream",
     "text": [
      "Iteration No: 19 ended. Evaluation done at random point.\n",
      "Time taken: 73.7666\n",
      "Function value obtained: -0.6500\n",
      "Current minimum: -0.6608\n",
      "Iteration No: 20 started. Evaluating function at random point.\n",
      "Param values:  {'module__dropout': 0.5247746602583893}\n",
      "Files already downloaded and verified\n",
      "Files already downloaded and verified\n"
     ]
    },
    {
     "name": "stderr",
     "output_type": "stream",
     "text": [
      "GPU available: True (cuda), used: True\n",
      "TPU available: False, using: 0 TPU cores\n",
      "HPU available: False, using: 0 HPUs\n",
      "LOCAL_RANK: 0 - CUDA_VISIBLE_DEVICES: [0]\n",
      "\n",
      "  | Name       | Type              | Params | Mode \n",
      "---------------------------------------------------------\n",
      "0 | features   | Sequential        | 38.7 K | train\n",
      "1 | avgpool    | AdaptiveAvgPool2d | 0      | train\n",
      "2 | classifier | Sequential        | 38.4 K | train\n",
      "---------------------------------------------------------\n",
      "77.1 K    Trainable params\n",
      "0         Non-trainable params\n",
      "77.1 K    Total params\n",
      "0.309     Total estimated model params size (MB)\n",
      "13        Modules in train mode\n",
      "0         Modules in eval mode\n"
     ]
    },
    {
     "data": {
      "application/vnd.jupyter.widget-view+json": {
       "model_id": "3b6b132686bd48858219c3ab1e013122",
       "version_major": 2,
       "version_minor": 0
      },
      "text/plain": [
       "Training: |          | 0/? [00:00<?, ?it/s]"
      ]
     },
     "metadata": {},
     "output_type": "display_data"
    },
    {
     "name": "stderr",
     "output_type": "stream",
     "text": [
      "`Trainer.fit` stopped: `max_epochs=10` reached.\n"
     ]
    },
    {
     "name": "stdout",
     "output_type": "stream",
     "text": [
      "Iteration No: 20 ended. Evaluation done at random point.\n",
      "Time taken: 73.3541\n",
      "Function value obtained: -0.6293\n",
      "Current minimum: -0.6608\n"
     ]
    }
   ],
   "source": [
    "# do random search\n",
    "from skopt import dummy_minimize\n",
    "opt_random = dummy_minimize(\n",
    "    objective,\n",
    "    space,\n",
    "    n_calls=20,\n",
    "    verbose=True,\n",
    "    random_state=42\n",
    ")"
   ]
  },
  {
   "cell_type": "code",
   "execution_count": 9,
   "metadata": {},
   "outputs": [
    {
     "data": {
      "image/png": "[encoded data removed]",
      "text/plain": [
       "<Figure size 640x480 with 1 Axes>"
      ]
     },
     "metadata": {},
     "output_type": "display_data"
    }
   ],
   "source": [
    "## comparison between random search and bayesian optimization\n",
    "## we can plot the maximum oob per iteration of the sequence\n",
    "\n",
    "# collect the maximum each iteration of BO\n",
    "y_bo = np.maximum.accumulate(-opt_bo.func_vals).ravel()\n",
    "y_random = np.maximum.accumulate(-opt_random.func_vals).ravel()\n",
    "# define iteration number\n",
    "xs = range(1, len(y_bo) + 1)\n",
    "\n",
    "plt.plot(xs, y_random, 'o-', color = 'red', label='Random Search')\n",
    "plt.plot(xs, y_bo, 'o-', color = 'blue', label='Bayesian Optimization')\n",
    "plt.legend()\n",
    "plt.xlabel('Iterations')\n",
    "plt.ylabel('accuracy')\n",
    "plt.title('Bayesian Optimization')\n",
    "plt.show()"
   ]
  },
  {
   "cell_type": "code",
   "execution_count": 6,
   "metadata": {},
   "outputs": [
    {
     "data": {
      "image/png": "[encoded data removed]",
      "text/plain": [
       "<Figure size 640x480 with 1 Axes>"
      ]
     },
     "metadata": {},
     "output_type": "display_data"
    }
   ],
   "source": [
    "#print(opt_bo.func_vals.min(), opt_bo.func_vals.max())\n",
    "#print(min(opt_bo.x_iters), max(opt_bo.x_iters))\n",
    "plt.scatter(np.abs(opt_bo.func_vals), opt_bo.x_iters, color='blue')\n",
    "plt.xlabel(\"Accuracy\")\n",
    "plt.xlim(0.55, 0.7)\n",
    "plt.ylabel(\"Dropout value\")\n",
    "plt.grid()\n",
    "plt.show()"
   ]
  },
  {
   "cell_type": "code",
   "execution_count": 8,
   "metadata": {},
   "outputs": [
    {
     "data": {
      "image/png": "[encoded data removed]",
      "text/plain": [
       "<Figure size 640x480 with 1 Axes>"
      ]
     },
     "metadata": {},
     "output_type": "display_data"
    }
   ],
   "source": [
    "plt.scatter(np.abs(opt_random.func_vals), opt_random.x_iters, color='blue')\n",
    "plt.xlabel(\"Accuracy\")\n",
    "plt.xlim(0.55, 0.7)\n",
    "plt.ylabel(\"Dropout value\")\n",
    "plt.grid()\n",
    "plt.show()"
   ]
  }
 ],
 "metadata": {
  "kernelspec": {
   "display_name": "02463",
   "language": "python",
   "name": "python3"
  },
  "language_info": {
   "codemirror_mode": {
    "name": "ipython",
    "version": 3
   },
   "file_extension": ".py",
   "mimetype": "text/x-python",
   "name": "python",
   "nbconvert_exporter": "python",
   "pygments_lexer": "ipython3",
   "version": "3.12.8"
  }
 },
 "nbformat": 4,
 "nbformat_minor": 2
}
