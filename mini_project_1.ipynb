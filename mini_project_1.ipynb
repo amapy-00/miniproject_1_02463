{
 "cells": [
  {
   "cell_type": "markdown",
   "metadata": {},
   "source": [
    "# ImageNet - Bayesian Optimization \n",
    "## 02463 Active ML and Agency - Group BO 2"
   ]
  },
  {
   "cell_type": "code",
   "execution_count": 1,
   "metadata": {},
   "outputs": [],
   "source": [
    "import numpy as np\n",
    "import matplotlib.pyplot as plt\n",
    "import torch\n",
    "import torchvision\n",
    "import torchvision.transforms as transforms\n",
    "\n",
    "import skopt\n",
    "from skopt import gp_minimize\n",
    "import json"
   ]
  },
  {
   "cell_type": "code",
   "execution_count": 2,
   "metadata": {},
   "outputs": [
    {
     "name": "stderr",
     "output_type": "stream",
     "text": [
      "100%|██████████| 169M/169M [01:54<00:00, 1.47MB/s] \n"
     ]
    }
   ],
   "source": [
    "transform = transforms.Compose(\n",
    "    [transforms.ToTensor(),\n",
    "     transforms.Normalize((0.5, 0.5, 0.5), (0.5, 0.5, 0.5))]\n",
    ")\n",
    "\n",
    "# Download the CIFAR-100 dataset (train and test)\n",
    "trainset = torchvision.datasets.CIFAR100(root='./data', train=True, download=True, transform=transform)\n",
    "testset = torchvision.datasets.CIFAR100(root='./data', train=False, download=True, transform=transform)\n",
    "\n",
    "# Create data loaders - BATCH SIZE IS SUBJECTIVE TO CHANGE \n",
    "trainloader = torch.utils.data.DataLoader(trainset, batch_size=4, shuffle=True, num_workers=2)\n",
    "testloader = torch.utils.data.DataLoader(testset, batch_size=4, shuffle=False, num_workers=2)\n",
    "\n",
    "# Check the data\n",
    "images, labels = next(iter(trainloader))"
   ]
  },
  {
   "cell_type": "code",
   "execution_count": 5,
   "metadata": {},
   "outputs": [
    {
     "name": "stderr",
     "output_type": "stream",
     "text": [
      "GPU available: True (cuda), used: True\n",
      "TPU available: False, using: 0 TPU cores\n",
      "HPU available: False, using: 0 HPUs\n",
      "/home/ubuntu/miniconda3/envs/02463/lib/python3.13/site-packages/pytorch_lightning/trainer/configuration_validator.py:70: You defined a `validation_step` but have no `val_dataloader`. Skipping val loop.\n",
      "You are using a CUDA device ('NVIDIA GeForce RTX 3060') that has Tensor Cores. To properly utilize them, you should set `torch.set_float32_matmul_precision('medium' | 'high')` which will trade-off precision for performance. For more details, read https://pytorch.org/docs/stable/generated/torch.set_float32_matmul_precision.html#torch.set_float32_matmul_precision\n",
      "LOCAL_RANK: 0 - CUDA_VISIBLE_DEVICES: [0]\n",
      "\n",
      "  | Name       | Type              | Params | Mode \n",
      "---------------------------------------------------------\n",
      "0 | features   | Sequential        | 5.1 K  | train\n",
      "1 | avgpool    | AdaptiveAvgPool2d | 0      | train\n",
      "2 | classifier | Sequential        | 17.1 K | train\n",
      "---------------------------------------------------------\n",
      "22.2 K    Trainable params\n",
      "0         Non-trainable params\n",
      "22.2 K    Total params\n",
      "0.089     Total estimated model params size (MB)\n",
      "13        Modules in train mode\n",
      "0         Modules in eval mode\n"
     ]
    },
    {
     "name": "stdout",
     "output_type": "stream",
     "text": [
      "Epoch 9: 100%|██████████| 32/32 [00:00<00:00, 224.89it/s]"
     ]
    },
    {
     "name": "stderr",
     "output_type": "stream",
     "text": [
      "`Trainer.fit` stopped: `max_epochs=10` reached.\n"
     ]
    },
    {
     "name": "stdout",
     "output_type": "stream",
     "text": [
      "Epoch 9: 100%|██████████| 32/32 [00:00<00:00, 223.50it/s]\n",
      "Test Accuracy: 3.95%\n"
     ]
    }
   ],
   "source": [
    "from train_model import train_model\n",
    "\n",
    "params = {\n",
    "    'module__base_channels': 16,                    # or try: 32\n",
    "    'module__dropout': 0.5,                        # or try: 0.3\n",
    "}\n",
    "# Train for 10 epochs using 1000 training samples (adjust as needed)\n",
    "accuracy = train_model(params, num_epochs=10, n_training_samples=1000)\n",
    "print(f'Test Accuracy: {accuracy * 100:.2f}%')"
   ]
  },
  {
   "cell_type": "code",
   "execution_count": 6,
   "metadata": {},
   "outputs": [
    {
     "name": "stdout",
     "output_type": "stream",
     "text": [
      "Iteration No: 1 started. Evaluating function at random point.\n"
     ]
    },
    {
     "name": "stderr",
     "output_type": "stream",
     "text": [
      "GPU available: True (cuda), used: True\n",
      "TPU available: False, using: 0 TPU cores\n",
      "HPU available: False, using: 0 HPUs\n",
      "/home/ubuntu/miniconda3/envs/02463/lib/python3.13/site-packages/pytorch_lightning/trainer/configuration_validator.py:70: You defined a `validation_step` but have no `val_dataloader`. Skipping val loop.\n",
      "LOCAL_RANK: 0 - CUDA_VISIBLE_DEVICES: [0]\n",
      "\n",
      "  | Name       | Type              | Params | Mode \n",
      "---------------------------------------------------------\n",
      "0 | features   | Sequential        | 201 K  | train\n",
      "1 | avgpool    | AdaptiveAvgPool2d | 0      | train\n",
      "2 | classifier | Sequential        | 261 K  | train\n",
      "---------------------------------------------------------\n",
      "462 K     Trainable params\n",
      "0         Non-trainable params\n",
      "462 K     Total params\n",
      "1.852     Total estimated model params size (MB)\n",
      "13        Modules in train mode\n",
      "0         Modules in eval mode\n"
     ]
    },
    {
     "name": "stdout",
     "output_type": "stream",
     "text": [
      "Epoch 9: 100%|██████████| 313/313 [00:01<00:00, 282.92it/s]"
     ]
    },
    {
     "name": "stderr",
     "output_type": "stream",
     "text": [
      "`Trainer.fit` stopped: `max_epochs=10` reached.\n"
     ]
    },
    {
     "name": "stdout",
     "output_type": "stream",
     "text": [
      "Epoch 9: 100%|██████████| 313/313 [00:01<00:00, 282.68it/s]\n",
      "Iteration No: 1 ended. Evaluation done at random point.\n",
      "Time taken: 13.0857\n",
      "Function value obtained: -0.1894\n",
      "Current minimum: -0.1894\n",
      "Iteration No: 2 started. Evaluating function at random point.\n"
     ]
    },
    {
     "name": "stderr",
     "output_type": "stream",
     "text": [
      "GPU available: True (cuda), used: True\n",
      "TPU available: False, using: 0 TPU cores\n",
      "HPU available: False, using: 0 HPUs\n",
      "LOCAL_RANK: 0 - CUDA_VISIBLE_DEVICES: [0]\n",
      "\n",
      "  | Name       | Type              | Params | Mode \n",
      "---------------------------------------------------------\n",
      "0 | features   | Sequential        | 4.5 K  | train\n",
      "1 | avgpool    | AdaptiveAvgPool2d | 0      | train\n",
      "2 | classifier | Sequential        | 15.8 K | train\n",
      "---------------------------------------------------------\n",
      "20.3 K    Trainable params\n",
      "0         Non-trainable params\n",
      "20.3 K    Total params\n",
      "0.081     Total estimated model params size (MB)\n",
      "13        Modules in train mode\n",
      "0         Modules in eval mode\n"
     ]
    },
    {
     "name": "stdout",
     "output_type": "stream",
     "text": [
      "Epoch 9: 100%|██████████| 313/313 [00:00<00:00, 322.76it/s]"
     ]
    },
    {
     "name": "stderr",
     "output_type": "stream",
     "text": [
      "`Trainer.fit` stopped: `max_epochs=10` reached.\n"
     ]
    },
    {
     "name": "stdout",
     "output_type": "stream",
     "text": [
      "Epoch 9: 100%|██████████| 313/313 [00:00<00:00, 322.42it/s]\n",
      "Iteration No: 2 ended. Evaluation done at random point.\n",
      "Time taken: 11.2647\n",
      "Function value obtained: -0.1194\n",
      "Current minimum: -0.1894\n",
      "Iteration No: 3 started. Evaluating function at random point.\n"
     ]
    },
    {
     "name": "stderr",
     "output_type": "stream",
     "text": [
      "GPU available: True (cuda), used: True\n",
      "TPU available: False, using: 0 TPU cores\n",
      "HPU available: False, using: 0 HPUs\n",
      "LOCAL_RANK: 0 - CUDA_VISIBLE_DEVICES: [0]\n",
      "\n",
      "  | Name       | Type              | Params | Mode \n",
      "---------------------------------------------------------\n",
      "0 | features   | Sequential        | 5.7 K  | train\n",
      "1 | avgpool    | AdaptiveAvgPool2d | 0      | train\n",
      "2 | classifier | Sequential        | 18.5 K | train\n",
      "---------------------------------------------------------\n",
      "24.2 K    Trainable params\n",
      "0         Non-trainable params\n",
      "24.2 K    Total params\n",
      "0.097     Total estimated model params size (MB)\n",
      "13        Modules in train mode\n",
      "0         Modules in eval mode\n"
     ]
    },
    {
     "name": "stdout",
     "output_type": "stream",
     "text": [
      "Epoch 9: 100%|██████████| 313/313 [00:00<00:00, 314.42it/s]"
     ]
    },
    {
     "name": "stderr",
     "output_type": "stream",
     "text": [
      "`Trainer.fit` stopped: `max_epochs=10` reached.\n"
     ]
    },
    {
     "name": "stdout",
     "output_type": "stream",
     "text": [
      "Epoch 9: 100%|██████████| 313/313 [00:00<00:00, 314.14it/s]\n",
      "Iteration No: 3 ended. Evaluation done at random point.\n",
      "Time taken: 12.0583\n",
      "Function value obtained: -0.1126\n",
      "Current minimum: -0.1894\n",
      "Iteration No: 4 started. Evaluating function at random point.\n"
     ]
    },
    {
     "name": "stderr",
     "output_type": "stream",
     "text": [
      "GPU available: True (cuda), used: True\n",
      "TPU available: False, using: 0 TPU cores\n",
      "HPU available: False, using: 0 HPUs\n",
      "LOCAL_RANK: 0 - CUDA_VISIBLE_DEVICES: [0]\n",
      "\n",
      "  | Name       | Type              | Params | Mode \n",
      "---------------------------------------------------------\n",
      "0 | features   | Sequential        | 12.0 K | train\n",
      "1 | avgpool    | AdaptiveAvgPool2d | 0      | train\n",
      "2 | classifier | Sequential        | 30.3 K | train\n",
      "---------------------------------------------------------\n",
      "42.3 K    Trainable params\n",
      "0         Non-trainable params\n",
      "42.3 K    Total params\n",
      "0.169     Total estimated model params size (MB)\n",
      "13        Modules in train mode\n",
      "0         Modules in eval mode\n"
     ]
    },
    {
     "name": "stdout",
     "output_type": "stream",
     "text": [
      "Epoch 9: 100%|██████████| 313/313 [00:01<00:00, 306.45it/s]"
     ]
    },
    {
     "name": "stderr",
     "output_type": "stream",
     "text": [
      "`Trainer.fit` stopped: `max_epochs=10` reached.\n"
     ]
    },
    {
     "name": "stdout",
     "output_type": "stream",
     "text": [
      "Epoch 9: 100%|██████████| 313/313 [00:01<00:00, 306.19it/s]\n",
      "Iteration No: 4 ended. Evaluation done at random point.\n",
      "Time taken: 11.6895\n",
      "Function value obtained: -0.1329\n",
      "Current minimum: -0.1894\n",
      "Iteration No: 5 started. Evaluating function at random point.\n"
     ]
    },
    {
     "name": "stderr",
     "output_type": "stream",
     "text": [
      "GPU available: True (cuda), used: True\n",
      "TPU available: False, using: 0 TPU cores\n",
      "HPU available: False, using: 0 HPUs\n",
      "LOCAL_RANK: 0 - CUDA_VISIBLE_DEVICES: [0]\n",
      "\n",
      "  | Name       | Type              | Params | Mode \n",
      "---------------------------------------------------------\n",
      "0 | features   | Sequential        | 18.2 K | train\n",
      "1 | avgpool    | AdaptiveAvgPool2d | 0      | train\n",
      "2 | classifier | Sequential        | 40.5 K | train\n",
      "---------------------------------------------------------\n",
      "58.8 K    Trainable params\n",
      "0         Non-trainable params\n",
      "58.8 K    Total params\n",
      "0.235     Total estimated model params size (MB)\n",
      "13        Modules in train mode\n",
      "0         Modules in eval mode\n"
     ]
    },
    {
     "name": "stdout",
     "output_type": "stream",
     "text": [
      "Epoch 9: 100%|██████████| 313/313 [00:01<00:00, 310.93it/s]"
     ]
    },
    {
     "name": "stderr",
     "output_type": "stream",
     "text": [
      "`Trainer.fit` stopped: `max_epochs=10` reached.\n"
     ]
    },
    {
     "name": "stdout",
     "output_type": "stream",
     "text": [
      "Epoch 9: 100%|██████████| 313/313 [00:01<00:00, 310.63it/s]\n",
      "Iteration No: 5 ended. Evaluation done at random point.\n",
      "Time taken: 11.7579\n",
      "Function value obtained: -0.1306\n",
      "Current minimum: -0.1894\n",
      "Iteration No: 6 started. Searching for the next optimal point.\n"
     ]
    },
    {
     "name": "stderr",
     "output_type": "stream",
     "text": [
      "GPU available: True (cuda), used: True\n",
      "TPU available: False, using: 0 TPU cores\n",
      "HPU available: False, using: 0 HPUs\n",
      "/home/ubuntu/miniconda3/envs/02463/lib/python3.13/site-packages/pytorch_lightning/trainer/configuration_validator.py:70: You defined a `validation_step` but have no `val_dataloader`. Skipping val loop.\n",
      "LOCAL_RANK: 0 - CUDA_VISIBLE_DEVICES: [0]\n",
      "\n",
      "  | Name       | Type              | Params | Mode \n",
      "---------------------------------------------------------\n",
      "0 | features   | Sequential        | 245 K  | train\n",
      "1 | avgpool    | AdaptiveAvgPool2d | 0      | train\n",
      "2 | classifier | Sequential        | 309 K  | train\n",
      "---------------------------------------------------------\n",
      "554 K     Trainable params\n",
      "0         Non-trainable params\n",
      "554 K     Total params\n",
      "2.219     Total estimated model params size (MB)\n",
      "13        Modules in train mode\n",
      "0         Modules in eval mode\n"
     ]
    },
    {
     "name": "stdout",
     "output_type": "stream",
     "text": [
      "Epoch 9: 100%|██████████| 313/313 [00:01<00:00, 285.44it/s]"
     ]
    },
    {
     "name": "stderr",
     "output_type": "stream",
     "text": [
      "`Trainer.fit` stopped: `max_epochs=10` reached.\n"
     ]
    },
    {
     "name": "stdout",
     "output_type": "stream",
     "text": [
      "Epoch 9: 100%|██████████| 313/313 [00:01<00:00, 285.18it/s]\n",
      "Iteration No: 6 ended. Search finished for the next optimal point.\n",
      "Time taken: 12.7471\n",
      "Function value obtained: -0.2102\n",
      "Current minimum: -0.2102\n",
      "Iteration No: 7 started. Searching for the next optimal point.\n"
     ]
    },
    {
     "name": "stderr",
     "output_type": "stream",
     "text": [
      "GPU available: True (cuda), used: True\n",
      "TPU available: False, using: 0 TPU cores\n",
      "HPU available: False, using: 0 HPUs\n",
      "/home/ubuntu/miniconda3/envs/02463/lib/python3.13/site-packages/pytorch_lightning/trainer/configuration_validator.py:70: You defined a `validation_step` but have no `val_dataloader`. Skipping val loop.\n",
      "LOCAL_RANK: 0 - CUDA_VISIBLE_DEVICES: [0]\n",
      "\n",
      "  | Name       | Type              | Params | Mode \n",
      "---------------------------------------------------------\n",
      "0 | features   | Sequential        | 298 K  | train\n",
      "1 | avgpool    | AdaptiveAvgPool2d | 0      | train\n",
      "2 | classifier | Sequential        | 365 K  | train\n",
      "---------------------------------------------------------\n",
      "664 K     Trainable params\n",
      "0         Non-trainable params\n",
      "664 K     Total params\n",
      "2.658     Total estimated model params size (MB)\n",
      "13        Modules in train mode\n",
      "0         Modules in eval mode\n"
     ]
    },
    {
     "name": "stdout",
     "output_type": "stream",
     "text": [
      "Epoch 9: 100%|██████████| 313/313 [00:01<00:00, 260.60it/s]"
     ]
    },
    {
     "name": "stderr",
     "output_type": "stream",
     "text": [
      "`Trainer.fit` stopped: `max_epochs=10` reached.\n"
     ]
    },
    {
     "name": "stdout",
     "output_type": "stream",
     "text": [
      "Epoch 9: 100%|██████████| 313/313 [00:01<00:00, 260.42it/s]\n",
      "Iteration No: 7 ended. Search finished for the next optimal point.\n",
      "Time taken: 13.7055\n",
      "Function value obtained: -0.1953\n",
      "Current minimum: -0.2102\n",
      "Iteration No: 8 started. Searching for the next optimal point.\n"
     ]
    },
    {
     "name": "stderr",
     "output_type": "stream",
     "text": [
      "GPU available: True (cuda), used: True\n",
      "TPU available: False, using: 0 TPU cores\n",
      "HPU available: False, using: 0 HPUs\n",
      "/home/ubuntu/miniconda3/envs/02463/lib/python3.13/site-packages/pytorch_lightning/trainer/configuration_validator.py:70: You defined a `validation_step` but have no `val_dataloader`. Skipping val loop.\n",
      "LOCAL_RANK: 0 - CUDA_VISIBLE_DEVICES: [0]\n",
      "\n",
      "  | Name       | Type              | Params | Mode \n",
      "---------------------------------------------------------\n",
      "0 | features   | Sequential        | 126 K  | train\n",
      "1 | avgpool    | AdaptiveAvgPool2d | 0      | train\n",
      "2 | classifier | Sequential        | 177 K  | train\n",
      "---------------------------------------------------------\n",
      "303 K     Trainable params\n",
      "0         Non-trainable params\n",
      "303 K     Total params\n",
      "1.216     Total estimated model params size (MB)\n",
      "13        Modules in train mode\n",
      "0         Modules in eval mode\n"
     ]
    },
    {
     "name": "stdout",
     "output_type": "stream",
     "text": [
      "Epoch 9: 100%|██████████| 313/313 [00:01<00:00, 305.88it/s]"
     ]
    },
    {
     "name": "stderr",
     "output_type": "stream",
     "text": [
      "`Trainer.fit` stopped: `max_epochs=10` reached.\n"
     ]
    },
    {
     "name": "stdout",
     "output_type": "stream",
     "text": [
      "Epoch 9: 100%|██████████| 313/313 [00:01<00:00, 305.59it/s]\n",
      "Iteration No: 8 ended. Search finished for the next optimal point.\n",
      "Time taken: 11.6943\n",
      "Function value obtained: -0.1926\n",
      "Current minimum: -0.2102\n",
      "Iteration No: 9 started. Searching for the next optimal point.\n"
     ]
    },
    {
     "name": "stderr",
     "output_type": "stream",
     "text": [
      "GPU available: True (cuda), used: True\n",
      "TPU available: False, using: 0 TPU cores\n",
      "HPU available: False, using: 0 HPUs\n",
      "/home/ubuntu/miniconda3/envs/02463/lib/python3.13/site-packages/pytorch_lightning/trainer/configuration_validator.py:70: You defined a `validation_step` but have no `val_dataloader`. Skipping val loop.\n",
      "LOCAL_RANK: 0 - CUDA_VISIBLE_DEVICES: [0]\n",
      "\n",
      "  | Name       | Type              | Params | Mode \n",
      "---------------------------------------------------------\n",
      "0 | features   | Sequential        | 80.4 K | train\n",
      "1 | avgpool    | AdaptiveAvgPool2d | 0      | train\n",
      "2 | classifier | Sequential        | 123 K  | train\n",
      "---------------------------------------------------------\n",
      "203 K     Trainable params\n",
      "0         Non-trainable params\n",
      "203 K     Total params\n",
      "0.814     Total estimated model params size (MB)\n",
      "13        Modules in train mode\n",
      "0         Modules in eval mode\n"
     ]
    },
    {
     "name": "stdout",
     "output_type": "stream",
     "text": [
      "Epoch 9: 100%|██████████| 313/313 [00:01<00:00, 311.23it/s]"
     ]
    },
    {
     "name": "stderr",
     "output_type": "stream",
     "text": [
      "`Trainer.fit` stopped: `max_epochs=10` reached.\n"
     ]
    },
    {
     "name": "stdout",
     "output_type": "stream",
     "text": [
      "Epoch 9: 100%|██████████| 313/313 [00:01<00:00, 310.99it/s]\n",
      "Iteration No: 9 ended. Search finished for the next optimal point.\n",
      "Time taken: 11.5123\n",
      "Function value obtained: -0.1898\n",
      "Current minimum: -0.2102\n",
      "Iteration No: 10 started. Searching for the next optimal point.\n"
     ]
    },
    {
     "name": "stderr",
     "output_type": "stream",
     "text": [
      "GPU available: True (cuda), used: True\n",
      "TPU available: False, using: 0 TPU cores\n",
      "HPU available: False, using: 0 HPUs\n",
      "/home/ubuntu/miniconda3/envs/02463/lib/python3.13/site-packages/pytorch_lightning/trainer/configuration_validator.py:70: You defined a `validation_step` but have no `val_dataloader`. Skipping val loop.\n",
      "LOCAL_RANK: 0 - CUDA_VISIBLE_DEVICES: [0]\n",
      "\n",
      "  | Name       | Type              | Params | Mode \n",
      "---------------------------------------------------------\n",
      "0 | features   | Sequential        | 50.2 K | train\n",
      "1 | avgpool    | AdaptiveAvgPool2d | 0      | train\n",
      "2 | classifier | Sequential        | 85.4 K | train\n",
      "---------------------------------------------------------\n",
      "135 K     Trainable params\n",
      "0         Non-trainable params\n",
      "135 K     Total params\n",
      "0.542     Total estimated model params size (MB)\n",
      "13        Modules in train mode\n",
      "0         Modules in eval mode\n"
     ]
    },
    {
     "name": "stdout",
     "output_type": "stream",
     "text": [
      "Epoch 9: 100%|██████████| 313/313 [00:00<00:00, 317.00it/s]"
     ]
    },
    {
     "name": "stderr",
     "output_type": "stream",
     "text": [
      "`Trainer.fit` stopped: `max_epochs=10` reached.\n"
     ]
    },
    {
     "name": "stdout",
     "output_type": "stream",
     "text": [
      "Epoch 9: 100%|██████████| 313/313 [00:00<00:00, 316.69it/s]\n",
      "Iteration No: 10 ended. Search finished for the next optimal point.\n",
      "Time taken: 11.3395\n",
      "Function value obtained: -0.1760\n",
      "Current minimum: -0.2102\n",
      "Iteration No: 11 started. Searching for the next optimal point.\n"
     ]
    },
    {
     "name": "stderr",
     "output_type": "stream",
     "text": [
      "GPU available: True (cuda), used: True\n",
      "TPU available: False, using: 0 TPU cores\n",
      "HPU available: False, using: 0 HPUs\n",
      "/home/ubuntu/miniconda3/envs/02463/lib/python3.13/site-packages/pytorch_lightning/trainer/configuration_validator.py:70: You defined a `validation_step` but have no `val_dataloader`. Skipping val loop.\n",
      "LOCAL_RANK: 0 - CUDA_VISIBLE_DEVICES: [0]\n",
      "\n",
      "  | Name       | Type              | Params | Mode \n",
      "---------------------------------------------------------\n",
      "0 | features   | Sequential        | 48     | train\n",
      "1 | avgpool    | AdaptiveAvgPool2d | 0      | train\n",
      "2 | classifier | Sequential        | 924    | train\n",
      "---------------------------------------------------------\n",
      "972       Trainable params\n",
      "0         Non-trainable params\n",
      "972       Total params\n",
      "0.004     Total estimated model params size (MB)\n",
      "13        Modules in train mode\n",
      "0         Modules in eval mode\n"
     ]
    },
    {
     "name": "stdout",
     "output_type": "stream",
     "text": [
      "Epoch 9: 100%|██████████| 313/313 [00:00<00:00, 323.93it/s]"
     ]
    },
    {
     "name": "stderr",
     "output_type": "stream",
     "text": [
      "`Trainer.fit` stopped: `max_epochs=10` reached.\n"
     ]
    },
    {
     "name": "stdout",
     "output_type": "stream",
     "text": [
      "Epoch 9: 100%|██████████| 313/313 [00:00<00:00, 323.64it/s]\n",
      "Iteration No: 11 ended. Search finished for the next optimal point.\n",
      "Time taken: 11.0736\n",
      "Function value obtained: -0.0115\n",
      "Current minimum: -0.2102\n",
      "Iteration No: 12 started. Searching for the next optimal point.\n"
     ]
    },
    {
     "name": "stderr",
     "output_type": "stream",
     "text": [
      "GPU available: True (cuda), used: True\n",
      "TPU available: False, using: 0 TPU cores\n",
      "HPU available: False, using: 0 HPUs\n",
      "/home/ubuntu/miniconda3/envs/02463/lib/python3.13/site-packages/pytorch_lightning/trainer/configuration_validator.py:70: You defined a `validation_step` but have no `val_dataloader`. Skipping val loop.\n",
      "LOCAL_RANK: 0 - CUDA_VISIBLE_DEVICES: [0]\n",
      "\n",
      "  | Name       | Type              | Params | Mode \n",
      "---------------------------------------------------------\n",
      "0 | features   | Sequential        | 161 K  | train\n",
      "1 | avgpool    | AdaptiveAvgPool2d | 0      | train\n",
      "2 | classifier | Sequential        | 217 K  | train\n",
      "---------------------------------------------------------\n",
      "379 K     Trainable params\n",
      "0         Non-trainable params\n",
      "379 K     Total params\n",
      "1.517     Total estimated model params size (MB)\n",
      "13        Modules in train mode\n",
      "0         Modules in eval mode\n"
     ]
    },
    {
     "name": "stdout",
     "output_type": "stream",
     "text": [
      "Epoch 9: 100%|██████████| 313/313 [00:01<00:00, 310.03it/s]"
     ]
    },
    {
     "name": "stderr",
     "output_type": "stream",
     "text": [
      "`Trainer.fit` stopped: `max_epochs=10` reached.\n"
     ]
    },
    {
     "name": "stdout",
     "output_type": "stream",
     "text": [
      "Epoch 9: 100%|██████████| 313/313 [00:01<00:00, 309.74it/s]\n",
      "Iteration No: 12 ended. Search finished for the next optimal point.\n",
      "Time taken: 11.5348\n",
      "Function value obtained: -0.1966\n",
      "Current minimum: -0.2102\n",
      "Iteration No: 13 started. Searching for the next optimal point.\n"
     ]
    },
    {
     "name": "stderr",
     "output_type": "stream",
     "text": [
      "GPU available: True (cuda), used: True\n",
      "TPU available: False, using: 0 TPU cores\n",
      "HPU available: False, using: 0 HPUs\n",
      "/home/ubuntu/miniconda3/envs/02463/lib/python3.13/site-packages/pytorch_lightning/trainer/configuration_validator.py:70: You defined a `validation_step` but have no `val_dataloader`. Skipping val loop.\n",
      "LOCAL_RANK: 0 - CUDA_VISIBLE_DEVICES: [0]\n",
      "\n",
      "  | Name       | Type              | Params | Mode \n",
      "---------------------------------------------------------\n",
      "0 | features   | Sequential        | 100 K  | train\n",
      "1 | avgpool    | AdaptiveAvgPool2d | 0      | train\n",
      "2 | classifier | Sequential        | 147 K  | train\n",
      "---------------------------------------------------------\n",
      "248 K     Trainable params\n",
      "0         Non-trainable params\n",
      "248 K     Total params\n",
      "0.993     Total estimated model params size (MB)\n",
      "13        Modules in train mode\n",
      "0         Modules in eval mode\n"
     ]
    },
    {
     "name": "stdout",
     "output_type": "stream",
     "text": [
      "Epoch 9: 100%|██████████| 313/313 [00:01<00:00, 312.03it/s]"
     ]
    },
    {
     "name": "stderr",
     "output_type": "stream",
     "text": [
      "`Trainer.fit` stopped: `max_epochs=10` reached.\n"
     ]
    },
    {
     "name": "stdout",
     "output_type": "stream",
     "text": [
      "Epoch 9: 100%|██████████| 313/313 [00:01<00:00, 311.71it/s]\n",
      "Iteration No: 13 ended. Search finished for the next optimal point.\n",
      "Time taken: 11.4462\n",
      "Function value obtained: -0.1920\n",
      "Current minimum: -0.2102\n",
      "Iteration No: 14 started. Searching for the next optimal point.\n"
     ]
    },
    {
     "name": "stderr",
     "output_type": "stream",
     "text": [
      "GPU available: True (cuda), used: True\n",
      "TPU available: False, using: 0 TPU cores\n",
      "HPU available: False, using: 0 HPUs\n",
      "/home/ubuntu/miniconda3/envs/02463/lib/python3.13/site-packages/pytorch_lightning/trainer/configuration_validator.py:70: You defined a `validation_step` but have no `val_dataloader`. Skipping val loop.\n",
      "LOCAL_RANK: 0 - CUDA_VISIBLE_DEVICES: [0]\n",
      "\n",
      "  | Name       | Type              | Params | Mode \n",
      "---------------------------------------------------------\n",
      "0 | features   | Sequential        | 34.6 K | train\n",
      "1 | avgpool    | AdaptiveAvgPool2d | 0      | train\n",
      "2 | classifier | Sequential        | 64.4 K | train\n",
      "---------------------------------------------------------\n",
      "99.0 K    Trainable params\n",
      "0         Non-trainable params\n",
      "99.0 K    Total params\n",
      "0.396     Total estimated model params size (MB)\n",
      "13        Modules in train mode\n",
      "0         Modules in eval mode\n"
     ]
    },
    {
     "name": "stdout",
     "output_type": "stream",
     "text": [
      "Epoch 9: 100%|██████████| 313/313 [00:00<00:00, 316.13it/s]"
     ]
    },
    {
     "name": "stderr",
     "output_type": "stream",
     "text": [
      "`Trainer.fit` stopped: `max_epochs=10` reached.\n"
     ]
    },
    {
     "name": "stdout",
     "output_type": "stream",
     "text": [
      "Epoch 9: 100%|██████████| 313/313 [00:00<00:00, 315.81it/s]\n",
      "Iteration No: 14 ended. Search finished for the next optimal point.\n",
      "Time taken: 11.6748\n",
      "Function value obtained: -0.1573\n",
      "Current minimum: -0.2102\n",
      "Iteration No: 15 started. Searching for the next optimal point.\n"
     ]
    },
    {
     "name": "stderr",
     "output_type": "stream",
     "text": [
      "GPU available: True (cuda), used: True\n",
      "TPU available: False, using: 0 TPU cores\n",
      "HPU available: False, using: 0 HPUs\n",
      "/home/ubuntu/miniconda3/envs/02463/lib/python3.13/site-packages/pytorch_lightning/trainer/configuration_validator.py:70: You defined a `validation_step` but have no `val_dataloader`. Skipping val loop.\n",
      "LOCAL_RANK: 0 - CUDA_VISIBLE_DEVICES: [0]\n",
      "\n",
      "  | Name       | Type              | Params | Mode \n",
      "---------------------------------------------------------\n",
      "0 | features   | Sequential        | 271 K  | train\n",
      "1 | avgpool    | AdaptiveAvgPool2d | 0      | train\n",
      "2 | classifier | Sequential        | 336 K  | train\n",
      "---------------------------------------------------------\n",
      "608 K     Trainable params\n",
      "0         Non-trainable params\n",
      "608 K     Total params\n",
      "2.434     Total estimated model params size (MB)\n",
      "13        Modules in train mode\n",
      "0         Modules in eval mode\n"
     ]
    },
    {
     "name": "stdout",
     "output_type": "stream",
     "text": [
      "Epoch 9: 100%|██████████| 313/313 [00:01<00:00, 272.17it/s]"
     ]
    },
    {
     "name": "stderr",
     "output_type": "stream",
     "text": [
      "`Trainer.fit` stopped: `max_epochs=10` reached.\n"
     ]
    },
    {
     "name": "stdout",
     "output_type": "stream",
     "text": [
      "Epoch 9: 100%|██████████| 313/313 [00:01<00:00, 271.93it/s]\n",
      "Iteration No: 15 ended. Search finished for the next optimal point.\n",
      "Time taken: 13.1152\n",
      "Function value obtained: -0.2226\n",
      "Current minimum: -0.2226\n",
      "Iteration No: 16 started. Searching for the next optimal point.\n"
     ]
    },
    {
     "name": "stderr",
     "output_type": "stream",
     "text": [
      "GPU available: True (cuda), used: True\n",
      "TPU available: False, using: 0 TPU cores\n",
      "HPU available: False, using: 0 HPUs\n",
      "/home/ubuntu/miniconda3/envs/02463/lib/python3.13/site-packages/pytorch_lightning/trainer/configuration_validator.py:70: You defined a `validation_step` but have no `val_dataloader`. Skipping val loop.\n",
      "LOCAL_RANK: 0 - CUDA_VISIBLE_DEVICES: [0]\n",
      "\n",
      "  | Name       | Type              | Params | Mode \n",
      "---------------------------------------------------------\n",
      "0 | features   | Sequential        | 64.4 K | train\n",
      "1 | avgpool    | AdaptiveAvgPool2d | 0      | train\n",
      "2 | classifier | Sequential        | 103 K  | train\n",
      "---------------------------------------------------------\n",
      "167 K     Trainable params\n",
      "0         Non-trainable params\n",
      "167 K     Total params\n",
      "0.672     Total estimated model params size (MB)\n",
      "13        Modules in train mode\n",
      "0         Modules in eval mode\n"
     ]
    },
    {
     "name": "stdout",
     "output_type": "stream",
     "text": [
      "Epoch 9: 100%|██████████| 313/313 [00:00<00:00, 314.92it/s]"
     ]
    },
    {
     "name": "stderr",
     "output_type": "stream",
     "text": [
      "`Trainer.fit` stopped: `max_epochs=10` reached.\n"
     ]
    },
    {
     "name": "stdout",
     "output_type": "stream",
     "text": [
      "Epoch 9: 100%|██████████| 313/313 [00:00<00:00, 314.64it/s]\n",
      "Iteration No: 16 ended. Search finished for the next optimal point.\n",
      "Time taken: 11.4551\n",
      "Function value obtained: -0.1550\n",
      "Current minimum: -0.2226\n",
      "Iteration No: 17 started. Searching for the next optimal point.\n"
     ]
    },
    {
     "name": "stderr",
     "output_type": "stream",
     "text": [
      "GPU available: True (cuda), used: True\n",
      "TPU available: False, using: 0 TPU cores\n",
      "HPU available: False, using: 0 HPUs\n",
      "/home/ubuntu/miniconda3/envs/02463/lib/python3.13/site-packages/pytorch_lightning/trainer/configuration_validator.py:70: You defined a `validation_step` but have no `val_dataloader`. Skipping val loop.\n",
      "LOCAL_RANK: 0 - CUDA_VISIBLE_DEVICES: [0]\n",
      "\n",
      "  | Name       | Type              | Params | Mode \n",
      "---------------------------------------------------------\n",
      "0 | features   | Sequential        | 145 K  | train\n",
      "1 | avgpool    | AdaptiveAvgPool2d | 0      | train\n",
      "2 | classifier | Sequential        | 198 K  | train\n",
      "---------------------------------------------------------\n",
      "343 K     Trainable params\n",
      "0         Non-trainable params\n",
      "343 K     Total params\n",
      "1.376     Total estimated model params size (MB)\n",
      "13        Modules in train mode\n",
      "0         Modules in eval mode\n"
     ]
    },
    {
     "name": "stdout",
     "output_type": "stream",
     "text": [
      "Epoch 9: 100%|██████████| 313/313 [00:01<00:00, 309.25it/s]"
     ]
    },
    {
     "name": "stderr",
     "output_type": "stream",
     "text": [
      "`Trainer.fit` stopped: `max_epochs=10` reached.\n"
     ]
    },
    {
     "name": "stdout",
     "output_type": "stream",
     "text": [
      "Epoch 9: 100%|██████████| 313/313 [00:01<00:00, 308.99it/s]\n",
      "Iteration No: 17 ended. Search finished for the next optimal point.\n",
      "Time taken: 11.6616\n",
      "Function value obtained: -0.1893\n",
      "Current minimum: -0.2226\n",
      "Iteration No: 18 started. Searching for the next optimal point.\n"
     ]
    },
    {
     "name": "stderr",
     "output_type": "stream",
     "text": [
      "GPU available: True (cuda), used: True\n",
      "TPU available: False, using: 0 TPU cores\n",
      "HPU available: False, using: 0 HPUs\n",
      "/home/ubuntu/miniconda3/envs/02463/lib/python3.13/site-packages/pytorch_lightning/trainer/configuration_validator.py:70: You defined a `validation_step` but have no `val_dataloader`. Skipping val loop.\n",
      "LOCAL_RANK: 0 - CUDA_VISIBLE_DEVICES: [0]\n",
      "\n",
      "  | Name       | Type              | Params | Mode \n",
      "---------------------------------------------------------\n",
      "0 | features   | Sequential        | 221 K  | train\n",
      "1 | avgpool    | AdaptiveAvgPool2d | 0      | train\n",
      "2 | classifier | Sequential        | 282 K  | train\n",
      "---------------------------------------------------------\n",
      "503 K     Trainable params\n",
      "0         Non-trainable params\n",
      "503 K     Total params\n",
      "2.015     Total estimated model params size (MB)\n",
      "13        Modules in train mode\n",
      "0         Modules in eval mode\n"
     ]
    },
    {
     "name": "stdout",
     "output_type": "stream",
     "text": [
      "Epoch 9: 100%|██████████| 313/313 [00:01<00:00, 296.34it/s]"
     ]
    },
    {
     "name": "stderr",
     "output_type": "stream",
     "text": [
      "`Trainer.fit` stopped: `max_epochs=10` reached.\n"
     ]
    },
    {
     "name": "stdout",
     "output_type": "stream",
     "text": [
      "Epoch 9: 100%|██████████| 313/313 [00:01<00:00, 296.13it/s]\n",
      "Iteration No: 18 ended. Search finished for the next optimal point.\n",
      "Time taken: 12.1537\n",
      "Function value obtained: -0.2011\n",
      "Current minimum: -0.2226\n",
      "Iteration No: 19 started. Searching for the next optimal point.\n"
     ]
    },
    {
     "name": "stderr",
     "output_type": "stream",
     "text": [
      "GPU available: True (cuda), used: True\n",
      "TPU available: False, using: 0 TPU cores\n",
      "HPU available: False, using: 0 HPUs\n",
      "/home/ubuntu/miniconda3/envs/02463/lib/python3.13/site-packages/pytorch_lightning/trainer/configuration_validator.py:70: You defined a `validation_step` but have no `val_dataloader`. Skipping val loop.\n",
      "LOCAL_RANK: 0 - CUDA_VISIBLE_DEVICES: [0]\n",
      "\n",
      "  | Name       | Type              | Params | Mode \n",
      "---------------------------------------------------------\n",
      "0 | features   | Sequential        | 179 K  | train\n",
      "1 | avgpool    | AdaptiveAvgPool2d | 0      | train\n",
      "2 | classifier | Sequential        | 236 K  | train\n",
      "---------------------------------------------------------\n",
      "416 K     Trainable params\n",
      "0         Non-trainable params\n",
      "416 K     Total params\n",
      "1.665     Total estimated model params size (MB)\n",
      "13        Modules in train mode\n",
      "0         Modules in eval mode\n"
     ]
    },
    {
     "name": "stdout",
     "output_type": "stream",
     "text": [
      "Epoch 9: 100%|██████████| 313/313 [00:01<00:00, 291.76it/s]"
     ]
    },
    {
     "name": "stderr",
     "output_type": "stream",
     "text": [
      "`Trainer.fit` stopped: `max_epochs=10` reached.\n"
     ]
    },
    {
     "name": "stdout",
     "output_type": "stream",
     "text": [
      "Epoch 9: 100%|██████████| 313/313 [00:01<00:00, 291.53it/s]\n",
      "Iteration No: 19 ended. Search finished for the next optimal point.\n",
      "Time taken: 12.1788\n",
      "Function value obtained: -0.1963\n",
      "Current minimum: -0.2226\n",
      "Iteration No: 20 started. Searching for the next optimal point.\n"
     ]
    },
    {
     "name": "stderr",
     "output_type": "stream",
     "text": [
      "GPU available: True (cuda), used: True\n",
      "TPU available: False, using: 0 TPU cores\n",
      "HPU available: False, using: 0 HPUs\n",
      "/home/ubuntu/miniconda3/envs/02463/lib/python3.13/site-packages/pytorch_lightning/trainer/configuration_validator.py:70: You defined a `validation_step` but have no `val_dataloader`. Skipping val loop.\n",
      "LOCAL_RANK: 0 - CUDA_VISIBLE_DEVICES: [0]\n",
      "\n",
      "  | Name       | Type              | Params | Mode \n",
      "---------------------------------------------------------\n",
      "0 | features   | Sequential        | 25.8 K | train\n",
      "1 | avgpool    | AdaptiveAvgPool2d | 0      | train\n",
      "2 | classifier | Sequential        | 51.9 K | train\n",
      "---------------------------------------------------------\n",
      "77.7 K    Trainable params\n",
      "0         Non-trainable params\n",
      "77.7 K    Total params\n",
      "0.311     Total estimated model params size (MB)\n",
      "13        Modules in train mode\n",
      "0         Modules in eval mode\n"
     ]
    },
    {
     "name": "stdout",
     "output_type": "stream",
     "text": [
      "Epoch 9: 100%|██████████| 313/313 [00:00<00:00, 314.64it/s]"
     ]
    },
    {
     "name": "stderr",
     "output_type": "stream",
     "text": [
      "`Trainer.fit` stopped: `max_epochs=10` reached.\n"
     ]
    },
    {
     "name": "stdout",
     "output_type": "stream",
     "text": [
      "Epoch 9: 100%|██████████| 313/313 [00:00<00:00, 314.36it/s]\n",
      "Iteration No: 20 ended. Search finished for the next optimal point.\n",
      "Time taken: 11.5700\n",
      "Function value obtained: -0.1509\n",
      "Current minimum: -0.2226\n"
     ]
    }
   ],
   "source": [
    "\n",
    "\n",
    "# Define the search space as follows\n",
    "# params = {\n",
    "#     'module__base_channels': (1,128)\n",
    "#     'module__dropout': (0.0, 0.9)\n",
    "# }\n",
    "\n",
    "space = [\n",
    "    skopt.space.Integer(1, 128, name='module__base_channels'),\n",
    "    # skopt.space.Real(0.0, 0.9, name='module__dropout')\n",
    "]\n",
    "\n",
    "def objective(x):\n",
    "    # Decode the JSON encoded categorical values.\n",
    "    params = {\n",
    "        'module__base_channels': x[0],\n",
    "        # 'module__dropout': x[1] ,\n",
    "    }\n",
    "    \n",
    "    accuracy = train_model(params, num_epochs=10, n_training_samples=10000)\n",
    "    # Return negative accuracy for minimization.\n",
    "    return -accuracy\n",
    "\n",
    "opt_bo = gp_minimize(\n",
    "    objective,\n",
    "    space,\n",
    "    acq_func='EI',\n",
    "    n_calls=20,\n",
    "    n_random_starts=5,\n",
    "    verbose=True,\n",
    "    xi=0.1,\n",
    "    noise=0.01**2\n",
    ")\n"
   ]
  },
  {
   "cell_type": "code",
   "execution_count": 16,
   "metadata": {},
   "outputs": [
    {
     "name": "stdout",
     "output_type": "stream",
     "text": [
      "Iteration No: 1 started. Evaluating function at random point.\n"
     ]
    },
    {
     "name": "stderr",
     "output_type": "stream",
     "text": [
      "GPU available: True (cuda), used: True\n",
      "TPU available: False, using: 0 TPU cores\n",
      "HPU available: False, using: 0 HPUs\n",
      "/home/ubuntu/miniconda3/envs/02463/lib/python3.13/site-packages/pytorch_lightning/trainer/configuration_validator.py:70: You defined a `validation_step` but have no `val_dataloader`. Skipping val loop.\n",
      "LOCAL_RANK: 0 - CUDA_VISIBLE_DEVICES: [0]\n",
      "\n",
      "  | Name       | Type              | Params | Mode \n",
      "---------------------------------------------------------\n",
      "0 | features   | Sequential        | 190 K  | train\n",
      "1 | avgpool    | AdaptiveAvgPool2d | 0      | train\n",
      "2 | classifier | Sequential        | 248 K  | train\n",
      "---------------------------------------------------------\n",
      "439 K     Trainable params\n",
      "0         Non-trainable params\n",
      "439 K     Total params\n",
      "1.757     Total estimated model params size (MB)\n",
      "13        Modules in train mode\n",
      "0         Modules in eval mode\n"
     ]
    },
    {
     "name": "stdout",
     "output_type": "stream",
     "text": [
      "Epoch 9: 100%|██████████| 313/313 [00:01<00:00, 295.34it/s]"
     ]
    },
    {
     "name": "stderr",
     "output_type": "stream",
     "text": [
      "`Trainer.fit` stopped: `max_epochs=10` reached.\n"
     ]
    },
    {
     "name": "stdout",
     "output_type": "stream",
     "text": [
      "Epoch 9: 100%|██████████| 313/313 [00:01<00:00, 295.05it/s]\n",
      "Iteration No: 1 ended. Evaluation done at random point.\n",
      "Time taken: 12.3163\n",
      "Function value obtained: -0.2054\n",
      "Current minimum: -0.2054\n",
      "Iteration No: 2 started. Evaluating function at random point.\n"
     ]
    },
    {
     "name": "stderr",
     "output_type": "stream",
     "text": [
      "GPU available: True (cuda), used: True\n",
      "TPU available: False, using: 0 TPU cores\n",
      "HPU available: False, using: 0 HPUs\n",
      "LOCAL_RANK: 0 - CUDA_VISIBLE_DEVICES: [0]\n",
      "\n",
      "  | Name       | Type              | Params | Mode \n",
      "---------------------------------------------------------\n",
      "0 | features   | Sequential        | 11.1 K | train\n",
      "1 | avgpool    | AdaptiveAvgPool2d | 0      | train\n",
      "2 | classifier | Sequential        | 28.7 K | train\n",
      "---------------------------------------------------------\n",
      "39.8 K    Trainable params\n",
      "0         Non-trainable params\n",
      "39.8 K    Total params\n",
      "0.159     Total estimated model params size (MB)\n",
      "13        Modules in train mode\n",
      "0         Modules in eval mode\n"
     ]
    },
    {
     "name": "stdout",
     "output_type": "stream",
     "text": [
      "Epoch 9: 100%|██████████| 313/313 [00:00<00:00, 318.47it/s]"
     ]
    },
    {
     "name": "stderr",
     "output_type": "stream",
     "text": [
      "`Trainer.fit` stopped: `max_epochs=10` reached.\n"
     ]
    },
    {
     "name": "stdout",
     "output_type": "stream",
     "text": [
      "Epoch 9: 100%|██████████| 313/313 [00:00<00:00, 318.18it/s]\n",
      "Iteration No: 2 ended. Evaluation done at random point.\n",
      "Time taken: 11.3580\n",
      "Function value obtained: -0.1284\n",
      "Current minimum: -0.2054\n",
      "Iteration No: 3 started. Evaluating function at random point.\n"
     ]
    },
    {
     "name": "stderr",
     "output_type": "stream",
     "text": [
      "GPU available: True (cuda), used: True\n",
      "TPU available: False, using: 0 TPU cores\n",
      "HPU available: False, using: 0 HPUs\n",
      "LOCAL_RANK: 0 - CUDA_VISIBLE_DEVICES: [0]\n",
      "\n",
      "  | Name       | Type              | Params | Mode \n",
      "---------------------------------------------------------\n",
      "0 | features   | Sequential        | 183 K  | train\n",
      "1 | avgpool    | AdaptiveAvgPool2d | 0      | train\n",
      "2 | classifier | Sequential        | 240 K  | train\n",
      "---------------------------------------------------------\n",
      "423 K     Trainable params\n",
      "0         Non-trainable params\n",
      "423 K     Total params\n",
      "1.696     Total estimated model params size (MB)\n",
      "13        Modules in train mode\n",
      "0         Modules in eval mode\n"
     ]
    },
    {
     "name": "stdout",
     "output_type": "stream",
     "text": [
      "Epoch 9: 100%|██████████| 313/313 [00:01<00:00, 307.26it/s]"
     ]
    },
    {
     "name": "stderr",
     "output_type": "stream",
     "text": [
      "`Trainer.fit` stopped: `max_epochs=10` reached.\n"
     ]
    },
    {
     "name": "stdout",
     "output_type": "stream",
     "text": [
      "Epoch 9: 100%|██████████| 313/313 [00:01<00:00, 306.98it/s]\n",
      "Iteration No: 3 ended. Evaluation done at random point.\n",
      "Time taken: 11.9080\n",
      "Function value obtained: -0.1799\n",
      "Current minimum: -0.2054\n",
      "Iteration No: 4 started. Evaluating function at random point.\n"
     ]
    },
    {
     "name": "stderr",
     "output_type": "stream",
     "text": [
      "GPU available: True (cuda), used: True\n",
      "TPU available: False, using: 0 TPU cores\n",
      "HPU available: False, using: 0 HPUs\n",
      "LOCAL_RANK: 0 - CUDA_VISIBLE_DEVICES: [0]\n",
      "\n",
      "  | Name       | Type              | Params | Mode \n",
      "---------------------------------------------------------\n",
      "0 | features   | Sequential        | 109 K  | train\n",
      "1 | avgpool    | AdaptiveAvgPool2d | 0      | train\n",
      "2 | classifier | Sequential        | 157 K  | train\n",
      "---------------------------------------------------------\n",
      "266 K     Trainable params\n",
      "0         Non-trainable params\n",
      "266 K     Total params\n",
      "1.065     Total estimated model params size (MB)\n",
      "13        Modules in train mode\n",
      "0         Modules in eval mode\n"
     ]
    },
    {
     "name": "stdout",
     "output_type": "stream",
     "text": [
      "Epoch 9: 100%|██████████| 313/313 [00:01<00:00, 309.76it/s]"
     ]
    },
    {
     "name": "stderr",
     "output_type": "stream",
     "text": [
      "`Trainer.fit` stopped: `max_epochs=10` reached.\n"
     ]
    },
    {
     "name": "stdout",
     "output_type": "stream",
     "text": [
      "Epoch 9: 100%|██████████| 313/313 [00:01<00:00, 309.51it/s]\n",
      "Iteration No: 4 ended. Evaluation done at random point.\n",
      "Time taken: 11.5623\n",
      "Function value obtained: -0.1842\n",
      "Current minimum: -0.2054\n",
      "Iteration No: 5 started. Evaluating function at random point.\n"
     ]
    },
    {
     "name": "stderr",
     "output_type": "stream",
     "text": [
      "GPU available: True (cuda), used: True\n",
      "TPU available: False, using: 0 TPU cores\n",
      "HPU available: False, using: 0 HPUs\n",
      "LOCAL_RANK: 0 - CUDA_VISIBLE_DEVICES: [0]\n",
      "\n",
      "  | Name       | Type              | Params | Mode \n",
      "---------------------------------------------------------\n",
      "0 | features   | Sequential        | 62.3 K | train\n",
      "1 | avgpool    | AdaptiveAvgPool2d | 0      | train\n",
      "2 | classifier | Sequential        | 100 K  | train\n",
      "---------------------------------------------------------\n",
      "163 K     Trainable params\n",
      "0         Non-trainable params\n",
      "163 K     Total params\n",
      "0.652     Total estimated model params size (MB)\n",
      "13        Modules in train mode\n",
      "0         Modules in eval mode\n"
     ]
    },
    {
     "name": "stdout",
     "output_type": "stream",
     "text": [
      "Epoch 9: 100%|██████████| 313/313 [00:01<00:00, 311.77it/s]"
     ]
    },
    {
     "name": "stderr",
     "output_type": "stream",
     "text": [
      "`Trainer.fit` stopped: `max_epochs=10` reached.\n"
     ]
    },
    {
     "name": "stdout",
     "output_type": "stream",
     "text": [
      "Epoch 9: 100%|██████████| 313/313 [00:01<00:00, 311.53it/s]\n",
      "Iteration No: 5 ended. Evaluation done at random point.\n",
      "Time taken: 11.3787\n",
      "Function value obtained: -0.1818\n",
      "Current minimum: -0.2054\n",
      "Iteration No: 6 started. Evaluating function at random point.\n"
     ]
    },
    {
     "name": "stderr",
     "output_type": "stream",
     "text": [
      "GPU available: True (cuda), used: True\n",
      "TPU available: False, using: 0 TPU cores\n",
      "HPU available: False, using: 0 HPUs\n",
      "LOCAL_RANK: 0 - CUDA_VISIBLE_DEVICES: [0]\n",
      "\n",
      "  | Name       | Type              | Params | Mode \n",
      "---------------------------------------------------------\n",
      "0 | features   | Sequential        | 3.9 K  | train\n",
      "1 | avgpool    | AdaptiveAvgPool2d | 0      | train\n",
      "2 | classifier | Sequential        | 14.5 K | train\n",
      "---------------------------------------------------------\n",
      "18.5 K    Trainable params\n",
      "0         Non-trainable params\n",
      "18.5 K    Total params\n",
      "0.074     Total estimated model params size (MB)\n",
      "13        Modules in train mode\n",
      "0         Modules in eval mode\n"
     ]
    },
    {
     "name": "stdout",
     "output_type": "stream",
     "text": [
      "Epoch 9: 100%|██████████| 313/313 [00:00<00:00, 322.23it/s]"
     ]
    },
    {
     "name": "stderr",
     "output_type": "stream",
     "text": [
      "`Trainer.fit` stopped: `max_epochs=10` reached.\n"
     ]
    },
    {
     "name": "stdout",
     "output_type": "stream",
     "text": [
      "Epoch 9: 100%|██████████| 313/313 [00:00<00:00, 321.92it/s]\n",
      "Iteration No: 6 ended. Evaluation done at random point.\n",
      "Time taken: 11.0961\n",
      "Function value obtained: -0.1027\n",
      "Current minimum: -0.2054\n",
      "Iteration No: 7 started. Evaluating function at random point.\n"
     ]
    },
    {
     "name": "stderr",
     "output_type": "stream",
     "text": [
      "GPU available: True (cuda), used: True\n",
      "TPU available: False, using: 0 TPU cores\n",
      "HPU available: False, using: 0 HPUs\n",
      "LOCAL_RANK: 0 - CUDA_VISIBLE_DEVICES: [0]\n",
      "\n",
      "  | Name       | Type              | Params | Mode \n",
      "---------------------------------------------------------\n",
      "0 | features   | Sequential        | 64.4 K | train\n",
      "1 | avgpool    | AdaptiveAvgPool2d | 0      | train\n",
      "2 | classifier | Sequential        | 103 K  | train\n",
      "---------------------------------------------------------\n",
      "167 K     Trainable params\n",
      "0         Non-trainable params\n",
      "167 K     Total params\n",
      "0.672     Total estimated model params size (MB)\n",
      "13        Modules in train mode\n",
      "0         Modules in eval mode\n"
     ]
    },
    {
     "name": "stdout",
     "output_type": "stream",
     "text": [
      "Epoch 9: 100%|██████████| 313/313 [00:01<00:00, 311.68it/s]"
     ]
    },
    {
     "name": "stderr",
     "output_type": "stream",
     "text": [
      "`Trainer.fit` stopped: `max_epochs=10` reached.\n"
     ]
    },
    {
     "name": "stdout",
     "output_type": "stream",
     "text": [
      "Epoch 9: 100%|██████████| 313/313 [00:01<00:00, 311.42it/s]\n",
      "Iteration No: 7 ended. Evaluation done at random point.\n",
      "Time taken: 11.7890\n",
      "Function value obtained: -0.1731\n",
      "Current minimum: -0.2054\n",
      "Iteration No: 8 started. Evaluating function at random point.\n"
     ]
    },
    {
     "name": "stderr",
     "output_type": "stream",
     "text": [
      "GPU available: True (cuda), used: True\n",
      "TPU available: False, using: 0 TPU cores\n",
      "HPU available: False, using: 0 HPUs\n",
      "LOCAL_RANK: 0 - CUDA_VISIBLE_DEVICES: [0]\n",
      "\n",
      "  | Name       | Type              | Params | Mode \n",
      "---------------------------------------------------------\n",
      "0 | features   | Sequential        | 34.6 K | train\n",
      "1 | avgpool    | AdaptiveAvgPool2d | 0      | train\n",
      "2 | classifier | Sequential        | 64.4 K | train\n",
      "---------------------------------------------------------\n",
      "99.0 K    Trainable params\n",
      "0         Non-trainable params\n",
      "99.0 K    Total params\n",
      "0.396     Total estimated model params size (MB)\n",
      "13        Modules in train mode\n",
      "0         Modules in eval mode\n"
     ]
    },
    {
     "name": "stdout",
     "output_type": "stream",
     "text": [
      "Epoch 9: 100%|██████████| 313/313 [00:01<00:00, 312.29it/s]"
     ]
    },
    {
     "name": "stderr",
     "output_type": "stream",
     "text": [
      "`Trainer.fit` stopped: `max_epochs=10` reached.\n"
     ]
    },
    {
     "name": "stdout",
     "output_type": "stream",
     "text": [
      "Epoch 9: 100%|██████████| 313/313 [00:01<00:00, 311.99it/s]\n",
      "Iteration No: 8 ended. Evaluation done at random point.\n",
      "Time taken: 11.4160\n",
      "Function value obtained: -0.1574\n",
      "Current minimum: -0.2054\n",
      "Iteration No: 9 started. Evaluating function at random point.\n"
     ]
    },
    {
     "name": "stderr",
     "output_type": "stream",
     "text": [
      "GPU available: True (cuda), used: True\n",
      "TPU available: False, using: 0 TPU cores\n",
      "HPU available: False, using: 0 HPUs\n",
      "LOCAL_RANK: 0 - CUDA_VISIBLE_DEVICES: [0]\n",
      "\n",
      "  | Name       | Type              | Params | Mode \n",
      "---------------------------------------------------------\n",
      "0 | features   | Sequential        | 7.1 K  | train\n",
      "1 | avgpool    | AdaptiveAvgPool2d | 0      | train\n",
      "2 | classifier | Sequential        | 21.2 K | train\n",
      "---------------------------------------------------------\n",
      "28.3 K    Trainable params\n",
      "0         Non-trainable params\n",
      "28.3 K    Total params\n",
      "0.113     Total estimated model params size (MB)\n",
      "13        Modules in train mode\n",
      "0         Modules in eval mode\n"
     ]
    },
    {
     "name": "stdout",
     "output_type": "stream",
     "text": [
      "Epoch 9: 100%|██████████| 313/313 [00:00<00:00, 323.90it/s]"
     ]
    },
    {
     "name": "stderr",
     "output_type": "stream",
     "text": [
      "`Trainer.fit` stopped: `max_epochs=10` reached.\n"
     ]
    },
    {
     "name": "stdout",
     "output_type": "stream",
     "text": [
      "Epoch 9: 100%|██████████| 313/313 [00:00<00:00, 323.59it/s]\n",
      "Iteration No: 9 ended. Evaluation done at random point.\n",
      "Time taken: 11.1552\n",
      "Function value obtained: -0.1252\n",
      "Current minimum: -0.2054\n",
      "Iteration No: 10 started. Evaluating function at random point.\n"
     ]
    },
    {
     "name": "stderr",
     "output_type": "stream",
     "text": [
      "GPU available: True (cuda), used: True\n",
      "TPU available: False, using: 0 TPU cores\n",
      "HPU available: False, using: 0 HPUs\n",
      "LOCAL_RANK: 0 - CUDA_VISIBLE_DEVICES: [0]\n",
      "\n",
      "  | Name       | Type              | Params | Mode \n",
      "---------------------------------------------------------\n",
      "0 | features   | Sequential        | 129 K  | train\n",
      "1 | avgpool    | AdaptiveAvgPool2d | 0      | train\n",
      "2 | classifier | Sequential        | 180 K  | train\n",
      "---------------------------------------------------------\n",
      "310 K     Trainable params\n",
      "0         Non-trainable params\n",
      "310 K     Total params\n",
      "1.242     Total estimated model params size (MB)\n",
      "13        Modules in train mode\n",
      "0         Modules in eval mode\n"
     ]
    },
    {
     "name": "stdout",
     "output_type": "stream",
     "text": [
      "Epoch 9: 100%|██████████| 313/313 [00:01<00:00, 311.86it/s]"
     ]
    },
    {
     "name": "stderr",
     "output_type": "stream",
     "text": [
      "`Trainer.fit` stopped: `max_epochs=10` reached.\n"
     ]
    },
    {
     "name": "stdout",
     "output_type": "stream",
     "text": [
      "Epoch 9: 100%|██████████| 313/313 [00:01<00:00, 311.58it/s]\n",
      "Iteration No: 10 ended. Evaluation done at random point.\n",
      "Time taken: 11.4467\n",
      "Function value obtained: -0.1820\n",
      "Current minimum: -0.2054\n",
      "Iteration No: 11 started. Evaluating function at random point.\n"
     ]
    },
    {
     "name": "stderr",
     "output_type": "stream",
     "text": [
      "GPU available: True (cuda), used: True\n",
      "TPU available: False, using: 0 TPU cores\n",
      "HPU available: False, using: 0 HPUs\n",
      "LOCAL_RANK: 0 - CUDA_VISIBLE_DEVICES: [0]\n",
      "\n",
      "  | Name       | Type              | Params | Mode \n",
      "---------------------------------------------------------\n",
      "0 | features   | Sequential        | 1.4 K  | train\n",
      "1 | avgpool    | AdaptiveAvgPool2d | 0      | train\n",
      "2 | classifier | Sequential        | 7.6 K  | train\n",
      "---------------------------------------------------------\n",
      "9.0 K     Trainable params\n",
      "0         Non-trainable params\n",
      "9.0 K     Total params\n",
      "0.036     Total estimated model params size (MB)\n",
      "13        Modules in train mode\n",
      "0         Modules in eval mode\n"
     ]
    },
    {
     "name": "stdout",
     "output_type": "stream",
     "text": [
      "Epoch 9: 100%|██████████| 313/313 [00:00<00:00, 319.87it/s]"
     ]
    },
    {
     "name": "stderr",
     "output_type": "stream",
     "text": [
      "`Trainer.fit` stopped: `max_epochs=10` reached.\n"
     ]
    },
    {
     "name": "stdout",
     "output_type": "stream",
     "text": [
      "Epoch 9: 100%|██████████| 313/313 [00:00<00:00, 319.55it/s]\n",
      "Iteration No: 11 ended. Evaluation done at random point.\n",
      "Time taken: 11.3406\n",
      "Function value obtained: -0.0913\n",
      "Current minimum: -0.2054\n",
      "Iteration No: 12 started. Evaluating function at random point.\n"
     ]
    },
    {
     "name": "stderr",
     "output_type": "stream",
     "text": [
      "GPU available: True (cuda), used: True\n",
      "TPU available: False, using: 0 TPU cores\n",
      "HPU available: False, using: 0 HPUs\n",
      "LOCAL_RANK: 0 - CUDA_VISIBLE_DEVICES: [0]\n",
      "\n",
      "  | Name       | Type              | Params | Mode \n",
      "---------------------------------------------------------\n",
      "0 | features   | Sequential        | 158 K  | train\n",
      "1 | avgpool    | AdaptiveAvgPool2d | 0      | train\n",
      "2 | classifier | Sequential        | 213 K  | train\n",
      "---------------------------------------------------------\n",
      "372 K     Trainable params\n",
      "0         Non-trainable params\n",
      "372 K     Total params\n",
      "1.488     Total estimated model params size (MB)\n",
      "13        Modules in train mode\n",
      "0         Modules in eval mode\n"
     ]
    },
    {
     "name": "stdout",
     "output_type": "stream",
     "text": [
      "Epoch 9: 100%|██████████| 313/313 [00:00<00:00, 315.82it/s]"
     ]
    },
    {
     "name": "stderr",
     "output_type": "stream",
     "text": [
      "`Trainer.fit` stopped: `max_epochs=10` reached.\n"
     ]
    },
    {
     "name": "stdout",
     "output_type": "stream",
     "text": [
      "Epoch 9: 100%|██████████| 313/313 [00:00<00:00, 315.53it/s]\n",
      "Iteration No: 12 ended. Evaluation done at random point.\n",
      "Time taken: 11.6193\n",
      "Function value obtained: -0.1796\n",
      "Current minimum: -0.2054\n",
      "Iteration No: 13 started. Evaluating function at random point.\n"
     ]
    },
    {
     "name": "stderr",
     "output_type": "stream",
     "text": [
      "GPU available: True (cuda), used: True\n",
      "TPU available: False, using: 0 TPU cores\n",
      "HPU available: False, using: 0 HPUs\n",
      "LOCAL_RANK: 0 - CUDA_VISIBLE_DEVICES: [0]\n",
      "\n",
      "  | Name       | Type              | Params | Mode \n",
      "---------------------------------------------------------\n",
      "0 | features   | Sequential        | 262 K  | train\n",
      "1 | avgpool    | AdaptiveAvgPool2d | 0      | train\n",
      "2 | classifier | Sequential        | 327 K  | train\n",
      "---------------------------------------------------------\n",
      "590 K     Trainable params\n",
      "0         Non-trainable params\n",
      "590 K     Total params\n",
      "2.361     Total estimated model params size (MB)\n",
      "13        Modules in train mode\n",
      "0         Modules in eval mode\n"
     ]
    },
    {
     "name": "stdout",
     "output_type": "stream",
     "text": [
      "Epoch 9: 100%|██████████| 313/313 [00:01<00:00, 279.08it/s]"
     ]
    },
    {
     "name": "stderr",
     "output_type": "stream",
     "text": [
      "`Trainer.fit` stopped: `max_epochs=10` reached.\n"
     ]
    },
    {
     "name": "stdout",
     "output_type": "stream",
     "text": [
      "Epoch 9: 100%|██████████| 313/313 [00:01<00:00, 278.80it/s]\n",
      "Iteration No: 13 ended. Evaluation done at random point.\n",
      "Time taken: 12.9668\n",
      "Function value obtained: -0.2124\n",
      "Current minimum: -0.2124\n",
      "Iteration No: 14 started. Evaluating function at random point.\n"
     ]
    },
    {
     "name": "stderr",
     "output_type": "stream",
     "text": [
      "GPU available: True (cuda), used: True\n",
      "TPU available: False, using: 0 TPU cores\n",
      "HPU available: False, using: 0 HPUs\n",
      "LOCAL_RANK: 0 - CUDA_VISIBLE_DEVICES: [0]\n",
      "\n",
      "  | Name       | Type              | Params | Mode \n",
      "---------------------------------------------------------\n",
      "0 | features   | Sequential        | 48     | train\n",
      "1 | avgpool    | AdaptiveAvgPool2d | 0      | train\n",
      "2 | classifier | Sequential        | 924    | train\n",
      "---------------------------------------------------------\n",
      "972       Trainable params\n",
      "0         Non-trainable params\n",
      "972       Total params\n",
      "0.004     Total estimated model params size (MB)\n",
      "13        Modules in train mode\n",
      "0         Modules in eval mode\n"
     ]
    },
    {
     "name": "stdout",
     "output_type": "stream",
     "text": [
      "Epoch 9: 100%|██████████| 313/313 [00:00<00:00, 327.61it/s]"
     ]
    },
    {
     "name": "stderr",
     "output_type": "stream",
     "text": [
      "`Trainer.fit` stopped: `max_epochs=10` reached.\n"
     ]
    },
    {
     "name": "stdout",
     "output_type": "stream",
     "text": [
      "Epoch 9: 100%|██████████| 313/313 [00:00<00:00, 327.28it/s]\n",
      "Iteration No: 14 ended. Evaluation done at random point.\n",
      "Time taken: 10.9414\n",
      "Function value obtained: -0.0193\n",
      "Current minimum: -0.2124\n",
      "Iteration No: 15 started. Evaluating function at random point.\n"
     ]
    },
    {
     "name": "stderr",
     "output_type": "stream",
     "text": [
      "GPU available: True (cuda), used: True\n",
      "TPU available: False, using: 0 TPU cores\n",
      "HPU available: False, using: 0 HPUs\n",
      "LOCAL_RANK: 0 - CUDA_VISIBLE_DEVICES: [0]\n",
      "\n",
      "  | Name       | Type              | Params | Mode \n",
      "---------------------------------------------------------\n",
      "0 | features   | Sequential        | 294 K  | train\n",
      "1 | avgpool    | AdaptiveAvgPool2d | 0      | train\n",
      "2 | classifier | Sequential        | 360 K  | train\n",
      "---------------------------------------------------------\n",
      "654 K     Trainable params\n",
      "0         Non-trainable params\n",
      "654 K     Total params\n",
      "2.620     Total estimated model params size (MB)\n",
      "13        Modules in train mode\n",
      "0         Modules in eval mode\n"
     ]
    },
    {
     "name": "stdout",
     "output_type": "stream",
     "text": [
      "Epoch 9: 100%|██████████| 313/313 [00:01<00:00, 255.99it/s]"
     ]
    },
    {
     "name": "stderr",
     "output_type": "stream",
     "text": [
      "`Trainer.fit` stopped: `max_epochs=10` reached.\n"
     ]
    },
    {
     "name": "stdout",
     "output_type": "stream",
     "text": [
      "Epoch 9: 100%|██████████| 313/313 [00:01<00:00, 255.76it/s]\n",
      "Iteration No: 15 ended. Evaluation done at random point.\n",
      "Time taken: 14.1527\n",
      "Function value obtained: -0.2069\n",
      "Current minimum: -0.2124\n",
      "Iteration No: 16 started. Evaluating function at random point.\n"
     ]
    },
    {
     "name": "stderr",
     "output_type": "stream",
     "text": [
      "GPU available: True (cuda), used: True\n",
      "TPU available: False, using: 0 TPU cores\n",
      "HPU available: False, using: 0 HPUs\n",
      "LOCAL_RANK: 0 - CUDA_VISIBLE_DEVICES: [0]\n",
      "\n",
      "  | Name       | Type              | Params | Mode \n",
      "---------------------------------------------------------\n",
      "0 | features   | Sequential        | 114 K  | train\n",
      "1 | avgpool    | AdaptiveAvgPool2d | 0      | train\n",
      "2 | classifier | Sequential        | 163 K  | train\n",
      "---------------------------------------------------------\n",
      "278 K     Trainable params\n",
      "0         Non-trainable params\n",
      "278 K     Total params\n",
      "1.114     Total estimated model params size (MB)\n",
      "13        Modules in train mode\n",
      "0         Modules in eval mode\n"
     ]
    },
    {
     "name": "stdout",
     "output_type": "stream",
     "text": [
      "Epoch 9: 100%|██████████| 313/313 [00:01<00:00, 310.44it/s]"
     ]
    },
    {
     "name": "stderr",
     "output_type": "stream",
     "text": [
      "`Trainer.fit` stopped: `max_epochs=10` reached.\n"
     ]
    },
    {
     "name": "stdout",
     "output_type": "stream",
     "text": [
      "Epoch 9: 100%|██████████| 313/313 [00:01<00:00, 310.11it/s]\n",
      "Iteration No: 16 ended. Evaluation done at random point.\n",
      "Time taken: 11.5129\n",
      "Function value obtained: -0.1915\n",
      "Current minimum: -0.2124\n",
      "Iteration No: 17 started. Evaluating function at random point.\n"
     ]
    },
    {
     "name": "stderr",
     "output_type": "stream",
     "text": [
      "GPU available: True (cuda), used: True\n",
      "TPU available: False, using: 0 TPU cores\n",
      "HPU available: False, using: 0 HPUs\n",
      "LOCAL_RANK: 0 - CUDA_VISIBLE_DEVICES: [0]\n",
      "\n",
      "  | Name       | Type              | Params | Mode \n",
      "---------------------------------------------------------\n",
      "0 | features   | Sequential        | 114 K  | train\n",
      "1 | avgpool    | AdaptiveAvgPool2d | 0      | train\n",
      "2 | classifier | Sequential        | 163 K  | train\n",
      "---------------------------------------------------------\n",
      "278 K     Trainable params\n",
      "0         Non-trainable params\n",
      "278 K     Total params\n",
      "1.114     Total estimated model params size (MB)\n",
      "13        Modules in train mode\n",
      "0         Modules in eval mode\n"
     ]
    },
    {
     "name": "stdout",
     "output_type": "stream",
     "text": [
      "Epoch 9: 100%|██████████| 313/313 [00:01<00:00, 304.49it/s]"
     ]
    },
    {
     "name": "stderr",
     "output_type": "stream",
     "text": [
      "`Trainer.fit` stopped: `max_epochs=10` reached.\n"
     ]
    },
    {
     "name": "stdout",
     "output_type": "stream",
     "text": [
      "Epoch 9: 100%|██████████| 313/313 [00:01<00:00, 304.24it/s]\n",
      "Iteration No: 17 ended. Evaluation done at random point.\n",
      "Time taken: 11.7147\n",
      "Function value obtained: -0.1679\n",
      "Current minimum: -0.2124\n",
      "Iteration No: 18 started. Evaluating function at random point.\n"
     ]
    },
    {
     "name": "stderr",
     "output_type": "stream",
     "text": [
      "GPU available: True (cuda), used: True\n",
      "TPU available: False, using: 0 TPU cores\n",
      "HPU available: False, using: 0 HPUs\n",
      "LOCAL_RANK: 0 - CUDA_VISIBLE_DEVICES: [0]\n",
      "\n",
      "  | Name       | Type              | Params | Mode \n",
      "---------------------------------------------------------\n",
      "0 | features   | Sequential        | 132    | train\n",
      "1 | avgpool    | AdaptiveAvgPool2d | 0      | train\n",
      "2 | classifier | Sequential        | 1.8 K  | train\n",
      "---------------------------------------------------------\n",
      "1.9 K     Trainable params\n",
      "0         Non-trainable params\n",
      "1.9 K     Total params\n",
      "0.008     Total estimated model params size (MB)\n",
      "13        Modules in train mode\n",
      "0         Modules in eval mode\n"
     ]
    },
    {
     "name": "stdout",
     "output_type": "stream",
     "text": [
      "Epoch 9: 100%|██████████| 313/313 [00:00<00:00, 322.28it/s]"
     ]
    },
    {
     "name": "stderr",
     "output_type": "stream",
     "text": [
      "`Trainer.fit` stopped: `max_epochs=10` reached.\n"
     ]
    },
    {
     "name": "stdout",
     "output_type": "stream",
     "text": [
      "Epoch 9: 100%|██████████| 313/313 [00:00<00:00, 321.96it/s]\n",
      "Iteration No: 18 ended. Evaluation done at random point.\n",
      "Time taken: 11.2026\n",
      "Function value obtained: -0.0416\n",
      "Current minimum: -0.2124\n",
      "Iteration No: 19 started. Evaluating function at random point.\n"
     ]
    },
    {
     "name": "stderr",
     "output_type": "stream",
     "text": [
      "GPU available: True (cuda), used: True\n",
      "TPU available: False, using: 0 TPU cores\n",
      "HPU available: False, using: 0 HPUs\n",
      "LOCAL_RANK: 0 - CUDA_VISIBLE_DEVICES: [0]\n",
      "\n",
      "  | Name       | Type              | Params | Mode \n",
      "---------------------------------------------------------\n",
      "0 | features   | Sequential        | 408    | train\n",
      "1 | avgpool    | AdaptiveAvgPool2d | 0      | train\n",
      "2 | classifier | Sequential        | 3.6 K  | train\n",
      "---------------------------------------------------------\n",
      "4.0 K     Trainable params\n",
      "0         Non-trainable params\n",
      "4.0 K     Total params\n",
      "0.016     Total estimated model params size (MB)\n",
      "13        Modules in train mode\n",
      "0         Modules in eval mode\n"
     ]
    },
    {
     "name": "stdout",
     "output_type": "stream",
     "text": [
      "Epoch 9: 100%|██████████| 313/313 [00:00<00:00, 315.84it/s]"
     ]
    },
    {
     "name": "stderr",
     "output_type": "stream",
     "text": [
      "`Trainer.fit` stopped: `max_epochs=10` reached.\n"
     ]
    },
    {
     "name": "stdout",
     "output_type": "stream",
     "text": [
      "Epoch 9: 100%|██████████| 313/313 [00:00<00:00, 315.50it/s]\n",
      "Iteration No: 19 ended. Evaluation done at random point.\n",
      "Time taken: 11.4527\n",
      "Function value obtained: -0.0514\n",
      "Current minimum: -0.2124\n",
      "Iteration No: 20 started. Evaluating function at random point.\n"
     ]
    },
    {
     "name": "stderr",
     "output_type": "stream",
     "text": [
      "GPU available: True (cuda), used: True\n",
      "TPU available: False, using: 0 TPU cores\n",
      "HPU available: False, using: 0 HPUs\n",
      "LOCAL_RANK: 0 - CUDA_VISIBLE_DEVICES: [0]\n",
      "\n",
      "  | Name       | Type              | Params | Mode \n",
      "---------------------------------------------------------\n",
      "0 | features   | Sequential        | 85.3 K | train\n",
      "1 | avgpool    | AdaptiveAvgPool2d | 0      | train\n",
      "2 | classifier | Sequential        | 129 K  | train\n",
      "---------------------------------------------------------\n",
      "214 K     Trainable params\n",
      "0         Non-trainable params\n",
      "214 K     Total params\n",
      "0.857     Total estimated model params size (MB)\n",
      "13        Modules in train mode\n",
      "0         Modules in eval mode\n"
     ]
    },
    {
     "name": "stdout",
     "output_type": "stream",
     "text": [
      "Epoch 9: 100%|██████████| 313/313 [00:01<00:00, 309.81it/s]"
     ]
    },
    {
     "name": "stderr",
     "output_type": "stream",
     "text": [
      "`Trainer.fit` stopped: `max_epochs=10` reached.\n"
     ]
    },
    {
     "name": "stdout",
     "output_type": "stream",
     "text": [
      "Epoch 9: 100%|██████████| 313/313 [00:01<00:00, 309.56it/s]\n",
      "Iteration No: 20 ended. Evaluation done at random point.\n",
      "Time taken: 11.8218\n",
      "Function value obtained: -0.1764\n",
      "Current minimum: -0.2124\n"
     ]
    }
   ],
   "source": [
    "# do random search\n",
    "from skopt import dummy_minimize\n",
    "opt_random = dummy_minimize(\n",
    "    objective,\n",
    "    space,\n",
    "    n_calls=20,\n",
    "    verbose=True,\n",
    "    random_state=42\n",
    ")\n"
   ]
  },
  {
   "cell_type": "code",
   "execution_count": 17,
   "metadata": {},
   "outputs": [
    {
     "data": {
      "image/png": "[encoded data removed]",
      "text/plain": [
       "<Figure size 640x480 with 1 Axes>"
      ]
     },
     "metadata": {},
     "output_type": "display_data"
    }
   ],
   "source": [
    "## comparison between random search and bayesian optimization\n",
    "## we can plot the maximum oob per iteration of the sequence\n",
    "\n",
    "# collect the maximum each iteration of BO\n",
    "y_bo = np.maximum.accumulate(-opt_bo.func_vals).ravel()\n",
    "y_random = np.maximum.accumulate(-opt_random.func_vals).ravel()\n",
    "# define iteration number\n",
    "xs = range(1, len(y_bo) + 1)\n",
    "\n",
    "plt.plot(xs, y_random, 'o-', color = 'red', label='Random Search')\n",
    "plt.plot(xs, y_bo, 'o-', color = 'blue', label='Bayesian Optimization')\n",
    "plt.legend()\n",
    "plt.xlabel('Iterations')\n",
    "plt.ylabel('accuracy')\n",
    "plt.title('Comparison between Random Search and Bayesian Optimization')\n",
    "plt.show()"
   ]
  },
  {
   "cell_type": "code",
   "execution_count": 20,
   "metadata": {},
   "outputs": [
    {
     "name": "stdout",
     "output_type": "stream",
     "text": [
      "          fun: -0.2124\n",
      "            x: [np.int64(120)]\n",
      "    func_vals: [-2.054e-01 -1.284e-01 ... -5.140e-02 -1.764e-01]\n",
      "      x_iters: [[np.int64(102)], [np.int64(24)], [np.int64(100)], [np.int64(77)], [np.int64(58)], [np.int64(14)], [np.int64(59)], [np.int64(43)], [np.int64(19)], [np.int64(84)], [np.int64(8)], [np.int64(93)], [np.int64(120)], [np.int64(1)], [np.int64(127)], [np.int64(79)], [np.int64(79)], [np.int64(2)], [np.int64(4)], [np.int64(68)]]\n",
      "       models: []\n",
      "        space: Space([Integer(low=1, high=128, prior='uniform', transform='normalize')])\n",
      " random_state: RandomState(MT19937)\n",
      "        specs:     args:                    func: <function objective at 0x7f5412788540>\n",
      "                                      dimensions: [Integer(low=1, high=128, prior='uniform', transform='normalize')]\n",
      "                                  base_estimator: dummy\n",
      "                                         n_calls: 20\n",
      "                                 n_random_starts: None\n",
      "                                n_initial_points: 20\n",
      "                         initial_point_generator: random\n",
      "                                        acq_func: EI\n",
      "                                   acq_optimizer: sampling\n",
      "                                              x0: None\n",
      "                                              y0: None\n",
      "                                    random_state: 42\n",
      "                                         verbose: True\n",
      "                                        callback: None\n",
      "                                        n_points: 10000\n",
      "                            n_restarts_optimizer: 5\n",
      "                                              xi: 0.01\n",
      "                                           kappa: 1.96\n",
      "                                          n_jobs: 1\n",
      "                                model_queue_size: None\n",
      "                                space_constraint: None\n",
      "               function: base_minimize\n",
      "          fun: -0.2226\n",
      "            x: [np.int64(122)]\n",
      "    func_vals: [-1.894e-01 -1.194e-01 ... -1.963e-01 -1.509e-01]\n",
      "      x_iters: [[np.int64(105)], [np.int64(15)], [np.int64(17)], [np.int64(25)], [np.int64(31)], [np.int64(116)], [np.int64(128)], [np.int64(83)], [np.int64(66)], [np.int64(52)], [np.int64(1)], [np.int64(94)], [np.int64(74)], [np.int64(43)], [np.int64(122)], [np.int64(59)], [np.int64(89)], [np.int64(110)], [np.int64(99)], [np.int64(37)]]\n",
      "       models: [GaussianProcessRegressor(kernel=1**2 * Matern(length_scale=1, nu=2.5) + WhiteKernel(noise_level=0.0001),\n",
      "                                        n_restarts_optimizer=2, noise=0.0001, normalize_y=True,\n",
      "                                        random_state=626470177), GaussianProcessRegressor(kernel=1**2 * Matern(length_scale=1, nu=2.5) + WhiteKernel(noise_level=0.0001),\n",
      "                                        n_restarts_optimizer=2, noise=0.0001, normalize_y=True,\n",
      "                                        random_state=626470177), GaussianProcessRegressor(kernel=1**2 * Matern(length_scale=1, nu=2.5) + WhiteKernel(noise_level=0.0001),\n",
      "                                        n_restarts_optimizer=2, noise=0.0001, normalize_y=True,\n",
      "                                        random_state=626470177), GaussianProcessRegressor(kernel=1**2 * Matern(length_scale=1, nu=2.5) + WhiteKernel(noise_level=0.0001),\n",
      "                                        n_restarts_optimizer=2, noise=0.0001, normalize_y=True,\n",
      "                                        random_state=626470177), GaussianProcessRegressor(kernel=1**2 * Matern(length_scale=1, nu=2.5) + WhiteKernel(noise_level=0.0001),\n",
      "                                        n_restarts_optimizer=2, noise=0.0001, normalize_y=True,\n",
      "                                        random_state=626470177), GaussianProcessRegressor(kernel=1**2 * Matern(length_scale=1, nu=2.5) + WhiteKernel(noise_level=0.0001),\n",
      "                                        n_restarts_optimizer=2, noise=0.0001, normalize_y=True,\n",
      "                                        random_state=626470177), GaussianProcessRegressor(kernel=1**2 * Matern(length_scale=1, nu=2.5) + WhiteKernel(noise_level=0.0001),\n",
      "                                        n_restarts_optimizer=2, noise=0.0001, normalize_y=True,\n",
      "                                        random_state=626470177), GaussianProcessRegressor(kernel=1**2 * Matern(length_scale=1, nu=2.5) + WhiteKernel(noise_level=0.0001),\n",
      "                                        n_restarts_optimizer=2, noise=0.0001, normalize_y=True,\n",
      "                                        random_state=626470177), GaussianProcessRegressor(kernel=1**2 * Matern(length_scale=1, nu=2.5) + WhiteKernel(noise_level=0.0001),\n",
      "                                        n_restarts_optimizer=2, noise=0.0001, normalize_y=True,\n",
      "                                        random_state=626470177), GaussianProcessRegressor(kernel=1**2 * Matern(length_scale=1, nu=2.5) + WhiteKernel(noise_level=0.0001),\n",
      "                                        n_restarts_optimizer=2, noise=0.0001, normalize_y=True,\n",
      "                                        random_state=626470177), GaussianProcessRegressor(kernel=1**2 * Matern(length_scale=1, nu=2.5) + WhiteKernel(noise_level=0.0001),\n",
      "                                        n_restarts_optimizer=2, noise=0.0001, normalize_y=True,\n",
      "                                        random_state=626470177), GaussianProcessRegressor(kernel=1**2 * Matern(length_scale=1, nu=2.5) + WhiteKernel(noise_level=0.0001),\n",
      "                                        n_restarts_optimizer=2, noise=0.0001, normalize_y=True,\n",
      "                                        random_state=626470177), GaussianProcessRegressor(kernel=1**2 * Matern(length_scale=1, nu=2.5) + WhiteKernel(noise_level=0.0001),\n",
      "                                        n_restarts_optimizer=2, noise=0.0001, normalize_y=True,\n",
      "                                        random_state=626470177), GaussianProcessRegressor(kernel=1**2 * Matern(length_scale=1, nu=2.5) + WhiteKernel(noise_level=0.0001),\n",
      "                                        n_restarts_optimizer=2, noise=0.0001, normalize_y=True,\n",
      "                                        random_state=626470177), GaussianProcessRegressor(kernel=1**2 * Matern(length_scale=1, nu=2.5) + WhiteKernel(noise_level=0.0001),\n",
      "                                        n_restarts_optimizer=2, noise=0.0001, normalize_y=True,\n",
      "                                        random_state=626470177), GaussianProcessRegressor(kernel=1**2 * Matern(length_scale=1, nu=2.5) + WhiteKernel(noise_level=0.0001),\n",
      "                                        n_restarts_optimizer=2, noise=0.0001, normalize_y=True,\n",
      "                                        random_state=626470177)]\n",
      "        space: Space([Integer(low=1, high=128, prior='uniform', transform='normalize')])\n",
      " random_state: RandomState(MT19937)\n",
      "        specs:     args:                    func: <function objective at 0x7f5412788540>\n",
      "                                      dimensions: Space([Integer(low=1, high=128, prior='uniform', transform='normalize')])\n",
      "                                  base_estimator: GaussianProcessRegressor(kernel=1**2 * Matern(length_scale=1, nu=2.5),\n",
      "                                                                           n_restarts_optimizer=2, noise=0.0001, normalize_y=True,\n",
      "                                                                           random_state=626470177)\n",
      "                                         n_calls: 20\n",
      "                                 n_random_starts: 5\n",
      "                                n_initial_points: 10\n",
      "                         initial_point_generator: random\n",
      "                                        acq_func: EI\n",
      "                                   acq_optimizer: auto\n",
      "                                              x0: None\n",
      "                                              y0: None\n",
      "                                    random_state: RandomState(MT19937)\n",
      "                                         verbose: True\n",
      "                                        callback: None\n",
      "                                        n_points: 10000\n",
      "                            n_restarts_optimizer: 5\n",
      "                                              xi: 0.1\n",
      "                                           kappa: 1.96\n",
      "                                          n_jobs: 1\n",
      "                                model_queue_size: None\n",
      "                                space_constraint: None\n",
      "               function: base_minimize\n"
     ]
    }
   ],
   "source": [
    "# get the max pariter\n",
    "\n",
    "opt_bo.x_iters[np.argmax(-opt_bo.func_vals)]\n",
    "\n",
    "print(opt_random)\n",
    "print(opt_bo)"
   ]
  }
 ],
 "metadata": {
  "kernelspec": {
   "display_name": "02463",
   "language": "python",
   "name": "python3"
  },
  "language_info": {
   "codemirror_mode": {
    "name": "ipython",
    "version": 3
   },
   "file_extension": ".py",
   "mimetype": "text/x-python",
   "name": "python",
   "nbconvert_exporter": "python",
   "pygments_lexer": "ipython3",
   "version": "3.13.2"
  }
 },
 "nbformat": 4,
 "nbformat_minor": 2
}
